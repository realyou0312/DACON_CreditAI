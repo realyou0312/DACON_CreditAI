{
 "cells": [
  {
   "cell_type": "code",
   "execution_count": 1,
   "id": "present-damage",
   "metadata": {},
   "outputs": [],
   "source": [
    "import numpy as np\n",
    "import pandas as pd\n",
    "import seaborn as sns\n",
    "import matplotlib.pyplot as plt\n",
    "import warnings, random\n",
    "warnings.filterwarnings(action='ignore')\n",
    "\n",
    "from sklearn.ensemble import RandomForestClassifier\n",
    "from sklearn.metrics import classification_report, log_loss\n",
    "from sklearn.preprocessing import OneHotEncoder, LabelEncoder, StandardScaler, MinMaxScaler\n",
    "from sklearn.model_selection import train_test_split, GridSearchCV, KFold, StratifiedKFold\n",
    "\n",
    "from sklearn.svm import SVC\n",
    "from sklearn.linear_model import LogisticRegression\n",
    "from xgboost import XGBClassifier\n",
    "from lightgbm import LGBMClassifier\n",
    "import lightgbm as lgb"
   ]
  },
  {
   "cell_type": "code",
   "execution_count": 2,
   "id": "brave-canada",
   "metadata": {},
   "outputs": [],
   "source": [
    "train = pd.read_csv('train.csv')\n",
    "test = pd.read_csv('test.csv')"
   ]
  },
  {
   "cell_type": "code",
   "execution_count": 3,
   "id": "impaired-decrease",
   "metadata": {},
   "outputs": [],
   "source": [
    "train.drop(['FLAG_MOBIL'], axis=1, inplace=True)\n",
    "train.fillna('BaekSu', inplace=True) \n",
    "\n",
    "test.drop(['FLAG_MOBIL'], axis=1, inplace=True)\n",
    "test.fillna('BaekSu', inplace=True)\n"
   ]
  },
  {
   "cell_type": "code",
   "execution_count": 4,
   "id": "tropical-practice",
   "metadata": {},
   "outputs": [],
   "source": [
    "train = train[train['family_size'] <= 7]"
   ]
  },
  {
   "cell_type": "code",
   "execution_count": 5,
   "id": "vanilla-lexington",
   "metadata": {},
   "outputs": [],
   "source": [
    "#train.set_index('index', inplace=True)\n",
    "train = train.reset_index(drop=True)"
   ]
  },
  {
   "cell_type": "code",
   "execution_count": 6,
   "id": "residential-seattle",
   "metadata": {},
   "outputs": [
    {
     "data": {
      "text/html": [
       "<div>\n",
       "<style scoped>\n",
       "    .dataframe tbody tr th:only-of-type {\n",
       "        vertical-align: middle;\n",
       "    }\n",
       "\n",
       "    .dataframe tbody tr th {\n",
       "        vertical-align: top;\n",
       "    }\n",
       "\n",
       "    .dataframe thead th {\n",
       "        text-align: right;\n",
       "    }\n",
       "</style>\n",
       "<table border=\"1\" class=\"dataframe\">\n",
       "  <thead>\n",
       "    <tr style=\"text-align: right;\">\n",
       "      <th></th>\n",
       "      <th>index</th>\n",
       "      <th>gender</th>\n",
       "      <th>car</th>\n",
       "      <th>reality</th>\n",
       "      <th>child_num</th>\n",
       "      <th>income_total</th>\n",
       "      <th>income_type</th>\n",
       "      <th>edu_type</th>\n",
       "      <th>family_type</th>\n",
       "      <th>house_type</th>\n",
       "      <th>DAYS_BIRTH</th>\n",
       "      <th>DAYS_EMPLOYED</th>\n",
       "      <th>work_phone</th>\n",
       "      <th>phone</th>\n",
       "      <th>email</th>\n",
       "      <th>occyp_type</th>\n",
       "      <th>family_size</th>\n",
       "      <th>begin_month</th>\n",
       "      <th>credit</th>\n",
       "    </tr>\n",
       "  </thead>\n",
       "  <tbody>\n",
       "    <tr>\n",
       "      <th>0</th>\n",
       "      <td>0</td>\n",
       "      <td>F</td>\n",
       "      <td>N</td>\n",
       "      <td>N</td>\n",
       "      <td>0</td>\n",
       "      <td>202500.0</td>\n",
       "      <td>Commercial associate</td>\n",
       "      <td>Higher education</td>\n",
       "      <td>Married</td>\n",
       "      <td>Municipal apartment</td>\n",
       "      <td>-13899</td>\n",
       "      <td>-4709</td>\n",
       "      <td>0</td>\n",
       "      <td>0</td>\n",
       "      <td>0</td>\n",
       "      <td>BaekSu</td>\n",
       "      <td>2.0</td>\n",
       "      <td>-6.0</td>\n",
       "      <td>1.0</td>\n",
       "    </tr>\n",
       "    <tr>\n",
       "      <th>1</th>\n",
       "      <td>1</td>\n",
       "      <td>F</td>\n",
       "      <td>N</td>\n",
       "      <td>Y</td>\n",
       "      <td>1</td>\n",
       "      <td>247500.0</td>\n",
       "      <td>Commercial associate</td>\n",
       "      <td>Secondary / secondary special</td>\n",
       "      <td>Civil marriage</td>\n",
       "      <td>House / apartment</td>\n",
       "      <td>-11380</td>\n",
       "      <td>-1540</td>\n",
       "      <td>0</td>\n",
       "      <td>0</td>\n",
       "      <td>1</td>\n",
       "      <td>Laborers</td>\n",
       "      <td>3.0</td>\n",
       "      <td>-5.0</td>\n",
       "      <td>1.0</td>\n",
       "    </tr>\n",
       "    <tr>\n",
       "      <th>2</th>\n",
       "      <td>2</td>\n",
       "      <td>M</td>\n",
       "      <td>Y</td>\n",
       "      <td>Y</td>\n",
       "      <td>0</td>\n",
       "      <td>450000.0</td>\n",
       "      <td>Working</td>\n",
       "      <td>Higher education</td>\n",
       "      <td>Married</td>\n",
       "      <td>House / apartment</td>\n",
       "      <td>-19087</td>\n",
       "      <td>-4434</td>\n",
       "      <td>0</td>\n",
       "      <td>1</td>\n",
       "      <td>0</td>\n",
       "      <td>Managers</td>\n",
       "      <td>2.0</td>\n",
       "      <td>-22.0</td>\n",
       "      <td>2.0</td>\n",
       "    </tr>\n",
       "    <tr>\n",
       "      <th>3</th>\n",
       "      <td>3</td>\n",
       "      <td>F</td>\n",
       "      <td>N</td>\n",
       "      <td>Y</td>\n",
       "      <td>0</td>\n",
       "      <td>202500.0</td>\n",
       "      <td>Commercial associate</td>\n",
       "      <td>Secondary / secondary special</td>\n",
       "      <td>Married</td>\n",
       "      <td>House / apartment</td>\n",
       "      <td>-15088</td>\n",
       "      <td>-2092</td>\n",
       "      <td>0</td>\n",
       "      <td>1</td>\n",
       "      <td>0</td>\n",
       "      <td>Sales staff</td>\n",
       "      <td>2.0</td>\n",
       "      <td>-37.0</td>\n",
       "      <td>0.0</td>\n",
       "    </tr>\n",
       "    <tr>\n",
       "      <th>4</th>\n",
       "      <td>4</td>\n",
       "      <td>F</td>\n",
       "      <td>Y</td>\n",
       "      <td>Y</td>\n",
       "      <td>0</td>\n",
       "      <td>157500.0</td>\n",
       "      <td>State servant</td>\n",
       "      <td>Higher education</td>\n",
       "      <td>Married</td>\n",
       "      <td>House / apartment</td>\n",
       "      <td>-15037</td>\n",
       "      <td>-2105</td>\n",
       "      <td>0</td>\n",
       "      <td>0</td>\n",
       "      <td>0</td>\n",
       "      <td>Managers</td>\n",
       "      <td>2.0</td>\n",
       "      <td>-26.0</td>\n",
       "      <td>2.0</td>\n",
       "    </tr>\n",
       "    <tr>\n",
       "      <th>...</th>\n",
       "      <td>...</td>\n",
       "      <td>...</td>\n",
       "      <td>...</td>\n",
       "      <td>...</td>\n",
       "      <td>...</td>\n",
       "      <td>...</td>\n",
       "      <td>...</td>\n",
       "      <td>...</td>\n",
       "      <td>...</td>\n",
       "      <td>...</td>\n",
       "      <td>...</td>\n",
       "      <td>...</td>\n",
       "      <td>...</td>\n",
       "      <td>...</td>\n",
       "      <td>...</td>\n",
       "      <td>...</td>\n",
       "      <td>...</td>\n",
       "      <td>...</td>\n",
       "      <td>...</td>\n",
       "    </tr>\n",
       "    <tr>\n",
       "      <th>26446</th>\n",
       "      <td>26452</td>\n",
       "      <td>F</td>\n",
       "      <td>N</td>\n",
       "      <td>N</td>\n",
       "      <td>2</td>\n",
       "      <td>225000.0</td>\n",
       "      <td>State servant</td>\n",
       "      <td>Secondary / secondary special</td>\n",
       "      <td>Married</td>\n",
       "      <td>House / apartment</td>\n",
       "      <td>-12079</td>\n",
       "      <td>-1984</td>\n",
       "      <td>0</td>\n",
       "      <td>0</td>\n",
       "      <td>0</td>\n",
       "      <td>Core staff</td>\n",
       "      <td>4.0</td>\n",
       "      <td>-2.0</td>\n",
       "      <td>1.0</td>\n",
       "    </tr>\n",
       "    <tr>\n",
       "      <th>26447</th>\n",
       "      <td>26453</td>\n",
       "      <td>F</td>\n",
       "      <td>N</td>\n",
       "      <td>Y</td>\n",
       "      <td>1</td>\n",
       "      <td>180000.0</td>\n",
       "      <td>Working</td>\n",
       "      <td>Higher education</td>\n",
       "      <td>Separated</td>\n",
       "      <td>House / apartment</td>\n",
       "      <td>-15291</td>\n",
       "      <td>-2475</td>\n",
       "      <td>0</td>\n",
       "      <td>0</td>\n",
       "      <td>0</td>\n",
       "      <td>BaekSu</td>\n",
       "      <td>2.0</td>\n",
       "      <td>-47.0</td>\n",
       "      <td>2.0</td>\n",
       "    </tr>\n",
       "    <tr>\n",
       "      <th>26448</th>\n",
       "      <td>26454</td>\n",
       "      <td>F</td>\n",
       "      <td>Y</td>\n",
       "      <td>N</td>\n",
       "      <td>0</td>\n",
       "      <td>292500.0</td>\n",
       "      <td>Working</td>\n",
       "      <td>Secondary / secondary special</td>\n",
       "      <td>Civil marriage</td>\n",
       "      <td>With parents</td>\n",
       "      <td>-10082</td>\n",
       "      <td>-2015</td>\n",
       "      <td>0</td>\n",
       "      <td>0</td>\n",
       "      <td>0</td>\n",
       "      <td>Core staff</td>\n",
       "      <td>2.0</td>\n",
       "      <td>-25.0</td>\n",
       "      <td>2.0</td>\n",
       "    </tr>\n",
       "    <tr>\n",
       "      <th>26449</th>\n",
       "      <td>26455</td>\n",
       "      <td>M</td>\n",
       "      <td>N</td>\n",
       "      <td>Y</td>\n",
       "      <td>0</td>\n",
       "      <td>171000.0</td>\n",
       "      <td>Working</td>\n",
       "      <td>Incomplete higher</td>\n",
       "      <td>Single / not married</td>\n",
       "      <td>House / apartment</td>\n",
       "      <td>-10145</td>\n",
       "      <td>-107</td>\n",
       "      <td>0</td>\n",
       "      <td>0</td>\n",
       "      <td>0</td>\n",
       "      <td>Laborers</td>\n",
       "      <td>1.0</td>\n",
       "      <td>-59.0</td>\n",
       "      <td>2.0</td>\n",
       "    </tr>\n",
       "    <tr>\n",
       "      <th>26450</th>\n",
       "      <td>26456</td>\n",
       "      <td>F</td>\n",
       "      <td>N</td>\n",
       "      <td>N</td>\n",
       "      <td>0</td>\n",
       "      <td>81000.0</td>\n",
       "      <td>Working</td>\n",
       "      <td>Secondary / secondary special</td>\n",
       "      <td>Civil marriage</td>\n",
       "      <td>House / apartment</td>\n",
       "      <td>-19569</td>\n",
       "      <td>-1013</td>\n",
       "      <td>0</td>\n",
       "      <td>0</td>\n",
       "      <td>0</td>\n",
       "      <td>Security staff</td>\n",
       "      <td>2.0</td>\n",
       "      <td>-9.0</td>\n",
       "      <td>2.0</td>\n",
       "    </tr>\n",
       "  </tbody>\n",
       "</table>\n",
       "<p>26451 rows × 19 columns</p>\n",
       "</div>"
      ],
      "text/plain": [
       "       index gender car reality  child_num  income_total  \\\n",
       "0          0      F   N       N          0      202500.0   \n",
       "1          1      F   N       Y          1      247500.0   \n",
       "2          2      M   Y       Y          0      450000.0   \n",
       "3          3      F   N       Y          0      202500.0   \n",
       "4          4      F   Y       Y          0      157500.0   \n",
       "...      ...    ...  ..     ...        ...           ...   \n",
       "26446  26452      F   N       N          2      225000.0   \n",
       "26447  26453      F   N       Y          1      180000.0   \n",
       "26448  26454      F   Y       N          0      292500.0   \n",
       "26449  26455      M   N       Y          0      171000.0   \n",
       "26450  26456      F   N       N          0       81000.0   \n",
       "\n",
       "                income_type                       edu_type  \\\n",
       "0      Commercial associate               Higher education   \n",
       "1      Commercial associate  Secondary / secondary special   \n",
       "2                   Working               Higher education   \n",
       "3      Commercial associate  Secondary / secondary special   \n",
       "4             State servant               Higher education   \n",
       "...                     ...                            ...   \n",
       "26446         State servant  Secondary / secondary special   \n",
       "26447               Working               Higher education   \n",
       "26448               Working  Secondary / secondary special   \n",
       "26449               Working              Incomplete higher   \n",
       "26450               Working  Secondary / secondary special   \n",
       "\n",
       "                family_type           house_type  DAYS_BIRTH  DAYS_EMPLOYED  \\\n",
       "0                   Married  Municipal apartment      -13899          -4709   \n",
       "1            Civil marriage    House / apartment      -11380          -1540   \n",
       "2                   Married    House / apartment      -19087          -4434   \n",
       "3                   Married    House / apartment      -15088          -2092   \n",
       "4                   Married    House / apartment      -15037          -2105   \n",
       "...                     ...                  ...         ...            ...   \n",
       "26446               Married    House / apartment      -12079          -1984   \n",
       "26447             Separated    House / apartment      -15291          -2475   \n",
       "26448        Civil marriage         With parents      -10082          -2015   \n",
       "26449  Single / not married    House / apartment      -10145           -107   \n",
       "26450        Civil marriage    House / apartment      -19569          -1013   \n",
       "\n",
       "       work_phone  phone  email      occyp_type  family_size  begin_month  \\\n",
       "0               0      0      0          BaekSu          2.0         -6.0   \n",
       "1               0      0      1        Laborers          3.0         -5.0   \n",
       "2               0      1      0        Managers          2.0        -22.0   \n",
       "3               0      1      0     Sales staff          2.0        -37.0   \n",
       "4               0      0      0        Managers          2.0        -26.0   \n",
       "...           ...    ...    ...             ...          ...          ...   \n",
       "26446           0      0      0      Core staff          4.0         -2.0   \n",
       "26447           0      0      0          BaekSu          2.0        -47.0   \n",
       "26448           0      0      0      Core staff          2.0        -25.0   \n",
       "26449           0      0      0        Laborers          1.0        -59.0   \n",
       "26450           0      0      0  Security staff          2.0         -9.0   \n",
       "\n",
       "       credit  \n",
       "0         1.0  \n",
       "1         1.0  \n",
       "2         2.0  \n",
       "3         0.0  \n",
       "4         2.0  \n",
       "...       ...  \n",
       "26446     1.0  \n",
       "26447     2.0  \n",
       "26448     2.0  \n",
       "26449     2.0  \n",
       "26450     2.0  \n",
       "\n",
       "[26451 rows x 19 columns]"
      ]
     },
     "execution_count": 6,
     "metadata": {},
     "output_type": "execute_result"
    }
   ],
   "source": [
    "train"
   ]
  },
  {
   "cell_type": "code",
   "execution_count": 31,
   "id": "analyzed-alignment",
   "metadata": {},
   "outputs": [],
   "source": [
    "# train.loc[(train.income_type=='Student'), 'income_type'] = 'Pensioner'\n",
    "# test.loc[(test.income_type=='Student'), 'income_type'] = 'Pensioner'"
   ]
  },
  {
   "cell_type": "code",
   "execution_count": null,
   "id": "surprising-winner",
   "metadata": {},
   "outputs": [],
   "source": []
  },
  {
   "cell_type": "code",
   "execution_count": 32,
   "id": "sublime-barcelona",
   "metadata": {},
   "outputs": [],
   "source": [
    "# train['YEARS_EMPLOYED'] = round(train['DAYS_EMPLOYED']/365, 5)\n",
    "# train['YEARS_BIRTH'] = round(train['DAYS_BIRTH']/365, 5)\n",
    "\n",
    "# test['YEARS_EMPLOYED'] = round(test['DAYS_EMPLOYED']/365, 5)\n",
    "# test['YEARS_BIRTH'] = round(test['DAYS_BIRTH']/365, 5)"
   ]
  },
  {
   "cell_type": "code",
   "execution_count": 33,
   "id": "sized-southeast",
   "metadata": {},
   "outputs": [],
   "source": [
    "# train.drop(['DAYS_EMPLOYED'], axis=1, inplace=True)\n",
    "# train.drop(['DAYS_BIRTH'], axis=1, inplace=True)\n",
    "\n",
    "# test.drop(['DAYS_EMPLOYED'], axis=1, inplace=True)\n",
    "# test.drop(['DAYS_BIRTH'], axis=1, inplace=True)"
   ]
  },
  {
   "cell_type": "code",
   "execution_count": 34,
   "id": "guided-change",
   "metadata": {},
   "outputs": [],
   "source": [
    "# train[\"DAYS_EMPLOYED\"][train[\"DAYS_EMPLOYED\"] >0] = train[\"DAYS_EMPLOYED\"][train[\"DAYS_EMPLOYED\"] >0].replace(365243, 0)\n",
    "# train[\"DAYS_EMPLOYED\"][train[\"DAYS_EMPLOYED\"] >0]\n",
    "\n",
    "# test[\"DAYS_EMPLOYED\"][test[\"DAYS_EMPLOYED\"] >0] = test[\"DAYS_EMPLOYED\"][test[\"DAYS_EMPLOYED\"] >0].replace(365243, 0)\n",
    "# test[\"DAYS_EMPLOYED\"][test[\"DAYS_EMPLOYED\"] >0]"
   ]
  },
  {
   "cell_type": "code",
   "execution_count": 7,
   "id": "oriental-superior",
   "metadata": {},
   "outputs": [],
   "source": [
    "feats = ['DAYS_BIRTH', 'begin_month', 'DAYS_EMPLOYED']\n",
    "for feat in feats:\n",
    "    train[feat]=-train[feat]  \n",
    "    test[feat]=-test[feat]"
   ]
  },
  {
   "cell_type": "code",
   "execution_count": 53,
   "id": "classical-motor",
   "metadata": {
    "scrolled": true
   },
   "outputs": [
    {
     "data": {
      "image/png": "[encoded data removed]",
      "text/plain": [
       "<Figure size 2160x1800 with 2 Axes>"
      ]
     },
     "metadata": {
      "needs_background": "light"
     },
     "output_type": "display_data"
    }
   ],
   "source": [
    "train_corr = train.corr()\n",
    "ax = plt.subplots(figsize=(30, 25))\n",
    "ax = sns.heatmap(train_corr, center=0, annot = True, linewidths=.5)"
   ]
  },
  {
   "cell_type": "code",
   "execution_count": 9,
   "id": "focal-subdivision",
   "metadata": {},
   "outputs": [],
   "source": [
    "for df in [train,test]:\n",
    "    df['DAYS_BIRTH_DAYS_EMPLOYED_ratio'] = df['DAYS_BIRTH'] / df['DAYS_EMPLOYED']\n",
    "    df['income_total_DAYS_BIRTH_ratio'] = df['income_total'] / df['DAYS_BIRTH']\n",
    "    df['income_total_DAYS_EMPLOYED_ratio'] = df['income_total'] / df['DAYS_EMPLOYED']\n",
    "    df['parents'] = df['family_size'] - df['child_num']\n",
    "    df['Workingdays'] = df['DAYS_BIRTH'] - df['DAYS_EMPLOYED']\n",
    "    df['income_total_workingday_ratio'] = df['income_total'] / df['Workingdays']\n",
    "    #df['income_total_family_size_ratio'] = df['income_total'] / df['family_size']"
   ]
  },
  {
   "cell_type": "code",
   "execution_count": 11,
   "id": "korean-microwave",
   "metadata": {},
   "outputs": [
    {
     "data": {
      "text/plain": [
       "['gender',\n",
       " 'car',\n",
       " 'reality',\n",
       " 'income_type',\n",
       " 'edu_type',\n",
       " 'family_type',\n",
       " 'house_type',\n",
       " 'occyp_type']"
      ]
     },
     "execution_count": 11,
     "metadata": {},
     "output_type": "execute_result"
    }
   ],
   "source": [
    "categorical_feats"
   ]
  },
  {
   "cell_type": "code",
   "execution_count": 62,
   "id": "golden-brunei",
   "metadata": {},
   "outputs": [],
   "source": [
    "# le = LabelEncoder()\n",
    "# for df in [train,test]:\n",
    "#     df['gender'] = le.fit_transform(df['gender'].astype(str))\n",
    "#     df['car'] = le.fit_transform(df['car'].astype(str))\n",
    "#     df['reality'] = le.fit_transform(df['reality'].astype(str))\n",
    "#     df['income_type'] = le.fit_transform(df['income_type'].astype(str))\n",
    "#     df['edu_type'] = le.fit_transform(df['edu_type'].astype(str))\n",
    "#     df['family_type'] = le.fit_transform(df['family_type'].astype(str))\n",
    "#     df['house_type'] = le.fit_transform(df['house_type'].astype(str))\n",
    "#     df['family_type'] = le.fit_transform(df['family_type'].astype(str))\n",
    "#     df['occyp_type'] = le.fit_transform(df['occyp_type'].astype(str))"
   ]
  },
  {
   "cell_type": "code",
   "execution_count": 12,
   "id": "consistent-export",
   "metadata": {},
   "outputs": [],
   "source": [
    "# train_corr = train.corr()\n",
    "# ax = plt.subplots(figsize=(30, 25))\n",
    "# ax = sns.heatmap(train_corr, center=0, annot = True, linewidths=.5)"
   ]
  },
  {
   "cell_type": "markdown",
   "id": "exact-judgment",
   "metadata": {},
   "source": [
    "### ID생성 / 중복컬럼 제거"
   ]
  },
  {
   "cell_type": "code",
   "execution_count": 158,
   "id": "horizontal-christian",
   "metadata": {},
   "outputs": [],
   "source": [
    "# train['ID'] = \\\n",
    "# train['child_num'].astype(str) + '_' + train['income_total'].astype(str) + '_' +\\\n",
    "# train['DAYS_BIRTH'].astype(str) + '_' + train['DAYS_EMPLOYED'].astype(str) + '_' +\\\n",
    "# train['work_phone'].astype(str) + '_' + train['phone'].astype(str) + '_' +\\\n",
    "# train['email'].astype(str) + '_' + train['family_size'].astype(str) + '_' +\\\n",
    "# train['gender'].astype(str) + '_' + train['car'].astype(str) + '_' +\\\n",
    "# train['reality'].astype(str) + '_' + train['income_type'].astype(str) + '_' +\\\n",
    "# train['edu_type'].astype(str) + '_' + train['family_type'].astype(str) + '_' +\\\n",
    "# train['house_type'].astype(str) + '_' + train['occyp_type'].astype(str)\n",
    "\n",
    "# test['ID'] = \\\n",
    "# test['child_num'].astype(str) + '_' + test['income_total'].astype(str) + '_' +\\\n",
    "# test['DAYS_BIRTH'].astype(str) + '_' + test['DAYS_EMPLOYED'].astype(str) + '_' +\\\n",
    "# test['work_phone'].astype(str) + '_' + test['phone'].astype(str) + '_' +\\\n",
    "# test['email'].astype(str) + '_' + test['family_size'].astype(str) + '_' +\\\n",
    "# test['gender'].astype(str) + '_' + test['car'].astype(str) + '_' +\\\n",
    "# test['reality'].astype(str) + '_' + test['income_type'].astype(str) + '_' +\\\n",
    "# test['edu_type'].astype(str) + '_' + test['family_type'].astype(str) + '_' +\\\n",
    "# test['house_type'].astype(str) + '_' + test['occyp_type'].astype(str)"
   ]
  },
  {
   "cell_type": "code",
   "execution_count": 160,
   "id": "abstract-drove",
   "metadata": {},
   "outputs": [],
   "source": [
    "# ID : 기존에 있는 아이디면 그대로 인코딩, 없으면 -1로 인코딩\n",
    "# le = LabelEncoder()\n",
    "# train['ID'] = le.fit_transform(train['ID'])\n",
    "# test.loc[~test['ID'].isin(le.classes_),'ID'] = -1\n",
    "# test.loc[test['ID'].isin(le.classes_),'ID'] = le.transform(test['ID'][test['ID'].isin(le.classes_)])"
   ]
  },
  {
   "cell_type": "code",
   "execution_count": 162,
   "id": "loose-solution",
   "metadata": {},
   "outputs": [],
   "source": [
    "# test = test.astype({'ID': 'int32'})"
   ]
  },
  {
   "cell_type": "code",
   "execution_count": 163,
   "id": "extreme-divide",
   "metadata": {},
   "outputs": [],
   "source": [
    "# target = 'credit'\n",
    "# income_type_mean = train.groupby('income_type')[target].mean()\n",
    "# train['income_type_mean'] = train['income_type'].map(income_type_mean)\n",
    "# test['income_type_mean'] = test['income_type'].map(income_type_mean)"
   ]
  },
  {
   "cell_type": "code",
   "execution_count": 164,
   "id": "aerial-indonesia",
   "metadata": {},
   "outputs": [],
   "source": [
    "# open_month = pd.DataFrame(train.groupby('ID')['begin_month'].min(), index=train.groupby('ID')['begin_month'].min().index)\n",
    "# open_month= open_month.astype('int')\n",
    "# open_month.columns = ['open_month']\n",
    "# om_dict = open_month.open_month.to_dict()\n",
    "\n",
    "# train['open_month'] = train[\"ID\"]\n",
    "# train['open_month'] = train['open_month'].map(om_dict)"
   ]
  },
  {
   "cell_type": "code",
   "execution_count": 165,
   "id": "english-adoption",
   "metadata": {},
   "outputs": [],
   "source": [
    "# open_month = pd.DataFrame(test.groupby('ID')['begin_month'].min(), index=test.groupby('ID')['begin_month'].min().index)\n",
    "# open_month= open_month.astype('int')\n",
    "# open_month.columns = ['open_month']\n",
    "# om_dict = open_month.open_month.to_dict()\n",
    "\n",
    "# test['open_month'] = test[\"ID\"]\n",
    "# test['open_month'] = test['open_month'].map(om_dict)"
   ]
  },
  {
   "cell_type": "code",
   "execution_count": 166,
   "id": "neural-supervision",
   "metadata": {},
   "outputs": [],
   "source": [
    "#train.sort_values(by=['index'], axis=0, inplace=True, ignore_index=True)\n",
    "#test.sort_values(by=['index'], axis=0, inplace=True, ignore_index=True)"
   ]
  },
  {
   "cell_type": "code",
   "execution_count": 167,
   "id": "stainless-papua",
   "metadata": {},
   "outputs": [],
   "source": [
    "#train.drop(['ID'], axis=1, inplace=True)\n",
    "#test.drop(['ID'], axis=1, inplace=True)"
   ]
  },
  {
   "cell_type": "code",
   "execution_count": 168,
   "id": "reported-valuable",
   "metadata": {},
   "outputs": [],
   "source": [
    "#new_data=pd.DataFrame(train.groupby([\"ID\"])[\"begin_month\"].agg(min))\n",
    "#new_data"
   ]
  },
  {
   "cell_type": "code",
   "execution_count": 13,
   "id": "aquatic-witness",
   "metadata": {},
   "outputs": [
    {
     "name": "stdout",
     "output_type": "stream",
     "text": [
      "Number of Numerical features:  16\n",
      "Number of Categorical features:  8\n"
     ]
    }
   ],
   "source": [
    "numerical_feats = train.dtypes[train.dtypes != \"object\"].index.tolist()\n",
    "numerical_feats.remove('credit')\n",
    "# numerical_feats.remove('ID')\n",
    "print(\"Number of Numerical features: \", len(numerical_feats))\n",
    "\n",
    "categorical_feats = train.dtypes[train.dtypes == \"object\"].index.tolist()\n",
    "print(\"Number of Categorical features: \", len(categorical_feats))\n",
    "\n",
    "total_feats = numerical_feats + categorical_feats"
   ]
  },
  {
   "cell_type": "markdown",
   "id": "appointed-scientist",
   "metadata": {},
   "source": [
    "## LabelEncoding, Scaling"
   ]
  },
  {
   "cell_type": "code",
   "execution_count": 14,
   "id": "impossible-hardwood",
   "metadata": {},
   "outputs": [],
   "source": [
    "for feat in categorical_feats:\n",
    "    encoder = LabelEncoder()\n",
    "    train[feat] = encoder.fit_transform(train[feat])\n",
    "    test[feat] = encoder.transform(test[feat])"
   ]
  },
  {
   "cell_type": "code",
   "execution_count": 15,
   "id": "short-smith",
   "metadata": {},
   "outputs": [],
   "source": [
    "# for col in ['family_size', 'child_num']:\n",
    "#     train[col] = np.log2(1 + train[col])\n",
    "#     test[col] = np.log2(1 + test[col])\n",
    "\n",
    "# feats = ['income_total', 'DAYS_BIRTH', 'DAYS_EMPLOYED']\n",
    "scaler = StandardScaler()\n",
    "train[numerical_feats] = scaler.fit_transform(train[numerical_feats])\n",
    "test[numerical_feats] = scaler.transform(test[numerical_feats])\n",
    "\n",
    "# scaler = MinMaxScaler()\n",
    "# train[['DAYS_EMPLOYED']] = scaler.fit_transform(train[['DAYS_EMPLOYED']])\n",
    "# test[['DAYS_EMPLOYED']] = scaler.transform(test[['DAYS_EMPLOYED']])\n"
   ]
  },
  {
   "cell_type": "markdown",
   "id": "handed-boundary",
   "metadata": {},
   "source": [
    "## Modeling"
   ]
  },
  {
   "cell_type": "code",
   "execution_count": 30,
   "id": "resistant-lodging",
   "metadata": {},
   "outputs": [],
   "source": [
    "n_est = 1500\n",
    "seed = 42\n",
    "n_fold = 5\n",
    "n_class = 3\n",
    "\n",
    "rf_params = {\n",
    "    'max_depth': 16,\n",
    "    'min_samples_leaf': 8,\n",
    "    'random_state': seed\n",
    "}\n",
    "\n",
    "lgb_params = {\n",
    "    'metric': 'multi_logloss',\n",
    "    'n_estimators': n_est,\n",
    "    'objective': 'multiclass',\n",
    "    'random_state': seed,\n",
    "    'learning_rate': 0.01,\n",
    "    'min_child_samples': 20,\n",
    "    'reg_alpha': 3e-5,\n",
    "    'reg_lambda': 9e-2,\n",
    "    'num_leaves': 128,\n",
    "    'colsample_bytree': 0.8,\n",
    "    'subsample': 0.8,\n",
    "    'num_class': n_class,\n",
    "    'early_stopping_rounds':500,\n",
    "    'n_jobs':-1,\n",
    "    'max_depth':-1,\n",
    "}\n",
    "\n",
    "# lgb_params = {\n",
    "#                     'objective':'multiclass',\n",
    "#                     'num_class': 3,\n",
    "#                     'boosting_type':'gbdt',\n",
    "#                     'metric':'multi_logloss',\n",
    "                    \n",
    "#                     'learning_rate':0.02,\n",
    "#                     'num_leaves': 127,\n",
    "                    \n",
    "#                     'tree_learner':'serial',\n",
    "#                     \"min_child_weight\": 0.01,\n",
    "#                     'colsample_bytree': 0.7,\n",
    "#                     'subsample_freq':1,\n",
    "#                     'subsample':0.5,\n",
    "#                     'n_estimators':100000,\n",
    "#                     'max_bin':800,\n",
    "#                     'verbose':-1,\n",
    "#                     'seed': SEED,\n",
    "#                     'early_stopping_rounds':300, \n",
    "#                 }\n",
    "\n",
    "xgb_params = {\n",
    "    'objective': 'multi:softprob',\n",
    "    'subsample': 0.8,\n",
    "    'colsample_bytree': 0.8,\n",
    "    'learning_rate': 0.01,\n",
    "    'random_state': seed,\n",
    "    'num_class': n_class,\n",
    "    'max_depth': 6,\n",
    "    'n_estimators': n_est,\n",
    "    'reg_alpha': 3e-5,\n",
    "    'reg_lambda': 9e-2,\n",
    "}"
   ]
  },
  {
   "cell_type": "code",
   "execution_count": 32,
   "id": "cathedral-personal",
   "metadata": {},
   "outputs": [],
   "source": [
    "models = {'RF': RandomForestClassifier(**rf_params), \n",
    "               'LGBM': LGBMClassifier(**lgb_params),\n",
    "}"
   ]
  },
  {
   "cell_type": "code",
   "execution_count": 33,
   "id": "tender-stick",
   "metadata": {},
   "outputs": [],
   "source": [
    "# X = train.drop('credit', axis=1)\n",
    "# y = train['credit']\n",
    "# X_test = test"
   ]
  },
  {
   "cell_type": "code",
   "execution_count": 34,
   "id": "ecological-sheep",
   "metadata": {},
   "outputs": [],
   "source": [
    "target = 'credit'"
   ]
  },
  {
   "cell_type": "code",
   "execution_count": 35,
   "id": "fancy-forge",
   "metadata": {},
   "outputs": [],
   "source": [
    "train8, train2 = train_test_split(train, test_size=0.2, random_state=seed)"
   ]
  },
  {
   "cell_type": "code",
   "execution_count": 36,
   "id": "confirmed-conservation",
   "metadata": {},
   "outputs": [
    {
     "data": {
      "text/plain": [
       "['gender',\n",
       " 'car',\n",
       " 'reality',\n",
       " 'child_num',\n",
       " 'income_total',\n",
       " 'income_type',\n",
       " 'edu_type',\n",
       " 'family_type',\n",
       " 'house_type',\n",
       " 'DAYS_BIRTH',\n",
       " 'DAYS_EMPLOYED',\n",
       " 'work_phone',\n",
       " 'phone',\n",
       " 'email',\n",
       " 'occyp_type',\n",
       " 'family_size',\n",
       " 'begin_month',\n",
       " 'DAYS_BIRTH_DAYS_EMPLOYED_ratio',\n",
       " 'income_total_DAYS_BIRTH_ratio',\n",
       " 'income_total_DAYS_EMPLOYED_ratio',\n",
       " 'parents',\n",
       " 'Workingdays',\n",
       " 'income_total_workingday_ratio']"
      ]
     },
     "execution_count": 36,
     "metadata": {},
     "output_type": "execute_result"
    }
   ],
   "source": [
    "remove_features = []\n",
    "remove_features += ['index' , 'credit']\n",
    "features = [col for col in list(train) if col not in remove_features]\n",
    "features"
   ]
  },
  {
   "cell_type": "code",
   "execution_count": 52,
   "id": "patient-extraction",
   "metadata": {},
   "outputs": [],
   "source": [
    "def make_test(old_score = 0 , output =False):\n",
    "    features_columns = [col for col in list(train8) if col not in remove_features]\n",
    "    X_train, y_train = train8[features_columns], train8[target]    \n",
    "    X_val, y_val = train2[features_columns], train2[target]\n",
    "    \n",
    "    tt_df = train2[['index',target]]        \n",
    "    y_preds = np.zeros((train2.shape[0],3))\n",
    "    \n",
    "    tr_data = lgb.Dataset(X_train, label=y_train)\n",
    "    vl_data = lgb.Dataset(X_val, label=y_val) \n",
    "    estimator = lgb.train(\n",
    "            lgb_params,\n",
    "            tr_data,\n",
    "            valid_sets = [tr_data, vl_data],\n",
    "            verbose_eval = 100,\n",
    "        )\n",
    "    y_preds += estimator.predict(X_val)\n",
    "    feature_imp = pd.DataFrame(sorted(zip(estimator.feature_importance(),X_train.columns)), columns=['Value','Feature'])\n",
    "    \n",
    "    m_results = []\n",
    "    print('#'*20)\n",
    "\n",
    "    \n",
    "    g_logloss = log_loss(tt_df[target], y_preds)\n",
    "    score_diff = g_logloss - old_score\n",
    "    print('Global log loss', g_logloss)\n",
    "    m_results.append(g_logloss)\n",
    "    \n",
    "    print('#'*20)\n",
    "    print('Features Preformance:', g_logloss)\n",
    "    print('Diff with previous__:', score_diff)\n",
    "    \n",
    "    return tt_df, feature_imp, m_results, estimator ,g_logloss"
   ]
  },
  {
   "cell_type": "code",
   "execution_count": 53,
   "id": "lesser-momentum",
   "metadata": {},
   "outputs": [
    {
     "name": "stdout",
     "output_type": "stream",
     "text": [
      "[LightGBM] [Warning] Auto-choosing row-wise multi-threading, the overhead of testing was 0.005977 seconds.\n",
      "You can set `force_row_wise=true` to remove the overhead.\n",
      "And if memory is not enough, you can set `force_col_wise=true`.\n",
      "[LightGBM] [Info] Total Bins 2104\n",
      "[LightGBM] [Info] Number of data points in the train set: 21160, number of used features: 23\n",
      "[LightGBM] [Info] Start training from score -2.086270\n",
      "[LightGBM] [Info] Start training from score -1.452523\n",
      "[LightGBM] [Info] Start training from score -0.443367\n",
      "Training until validation scores don't improve for 500 rounds\n",
      "[100]\ttraining's multi_logloss: 0.726436\tvalid_1's multi_logloss: 0.775991\n",
      "[200]\ttraining's multi_logloss: 0.649814\tvalid_1's multi_logloss: 0.741145\n",
      "[300]\ttraining's multi_logloss: 0.598671\tvalid_1's multi_logloss: 0.725624\n",
      "[400]\ttraining's multi_logloss: 0.559223\tvalid_1's multi_logloss: 0.716524\n",
      "[500]\ttraining's multi_logloss: 0.52613\tvalid_1's multi_logloss: 0.711116\n",
      "[600]\ttraining's multi_logloss: 0.496038\tvalid_1's multi_logloss: 0.707415\n",
      "[700]\ttraining's multi_logloss: 0.469639\tvalid_1's multi_logloss: 0.704961\n",
      "[800]\ttraining's multi_logloss: 0.446216\tvalid_1's multi_logloss: 0.704024\n",
      "[900]\ttraining's multi_logloss: 0.424283\tvalid_1's multi_logloss: 0.704013\n",
      "[1000]\ttraining's multi_logloss: 0.404214\tvalid_1's multi_logloss: 0.705171\n",
      "[1100]\ttraining's multi_logloss: 0.385527\tvalid_1's multi_logloss: 0.706057\n",
      "[1200]\ttraining's multi_logloss: 0.367938\tvalid_1's multi_logloss: 0.707689\n",
      "[1300]\ttraining's multi_logloss: 0.352159\tvalid_1's multi_logloss: 0.709925\n",
      "Early stopping, best iteration is:\n",
      "[850]\ttraining's multi_logloss: 0.435093\tvalid_1's multi_logloss: 0.70367\n",
      "####################\n",
      "Global log loss 0.7036702849981495\n",
      "####################\n",
      "Features Preformance: 0.7036702849981495\n",
      "Diff with previous__: 0.7036702849981495\n"
     ]
    }
   ],
   "source": [
    "tt_df, feature_imp, m_results, model ,g_logloss= make_test()"
   ]
  },
  {
   "cell_type": "code",
   "execution_count": null,
   "id": "exceptional-spelling",
   "metadata": {
    "scrolled": false
   },
   "outputs": [
    {
     "name": "stdout",
     "output_type": "stream",
     "text": [
      "Training RF:\n",
      "\tCV Log Loss: 0.748759\n",
      "Training LGBM:\n"
     ]
    }
   ],
   "source": [
    "skfold = StratifiedKFold(n_splits=5, shuffle=True, random_state=42)\n",
    "folds=[]\n",
    "for train_idx, valid_idx in skfold.split(X, y):\n",
    "        folds.append((train_idx, valid_idx))\n",
    "\n",
    "pred_dic = {}\n",
    "pred_test_dic = {}\n",
    "        \n",
    "for name in models:\n",
    "    print(f'Training {name}:')\n",
    "    pred = np.zeros((X.shape[0], 3), dtype=float)\n",
    "    pred_test = np.zeros((X_test.shape[0], 3), dtype=float)\n",
    "    for fold in range(5):\n",
    "        train_idx, valid_idx = folds[fold]\n",
    "        X_train, X_valid, y_train, y_valid = X.iloc[train_idx], X.iloc[valid_idx], y[train_idx], y[valid_idx]\n",
    "        models[name].fit(X_train, y_train)\n",
    "        pred[valid_idx] = models[name].predict_proba(X_valid)\n",
    "        pred_test += models[name].predict_proba(X_test) / 5\n",
    "        \n",
    "    pred_dic[name] = pred\n",
    "    pred_test_dic[name] = pred_test\n",
    "    print(f'\\tCV Log Loss: {log_loss(y, pred):.6f}')"
   ]
  },
  {
   "cell_type": "code",
   "execution_count": 47,
   "id": "racial-handling",
   "metadata": {},
   "outputs": [
    {
     "data": {
      "text/plain": [
       "<AxesSubplot:title={'center':'Feature importance'}, xlabel='Feature importance', ylabel='Features'>"
      ]
     },
     "execution_count": 47,
     "metadata": {},
     "output_type": "execute_result"
    },
    {
     "data": {
      "image/png": "[encoded data removed]",
      "text/plain": [
       "<Figure size 432x432 with 1 Axes>"
      ]
     },
     "metadata": {
      "needs_background": "light"
     },
     "output_type": "display_data"
    }
   ],
   "source": [
    "from lightgbm import plot_importance\n",
    "import matplotlib.pyplot as plt\n",
    "%matplotlib inline\n",
    "\n",
    "f, ax = plt.subplots(figsize=(6, 6))\n",
    "plot_importance(models['LGBM'], ax=ax)"
   ]
  },
  {
   "cell_type": "code",
   "execution_count": 35,
   "id": "intelligent-newspaper",
   "metadata": {},
   "outputs": [],
   "source": [
    "pred_df = pd.DataFrame(data=pred_test_dic['LGBM'])\n",
    "pred_df\n",
    "\n",
    "sub = pd.read_csv('sample_submission.csv', index_col='index')\n",
    "sub[sub.columns] = pred_df.values\n",
    "sub.to_csv('submission0430_ratio.csv')"
   ]
  },
  {
   "cell_type": "markdown",
   "id": "alien-belize",
   "metadata": {},
   "source": [
    "### Stacking\n",
    "ref)https://dacon.io/codeshare/1828?dtype=recent"
   ]
  },
  {
   "cell_type": "code",
   "execution_count": 132,
   "id": "basic-bruce",
   "metadata": {},
   "outputs": [],
   "source": [
    "X_train7 , X_val3, y_train7, y_val3 = train_test_split(X, y, test_size=0.3, random_state=42)"
   ]
  },
  {
   "cell_type": "code",
   "execution_count": 142,
   "id": "dressed-latitude",
   "metadata": {},
   "outputs": [],
   "source": [
    "from sklearn.ensemble import StackingClassifier\n",
    "\n",
    "clf1 = RandomForestClassifier()\n",
    "clf2 = SVC(probability=True)\n",
    "clf3 = LogisticRegression(multi_class = 'ovr')"
   ]
  },
  {
   "cell_type": "code",
   "execution_count": 143,
   "id": "champion-anthony",
   "metadata": {},
   "outputs": [],
   "source": [
    "clf = StackingClassifier(estimators=[('rf', clf1), ('svc', clf2), ('lr', clf3)], #모델 합치기\n",
    "    final_estimator=models['LGBM'], n_jobs = -1, stack_method = 'predict_proba', cv = 5)"
   ]
  },
  {
   "cell_type": "code",
   "execution_count": 144,
   "id": "weighted-polls",
   "metadata": {},
   "outputs": [],
   "source": [
    "clf = clf.fit(X_train7, y_train7)"
   ]
  },
  {
   "cell_type": "code",
   "execution_count": 145,
   "id": "noted-semester",
   "metadata": {},
   "outputs": [],
   "source": [
    "y_pred_stack = clf.predict_proba(X_val3)"
   ]
  },
  {
   "cell_type": "code",
   "execution_count": 146,
   "id": "surface-choir",
   "metadata": {},
   "outputs": [
    {
     "name": "stdout",
     "output_type": "stream",
     "text": [
      "\tCV Log Loss: 0.797139\n"
     ]
    }
   ],
   "source": [
    "    print(f'\\tCV Log Loss: {log_loss(y_val3, y_pred_stack):.6f}')"
   ]
  },
  {
   "cell_type": "code",
   "execution_count": 22,
   "id": "still-hunter",
   "metadata": {},
   "outputs": [
    {
     "data": {
      "text/html": [
       "<div>\n",
       "<style scoped>\n",
       "    .dataframe tbody tr th:only-of-type {\n",
       "        vertical-align: middle;\n",
       "    }\n",
       "\n",
       "    .dataframe tbody tr th {\n",
       "        vertical-align: top;\n",
       "    }\n",
       "\n",
       "    .dataframe thead th {\n",
       "        text-align: right;\n",
       "    }\n",
       "</style>\n",
       "<table border=\"1\" class=\"dataframe\">\n",
       "  <thead>\n",
       "    <tr style=\"text-align: right;\">\n",
       "      <th></th>\n",
       "      <th>0</th>\n",
       "      <th>1</th>\n",
       "      <th>2</th>\n",
       "    </tr>\n",
       "  </thead>\n",
       "  <tbody>\n",
       "    <tr>\n",
       "      <th>0</th>\n",
       "      <td>0.057444</td>\n",
       "      <td>0.096680</td>\n",
       "      <td>0.845876</td>\n",
       "    </tr>\n",
       "    <tr>\n",
       "      <th>1</th>\n",
       "      <td>0.359846</td>\n",
       "      <td>0.185873</td>\n",
       "      <td>0.454281</td>\n",
       "    </tr>\n",
       "    <tr>\n",
       "      <th>2</th>\n",
       "      <td>0.068424</td>\n",
       "      <td>0.103853</td>\n",
       "      <td>0.827724</td>\n",
       "    </tr>\n",
       "    <tr>\n",
       "      <th>3</th>\n",
       "      <td>0.046842</td>\n",
       "      <td>0.098206</td>\n",
       "      <td>0.854952</td>\n",
       "    </tr>\n",
       "    <tr>\n",
       "      <th>4</th>\n",
       "      <td>0.039791</td>\n",
       "      <td>0.113171</td>\n",
       "      <td>0.847038</td>\n",
       "    </tr>\n",
       "    <tr>\n",
       "      <th>...</th>\n",
       "      <td>...</td>\n",
       "      <td>...</td>\n",
       "      <td>...</td>\n",
       "    </tr>\n",
       "    <tr>\n",
       "      <th>9995</th>\n",
       "      <td>0.082736</td>\n",
       "      <td>0.222441</td>\n",
       "      <td>0.694823</td>\n",
       "    </tr>\n",
       "    <tr>\n",
       "      <th>9996</th>\n",
       "      <td>0.114122</td>\n",
       "      <td>0.554413</td>\n",
       "      <td>0.331465</td>\n",
       "    </tr>\n",
       "    <tr>\n",
       "      <th>9997</th>\n",
       "      <td>0.297213</td>\n",
       "      <td>0.145989</td>\n",
       "      <td>0.556797</td>\n",
       "    </tr>\n",
       "    <tr>\n",
       "      <th>9998</th>\n",
       "      <td>0.303982</td>\n",
       "      <td>0.284102</td>\n",
       "      <td>0.411916</td>\n",
       "    </tr>\n",
       "    <tr>\n",
       "      <th>9999</th>\n",
       "      <td>0.067947</td>\n",
       "      <td>0.204750</td>\n",
       "      <td>0.727303</td>\n",
       "    </tr>\n",
       "  </tbody>\n",
       "</table>\n",
       "<p>10000 rows × 3 columns</p>\n",
       "</div>"
      ],
      "text/plain": [
       "             0         1         2\n",
       "0     0.057444  0.096680  0.845876\n",
       "1     0.359846  0.185873  0.454281\n",
       "2     0.068424  0.103853  0.827724\n",
       "3     0.046842  0.098206  0.854952\n",
       "4     0.039791  0.113171  0.847038\n",
       "...        ...       ...       ...\n",
       "9995  0.082736  0.222441  0.694823\n",
       "9996  0.114122  0.554413  0.331465\n",
       "9997  0.297213  0.145989  0.556797\n",
       "9998  0.303982  0.284102  0.411916\n",
       "9999  0.067947  0.204750  0.727303\n",
       "\n",
       "[10000 rows x 3 columns]"
      ]
     },
     "execution_count": 22,
     "metadata": {},
     "output_type": "execute_result"
    }
   ],
   "source": [
    "pred_df = pd.DataFrame(data=y_pred_stack)\n",
    "pred_df"
   ]
  },
  {
   "cell_type": "code",
   "execution_count": 33,
   "id": "vocational-pound",
   "metadata": {},
   "outputs": [],
   "source": [
    "sub = pd.read_csv('sample_submission.csv', index_col='index')\n",
    "sub[sub.columns] = pred_df.values\n",
    "sub.to_csv('submission0428_stacking.csv')"
   ]
  }
 ],
 "metadata": {
  "kernelspec": {
   "display_name": "Python 3",
   "language": "python",
   "name": "python3"
  },
  "language_info": {
   "codemirror_mode": {
    "name": "ipython",
    "version": 3
   },
   "file_extension": ".py",
   "mimetype": "text/x-python",
   "name": "python",
   "nbconvert_exporter": "python",
   "pygments_lexer": "ipython3",
   "version": "3.7.10"
  },
  "varInspector": {
   "cols": {
    "lenName": 16,
    "lenType": 16,
    "lenVar": 40
   },
   "kernels_config": {
    "python": {
     "delete_cmd_postfix": "",
     "delete_cmd_prefix": "del ",
     "library": "var_list.py",
     "varRefreshCmd": "print(var_dic_list())"
    },
    "r": {
     "delete_cmd_postfix": ") ",
     "delete_cmd_prefix": "rm(",
     "library": "var_list.r",
     "varRefreshCmd": "cat(var_dic_list()) "
    }
   },
   "types_to_exclude": [
    "module",
    "function",
    "builtin_function_or_method",
    "instance",
    "_Feature"
   ],
   "window_display": false
  }
 },
 "nbformat": 4,
 "nbformat_minor": 5
}
