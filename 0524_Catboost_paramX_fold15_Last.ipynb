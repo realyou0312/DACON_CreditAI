{
  "nbformat": 4,
  "nbformat_minor": 5,
  "metadata": {
    "colab": {
      "name": "Catboost_paramX_fold15_Last",
      "provenance": [],
      "collapsed_sections": [],
      "toc_visible": true,
      "include_colab_link": true
    },
    "kernelspec": {
      "display_name": "Python 3",
      "language": "python",
      "name": "python3"
    },
    "language_info": {
      "codemirror_mode": {
        "name": "ipython",
        "version": 3
      },
      "file_extension": ".py",
      "mimetype": "text/x-python",
      "name": "python",
      "nbconvert_exporter": "python",
      "pygments_lexer": "ipython3",
      "version": "3.7.10"
    },
    "varInspector": {
      "cols": {
        "lenName": 16,
        "lenType": 16,
        "lenVar": 40
      },
      "kernels_config": {
        "python": {
          "delete_cmd_postfix": "",
          "delete_cmd_prefix": "del ",
          "library": "var_list.py",
          "varRefreshCmd": "print(var_dic_list())"
        },
        "r": {
          "delete_cmd_postfix": ") ",
          "delete_cmd_prefix": "rm(",
          "library": "var_list.r",
          "varRefreshCmd": "cat(var_dic_list()) "
        }
      },
      "types_to_exclude": [
        "module",
        "function",
        "builtin_function_or_method",
        "instance",
        "_Feature"
      ],
      "window_display": false
    },
    "accelerator": "GPU"
  },
  "cells": [
    {
      "cell_type": "markdown",
      "metadata": {
        "id": "view-in-github",
        "colab_type": "text"
      },
      "source": [
        "<a href=\"https://colab.research.google.com/github/realyou0312/DACON_CreditAI/blob/main/0524_Catboost_paramX_fold15_Last.ipynb\" target=\"_parent\"><img src=\"https://colab.research.google.com/assets/colab-badge.svg\" alt=\"Open In Colab\"/></a>"
      ]
    },
    {
      "cell_type": "markdown",
      "metadata": {
        "id": "9VS7Pworn0al"
      },
      "source": [
        "## Google Colab mount"
      ],
      "id": "9VS7Pworn0al"
    },
    {
      "cell_type": "code",
      "metadata": {
        "colab": {
          "base_uri": "https://localhost:8080/"
        },
        "id": "yGTLj8birupV",
        "outputId": "42b004cc-377e-4380-8abd-45551b676804"
      },
      "source": [
        "from google.colab import drive\n",
        "drive.mount('/content/drive')"
      ],
      "id": "yGTLj8birupV",
      "execution_count": null,
      "outputs": [
        {
          "output_type": "stream",
          "text": [
            "Drive already mounted at /content/drive; to attempt to forcibly remount, call drive.mount(\"/content/drive\", force_remount=True).\n"
          ],
          "name": "stdout"
        }
      ]
    },
    {
      "cell_type": "markdown",
      "metadata": {
        "id": "-4XEewzgn-ss"
      },
      "source": [
        "## 패키지 설치"
      ],
      "id": "-4XEewzgn-ss"
    },
    {
      "cell_type": "code",
      "metadata": {
        "colab": {
          "base_uri": "https://localhost:8080/"
        },
        "id": "U68I7zTXw_3b",
        "outputId": "3c69ef05-35d4-45e6-ef34-7384d30cb75a"
      },
      "source": [
        "!pip install catboost\n",
        "!pip install category_encoders"
      ],
      "id": "U68I7zTXw_3b",
      "execution_count": null,
      "outputs": [
        {
          "output_type": "stream",
          "text": [
            "Requirement already satisfied: catboost in /usr/local/lib/python3.7/dist-packages (0.25.1)\n",
            "Requirement already satisfied: plotly in /usr/local/lib/python3.7/dist-packages (from catboost) (4.4.1)\n",
            "Requirement already satisfied: six in /usr/local/lib/python3.7/dist-packages (from catboost) (1.15.0)\n",
            "Requirement already satisfied: numpy>=1.16.0 in /usr/local/lib/python3.7/dist-packages (from catboost) (1.19.5)\n",
            "Requirement already satisfied: graphviz in /usr/local/lib/python3.7/dist-packages (from catboost) (0.10.1)\n",
            "Requirement already satisfied: matplotlib in /usr/local/lib/python3.7/dist-packages (from catboost) (3.2.2)\n",
            "Requirement already satisfied: pandas>=0.24.0 in /usr/local/lib/python3.7/dist-packages (from catboost) (1.1.5)\n",
            "Requirement already satisfied: scipy in /usr/local/lib/python3.7/dist-packages (from catboost) (1.4.1)\n",
            "Requirement already satisfied: retrying>=1.3.3 in /usr/local/lib/python3.7/dist-packages (from plotly->catboost) (1.3.3)\n",
            "Requirement already satisfied: pyparsing!=2.0.4,!=2.1.2,!=2.1.6,>=2.0.1 in /usr/local/lib/python3.7/dist-packages (from matplotlib->catboost) (2.4.7)\n",
            "Requirement already satisfied: kiwisolver>=1.0.1 in /usr/local/lib/python3.7/dist-packages (from matplotlib->catboost) (1.3.1)\n",
            "Requirement already satisfied: python-dateutil>=2.1 in /usr/local/lib/python3.7/dist-packages (from matplotlib->catboost) (2.8.1)\n",
            "Requirement already satisfied: cycler>=0.10 in /usr/local/lib/python3.7/dist-packages (from matplotlib->catboost) (0.10.0)\n",
            "Requirement already satisfied: pytz>=2017.2 in /usr/local/lib/python3.7/dist-packages (from pandas>=0.24.0->catboost) (2018.9)\n",
            "Requirement already satisfied: category_encoders in /usr/local/lib/python3.7/dist-packages (2.2.2)\n",
            "Requirement already satisfied: pandas>=0.21.1 in /usr/local/lib/python3.7/dist-packages (from category_encoders) (1.1.5)\n",
            "Requirement already satisfied: scipy>=1.0.0 in /usr/local/lib/python3.7/dist-packages (from category_encoders) (1.4.1)\n",
            "Requirement already satisfied: patsy>=0.5.1 in /usr/local/lib/python3.7/dist-packages (from category_encoders) (0.5.1)\n",
            "Requirement already satisfied: scikit-learn>=0.20.0 in /usr/local/lib/python3.7/dist-packages (from category_encoders) (0.22.2.post1)\n",
            "Requirement already satisfied: statsmodels>=0.9.0 in /usr/local/lib/python3.7/dist-packages (from category_encoders) (0.10.2)\n",
            "Requirement already satisfied: numpy>=1.14.0 in /usr/local/lib/python3.7/dist-packages (from category_encoders) (1.19.5)\n",
            "Requirement already satisfied: pytz>=2017.2 in /usr/local/lib/python3.7/dist-packages (from pandas>=0.21.1->category_encoders) (2018.9)\n",
            "Requirement already satisfied: python-dateutil>=2.7.3 in /usr/local/lib/python3.7/dist-packages (from pandas>=0.21.1->category_encoders) (2.8.1)\n",
            "Requirement already satisfied: six in /usr/local/lib/python3.7/dist-packages (from patsy>=0.5.1->category_encoders) (1.15.0)\n",
            "Requirement already satisfied: joblib>=0.11 in /usr/local/lib/python3.7/dist-packages (from scikit-learn>=0.20.0->category_encoders) (1.0.1)\n"
          ],
          "name": "stdout"
        }
      ]
    },
    {
      "cell_type": "markdown",
      "metadata": {
        "id": "8LJCvRl7oBio"
      },
      "source": [
        "## 라이브러리 구성"
      ],
      "id": "8LJCvRl7oBio"
    },
    {
      "cell_type": "code",
      "metadata": {
        "id": "present-damage"
      },
      "source": [
        "import numpy as np\n",
        "import pandas as pd\n",
        "import seaborn as sns\n",
        "import matplotlib.pyplot as plt\n",
        "import warnings, random\n",
        "warnings.filterwarnings(action='ignore')\n",
        "\n",
        "from sklearn.metrics import classification_report, log_loss\n",
        "from sklearn.preprocessing import StandardScaler\n",
        "from category_encoders.ordinal import OrdinalEncoder\n",
        "from sklearn.model_selection import train_test_split, StratifiedKFold\n",
        "\n",
        "from sklearn.cluster import KMeans\n",
        "from catboost import CatBoostClassifier, Pool\n"
      ],
      "id": "present-damage",
      "execution_count": null,
      "outputs": []
    },
    {
      "cell_type": "markdown",
      "metadata": {
        "id": "aqMDcWHPoFqk"
      },
      "source": [
        "## 데이터 불러오기"
      ],
      "id": "aqMDcWHPoFqk"
    },
    {
      "cell_type": "code",
      "metadata": {
        "id": "MjdahwTmB8h7"
      },
      "source": [
        "path = '/content/drive/MyDrive/DACON_Credit/'\n",
        "train = pd.read_csv(path + 'train.csv')\n",
        "test = pd.read_csv(path + 'test.csv')"
      ],
      "id": "MjdahwTmB8h7",
      "execution_count": null,
      "outputs": []
    },
    {
      "cell_type": "markdown",
      "metadata": {
        "id": "G44GYE4emFYO"
      },
      "source": [
        "## 분석에 불필요한 index과 모든 값이 1로 동일한 FLAG_MOBIL 삭제"
      ],
      "id": "G44GYE4emFYO"
    },
    {
      "cell_type": "code",
      "metadata": {
        "id": "impaired-decrease"
      },
      "source": [
        "train.drop(['index', 'FLAG_MOBIL'], axis=1, inplace=True)\n",
        "test.drop(['index', 'FLAG_MOBIL'], axis=1, inplace=True)"
      ],
      "id": "impaired-decrease",
      "execution_count": null,
      "outputs": []
    },
    {
      "cell_type": "markdown",
      "metadata": {
        "id": "4nvO__s0me6V"
      },
      "source": [
        "## Null값 대체"
      ],
      "id": "4nvO__s0me6V"
    },
    {
      "cell_type": "code",
      "metadata": {
        "id": "56fO9BUjmVwq"
      },
      "source": [
        "train.fillna('NaN', inplace=True) \n",
        "test.fillna('NaN', inplace=True)"
      ],
      "id": "56fO9BUjmVwq",
      "execution_count": null,
      "outputs": []
    },
    {
      "cell_type": "markdown",
      "metadata": {
        "id": "HkVP2qfCl1Ah"
      },
      "source": [
        "### DAYS_EMPLOYED 가 양수인 데이터는 현재 무직자로 판단, 0 처리"
      ],
      "id": "HkVP2qfCl1Ah"
    },
    {
      "cell_type": "code",
      "metadata": {
        "id": "wooden-authorization"
      },
      "source": [
        "train['DAYS_EMPLOYED'] = train['DAYS_EMPLOYED'].map(lambda x: 0 if x > 0 else x)\n",
        "test['DAYS_EMPLOYED'] = test['DAYS_EMPLOYED'].map(lambda x: 0 if x > 0 else x)"
      ],
      "id": "wooden-authorization",
      "execution_count": null,
      "outputs": []
    },
    {
      "cell_type": "markdown",
      "metadata": {
        "id": "XnkXCo6alnXj"
      },
      "source": [
        "## train['family_size'] > 8 인 데이터는 test에 없기 때문에 이상치로 판단 후 제거"
      ],
      "id": "XnkXCo6alnXj"
    },
    {
      "cell_type": "code",
      "metadata": {
        "id": "tropical-practice"
      },
      "source": [
        "train = train[(train['family_size'] <= 7)]\n",
        "train = train.reset_index(drop=True)"
      ],
      "id": "tropical-practice",
      "execution_count": null,
      "outputs": []
    },
    {
      "cell_type": "markdown",
      "metadata": {
        "id": "above-oasis"
      },
      "source": [
        "### 음수값 -> 양수 변환"
      ],
      "id": "above-oasis"
    },
    {
      "cell_type": "code",
      "metadata": {
        "id": "oriental-superior"
      },
      "source": [
        "feats = ['DAYS_BIRTH', 'begin_month', 'DAYS_EMPLOYED']\n",
        "for feat in feats:\n",
        "    train[feat]=np.abs(train[feat])\n",
        "    test[feat]=np.abs(test[feat])"
      ],
      "id": "oriental-superior",
      "execution_count": null,
      "outputs": []
    },
    {
      "cell_type": "markdown",
      "metadata": {
        "id": "smooth-guyana"
      },
      "source": [
        "### Feature Engineering\n",
        "ref) rollcake님 글 https://dacon.io/competitions/official/235713/codeshare/2526?page=1&dtype=recent"
      ],
      "id": "smooth-guyana"
    },
    {
      "cell_type": "code",
      "metadata": {
        "id": "focal-subdivision"
      },
      "source": [
        "for df in [train,test]:\n",
        "    df['before_EMPLOYED'] = df['DAYS_BIRTH'] - df['DAYS_EMPLOYED']\n",
        "    df['income_total_befofeEMP_ratio'] = df['income_total'] / df['before_EMPLOYED']\n",
        "    \n",
        "    df['Age'] = df['DAYS_BIRTH'] // 365\n",
        "    df['DAYS_BIRTH_m'] = np.floor(df['DAYS_BIRTH'] / 30) - ((np.floor(df['DAYS_BIRTH'] / 30) / 12).astype(int) * 12)\n",
        "    df['DAYS_BIRTH_w'] = np.floor(df['DAYS_BIRTH'] / 7) - ((np.floor(df['DAYS_BIRTH'] / 7) / 4).astype(int) * 4)\n",
        "\n",
        "    df['before_EMPLOYED_m'] = np.floor(df['before_EMPLOYED'] / 30) - ((np.floor(df['before_EMPLOYED'] / 30) / 12).astype(int) * 12)\n",
        "    df['before_EMPLOYED_w'] = np.floor(df['before_EMPLOYED'] / 7) - ((np.floor(df['before_EMPLOYED'] / 7) / 4).astype(int) * 4)\n",
        "    \n",
        "    df['EMPLOYED'] = df['DAYS_EMPLOYED'] // 365\n",
        "    df['DAYS_EMPLOYED_m'] = np.floor(df['DAYS_EMPLOYED'] / 30) - ((np.floor(df['DAYS_EMPLOYED'] / 30) / 12).astype(int) * 12)\n",
        "    df['DAYS_EMPLOYED_w'] = np.floor(df['DAYS_EMPLOYED'] / 7) - ((np.floor(df['DAYS_EMPLOYED'] / 7) / 4).astype(int) * 4)\n",
        "\n",
        "    df['ability'] = df['income_total'] / (df['DAYS_BIRTH'] + df['DAYS_EMPLOYED'])\n",
        "\n",
        "    df['income_mean'] = df['income_total'] / df['family_size']\n",
        "    \n",
        "    df['ID'] = \\\n",
        "    df['child_num'].astype(str) + '_' + df['income_total'].astype(str) + '_' +\\\n",
        "    df['DAYS_BIRTH'].astype(str) + '_' + df['DAYS_EMPLOYED'].astype(str) + '_' +\\\n",
        "    df['work_phone'].astype(str) + '_' + df['phone'].astype(str) + '_' +\\\n",
        "    df['email'].astype(str) + '_' + df['family_size'].astype(str) + '_' +\\\n",
        "    df['gender'].astype(str) + '_' + df['car'].astype(str) + '_' +\\\n",
        "    df['reality'].astype(str) + '_' + df['income_type'].astype(str) + '_' +\\\n",
        "    df['edu_type'].astype(str) + '_' + df['family_type'].astype(str) + '_' +\\\n",
        "    df['house_type'].astype(str) + '_' + df['occyp_type'].astype(str)\n"
      ],
      "id": "focal-subdivision",
      "execution_count": null,
      "outputs": []
    },
    {
      "cell_type": "markdown",
      "metadata": {
        "id": "frequent-organization"
      },
      "source": [
        "### 중복 될 수 있는 컬럼 삭제"
      ],
      "id": "frequent-organization"
    },
    {
      "cell_type": "code",
      "metadata": {
        "id": "naked-shaft"
      },
      "source": [
        "cols = [\n",
        "\n",
        "    'child_num',\n",
        "    'DAYS_BIRTH',\n",
        "    'DAYS_EMPLOYED',\n",
        "\n",
        "]\n",
        "\n",
        "train.drop(cols, axis=1, inplace=True)\n",
        "test.drop(cols, axis=1, inplace=True)"
      ],
      "id": "naked-shaft",
      "execution_count": null,
      "outputs": []
    },
    {
      "cell_type": "markdown",
      "metadata": {
        "id": "h5Wo9r0PFTDm"
      },
      "source": [
        "### Numeric, Category 컬럼 분류"
      ],
      "id": "h5Wo9r0PFTDm"
    },
    {
      "cell_type": "code",
      "metadata": {
        "id": "aquatic-witness",
        "colab": {
          "base_uri": "https://localhost:8080/"
        },
        "outputId": "10f7a50f-af35-4b2b-8bf9-a39458b76517"
      },
      "source": [
        "numerical_feats = train.dtypes[train.dtypes != \"object\"].index.tolist()\n",
        "numerical_feats.remove('credit')\n",
        "print(\"Number of Numerical features: \", len(numerical_feats))\n",
        "\n",
        "categorical_feats = train.dtypes[train.dtypes == \"object\"].index.tolist()\n",
        "print(\"Number of Categorical features: \", len(categorical_feats))\n"
      ],
      "id": "aquatic-witness",
      "execution_count": null,
      "outputs": [
        {
          "output_type": "stream",
          "text": [
            "Number of Numerical features:  18\n",
            "Number of Categorical features:  9\n"
          ],
          "name": "stdout"
        }
      ]
    },
    {
      "cell_type": "code",
      "metadata": {
        "id": "iLK3i4V7VfUe",
        "colab": {
          "base_uri": "https://localhost:8080/"
        },
        "outputId": "f909d475-868d-4751-d0a1-2d029eb27709"
      },
      "source": [
        "numerical_feats"
      ],
      "id": "iLK3i4V7VfUe",
      "execution_count": null,
      "outputs": [
        {
          "output_type": "execute_result",
          "data": {
            "text/plain": [
              "['income_total',\n",
              " 'work_phone',\n",
              " 'phone',\n",
              " 'email',\n",
              " 'family_size',\n",
              " 'begin_month',\n",
              " 'before_EMPLOYED',\n",
              " 'income_total_befofeEMP_ratio',\n",
              " 'Age',\n",
              " 'DAYS_BIRTH_m',\n",
              " 'DAYS_BIRTH_w',\n",
              " 'before_EMPLOYED_m',\n",
              " 'before_EMPLOYED_w',\n",
              " 'EMPLOYED',\n",
              " 'DAYS_EMPLOYED_m',\n",
              " 'DAYS_EMPLOYED_w',\n",
              " 'ability',\n",
              " 'income_mean']"
            ]
          },
          "metadata": {
            "tags": []
          },
          "execution_count": 63
        }
      ]
    },
    {
      "cell_type": "code",
      "metadata": {
        "colab": {
          "base_uri": "https://localhost:8080/"
        },
        "id": "worst-confidence",
        "outputId": "e9522304-1346-45f3-f7bc-19786c9de03b"
      },
      "source": [
        "categorical_feats"
      ],
      "id": "worst-confidence",
      "execution_count": null,
      "outputs": [
        {
          "output_type": "execute_result",
          "data": {
            "text/plain": [
              "['gender',\n",
              " 'car',\n",
              " 'reality',\n",
              " 'income_type',\n",
              " 'edu_type',\n",
              " 'family_type',\n",
              " 'house_type',\n",
              " 'occyp_type',\n",
              " 'ID']"
            ]
          },
          "metadata": {
            "tags": []
          },
          "execution_count": 64
        }
      ]
    },
    {
      "cell_type": "markdown",
      "metadata": {
        "id": "9P_qXS93mwbN"
      },
      "source": [
        "## 숫자가 큰 income_total은 로그변환 처리"
      ],
      "id": "9P_qXS93mwbN"
    },
    {
      "cell_type": "code",
      "metadata": {
        "id": "stopped-elimination"
      },
      "source": [
        "for df in [train,test]:\n",
        "    df['income_total'] = np.log1p(1+df['income_total'])"
      ],
      "id": "stopped-elimination",
      "execution_count": null,
      "outputs": []
    },
    {
      "cell_type": "markdown",
      "metadata": {
        "id": "gIQ_AAVwm3HB"
      },
      "source": [
        "## 카테고리 컬럼은 Credit에 따라 인코딩 -> OrdinalEncoder 이용"
      ],
      "id": "gIQ_AAVwm3HB"
    },
    {
      "cell_type": "code",
      "metadata": {
        "id": "2JBRmGb5ADLF"
      },
      "source": [
        "encoder = OrdinalEncoder(categorical_feats)\n",
        "train[categorical_feats] = encoder.fit_transform(train[categorical_feats], train['credit'])\n",
        "test[categorical_feats] = encoder.transform(test[categorical_feats])\n",
        "\n",
        "train['ID'] = train['ID'].astype('int64')\n",
        "test['ID'] = test['ID'].astype('int64')"
      ],
      "id": "2JBRmGb5ADLF",
      "execution_count": null,
      "outputs": []
    },
    {
      "cell_type": "code",
      "metadata": {
        "colab": {
          "base_uri": "https://localhost:8080/",
          "height": 439
        },
        "id": "patNj7N1S3Kq",
        "outputId": "c25f8468-a4b0-4c14-cb8b-6627029a7328"
      },
      "source": [
        "train"
      ],
      "id": "patNj7N1S3Kq",
      "execution_count": null,
      "outputs": [
        {
          "output_type": "execute_result",
          "data": {
            "text/html": [
              "<div>\n",
              "<style scoped>\n",
              "    .dataframe tbody tr th:only-of-type {\n",
              "        vertical-align: middle;\n",
              "    }\n",
              "\n",
              "    .dataframe tbody tr th {\n",
              "        vertical-align: top;\n",
              "    }\n",
              "\n",
              "    .dataframe thead th {\n",
              "        text-align: right;\n",
              "    }\n",
              "</style>\n",
              "<table border=\"1\" class=\"dataframe\">\n",
              "  <thead>\n",
              "    <tr style=\"text-align: right;\">\n",
              "      <th></th>\n",
              "      <th>gender</th>\n",
              "      <th>car</th>\n",
              "      <th>reality</th>\n",
              "      <th>income_total</th>\n",
              "      <th>income_type</th>\n",
              "      <th>edu_type</th>\n",
              "      <th>family_type</th>\n",
              "      <th>house_type</th>\n",
              "      <th>work_phone</th>\n",
              "      <th>phone</th>\n",
              "      <th>email</th>\n",
              "      <th>occyp_type</th>\n",
              "      <th>family_size</th>\n",
              "      <th>begin_month</th>\n",
              "      <th>credit</th>\n",
              "      <th>before_EMPLOYED</th>\n",
              "      <th>income_total_befofeEMP_ratio</th>\n",
              "      <th>Age</th>\n",
              "      <th>DAYS_BIRTH_m</th>\n",
              "      <th>DAYS_BIRTH_w</th>\n",
              "      <th>before_EMPLOYED_m</th>\n",
              "      <th>before_EMPLOYED_w</th>\n",
              "      <th>EMPLOYED</th>\n",
              "      <th>DAYS_EMPLOYED_m</th>\n",
              "      <th>DAYS_EMPLOYED_w</th>\n",
              "      <th>ability</th>\n",
              "      <th>income_mean</th>\n",
              "      <th>ID</th>\n",
              "    </tr>\n",
              "  </thead>\n",
              "  <tbody>\n",
              "    <tr>\n",
              "      <th>0</th>\n",
              "      <td>1</td>\n",
              "      <td>1</td>\n",
              "      <td>1</td>\n",
              "      <td>12.218505</td>\n",
              "      <td>1</td>\n",
              "      <td>1</td>\n",
              "      <td>1</td>\n",
              "      <td>1</td>\n",
              "      <td>0</td>\n",
              "      <td>0</td>\n",
              "      <td>0</td>\n",
              "      <td>1</td>\n",
              "      <td>2.0</td>\n",
              "      <td>6.0</td>\n",
              "      <td>1.0</td>\n",
              "      <td>9190</td>\n",
              "      <td>22.034820</td>\n",
              "      <td>38</td>\n",
              "      <td>7.0</td>\n",
              "      <td>1.0</td>\n",
              "      <td>6.0</td>\n",
              "      <td>0.0</td>\n",
              "      <td>12</td>\n",
              "      <td>0.0</td>\n",
              "      <td>0.0</td>\n",
              "      <td>10.882416</td>\n",
              "      <td>101250.0</td>\n",
              "      <td>1</td>\n",
              "    </tr>\n",
              "    <tr>\n",
              "      <th>1</th>\n",
              "      <td>1</td>\n",
              "      <td>1</td>\n",
              "      <td>2</td>\n",
              "      <td>12.419174</td>\n",
              "      <td>1</td>\n",
              "      <td>2</td>\n",
              "      <td>2</td>\n",
              "      <td>2</td>\n",
              "      <td>0</td>\n",
              "      <td>0</td>\n",
              "      <td>1</td>\n",
              "      <td>2</td>\n",
              "      <td>3.0</td>\n",
              "      <td>5.0</td>\n",
              "      <td>1.0</td>\n",
              "      <td>9840</td>\n",
              "      <td>25.152439</td>\n",
              "      <td>31</td>\n",
              "      <td>7.0</td>\n",
              "      <td>1.0</td>\n",
              "      <td>4.0</td>\n",
              "      <td>1.0</td>\n",
              "      <td>4</td>\n",
              "      <td>3.0</td>\n",
              "      <td>0.0</td>\n",
              "      <td>19.156347</td>\n",
              "      <td>82500.0</td>\n",
              "      <td>2</td>\n",
              "    </tr>\n",
              "    <tr>\n",
              "      <th>2</th>\n",
              "      <td>2</td>\n",
              "      <td>2</td>\n",
              "      <td>2</td>\n",
              "      <td>13.017007</td>\n",
              "      <td>2</td>\n",
              "      <td>1</td>\n",
              "      <td>1</td>\n",
              "      <td>2</td>\n",
              "      <td>0</td>\n",
              "      <td>1</td>\n",
              "      <td>0</td>\n",
              "      <td>3</td>\n",
              "      <td>2.0</td>\n",
              "      <td>22.0</td>\n",
              "      <td>2.0</td>\n",
              "      <td>14653</td>\n",
              "      <td>30.710435</td>\n",
              "      <td>52</td>\n",
              "      <td>0.0</td>\n",
              "      <td>2.0</td>\n",
              "      <td>8.0</td>\n",
              "      <td>1.0</td>\n",
              "      <td>12</td>\n",
              "      <td>3.0</td>\n",
              "      <td>1.0</td>\n",
              "      <td>19.131840</td>\n",
              "      <td>225000.0</td>\n",
              "      <td>3</td>\n",
              "    </tr>\n",
              "    <tr>\n",
              "      <th>3</th>\n",
              "      <td>1</td>\n",
              "      <td>1</td>\n",
              "      <td>2</td>\n",
              "      <td>12.218505</td>\n",
              "      <td>1</td>\n",
              "      <td>2</td>\n",
              "      <td>1</td>\n",
              "      <td>2</td>\n",
              "      <td>0</td>\n",
              "      <td>1</td>\n",
              "      <td>0</td>\n",
              "      <td>4</td>\n",
              "      <td>2.0</td>\n",
              "      <td>37.0</td>\n",
              "      <td>0.0</td>\n",
              "      <td>12996</td>\n",
              "      <td>15.581717</td>\n",
              "      <td>41</td>\n",
              "      <td>10.0</td>\n",
              "      <td>3.0</td>\n",
              "      <td>1.0</td>\n",
              "      <td>0.0</td>\n",
              "      <td>5</td>\n",
              "      <td>9.0</td>\n",
              "      <td>2.0</td>\n",
              "      <td>11.786962</td>\n",
              "      <td>101250.0</td>\n",
              "      <td>4</td>\n",
              "    </tr>\n",
              "    <tr>\n",
              "      <th>4</th>\n",
              "      <td>1</td>\n",
              "      <td>2</td>\n",
              "      <td>2</td>\n",
              "      <td>11.967193</td>\n",
              "      <td>3</td>\n",
              "      <td>1</td>\n",
              "      <td>1</td>\n",
              "      <td>2</td>\n",
              "      <td>0</td>\n",
              "      <td>0</td>\n",
              "      <td>0</td>\n",
              "      <td>3</td>\n",
              "      <td>2.0</td>\n",
              "      <td>26.0</td>\n",
              "      <td>2.0</td>\n",
              "      <td>12932</td>\n",
              "      <td>12.179091</td>\n",
              "      <td>41</td>\n",
              "      <td>9.0</td>\n",
              "      <td>0.0</td>\n",
              "      <td>11.0</td>\n",
              "      <td>3.0</td>\n",
              "      <td>5</td>\n",
              "      <td>10.0</td>\n",
              "      <td>0.0</td>\n",
              "      <td>9.187959</td>\n",
              "      <td>78750.0</td>\n",
              "      <td>5</td>\n",
              "    </tr>\n",
              "    <tr>\n",
              "      <th>...</th>\n",
              "      <td>...</td>\n",
              "      <td>...</td>\n",
              "      <td>...</td>\n",
              "      <td>...</td>\n",
              "      <td>...</td>\n",
              "      <td>...</td>\n",
              "      <td>...</td>\n",
              "      <td>...</td>\n",
              "      <td>...</td>\n",
              "      <td>...</td>\n",
              "      <td>...</td>\n",
              "      <td>...</td>\n",
              "      <td>...</td>\n",
              "      <td>...</td>\n",
              "      <td>...</td>\n",
              "      <td>...</td>\n",
              "      <td>...</td>\n",
              "      <td>...</td>\n",
              "      <td>...</td>\n",
              "      <td>...</td>\n",
              "      <td>...</td>\n",
              "      <td>...</td>\n",
              "      <td>...</td>\n",
              "      <td>...</td>\n",
              "      <td>...</td>\n",
              "      <td>...</td>\n",
              "      <td>...</td>\n",
              "      <td>...</td>\n",
              "    </tr>\n",
              "    <tr>\n",
              "      <th>26446</th>\n",
              "      <td>1</td>\n",
              "      <td>1</td>\n",
              "      <td>1</td>\n",
              "      <td>12.323865</td>\n",
              "      <td>3</td>\n",
              "      <td>2</td>\n",
              "      <td>1</td>\n",
              "      <td>2</td>\n",
              "      <td>0</td>\n",
              "      <td>0</td>\n",
              "      <td>0</td>\n",
              "      <td>6</td>\n",
              "      <td>4.0</td>\n",
              "      <td>2.0</td>\n",
              "      <td>1.0</td>\n",
              "      <td>10095</td>\n",
              "      <td>22.288262</td>\n",
              "      <td>33</td>\n",
              "      <td>6.0</td>\n",
              "      <td>1.0</td>\n",
              "      <td>0.0</td>\n",
              "      <td>2.0</td>\n",
              "      <td>5</td>\n",
              "      <td>6.0</td>\n",
              "      <td>3.0</td>\n",
              "      <td>15.999431</td>\n",
              "      <td>56250.0</td>\n",
              "      <td>3301</td>\n",
              "    </tr>\n",
              "    <tr>\n",
              "      <th>26447</th>\n",
              "      <td>1</td>\n",
              "      <td>1</td>\n",
              "      <td>2</td>\n",
              "      <td>12.100723</td>\n",
              "      <td>2</td>\n",
              "      <td>1</td>\n",
              "      <td>3</td>\n",
              "      <td>2</td>\n",
              "      <td>0</td>\n",
              "      <td>0</td>\n",
              "      <td>0</td>\n",
              "      <td>1</td>\n",
              "      <td>2.0</td>\n",
              "      <td>47.0</td>\n",
              "      <td>2.0</td>\n",
              "      <td>12816</td>\n",
              "      <td>14.044944</td>\n",
              "      <td>41</td>\n",
              "      <td>5.0</td>\n",
              "      <td>0.0</td>\n",
              "      <td>7.0</td>\n",
              "      <td>2.0</td>\n",
              "      <td>6</td>\n",
              "      <td>10.0</td>\n",
              "      <td>1.0</td>\n",
              "      <td>10.131712</td>\n",
              "      <td>90000.0</td>\n",
              "      <td>8753</td>\n",
              "    </tr>\n",
              "    <tr>\n",
              "      <th>26448</th>\n",
              "      <td>1</td>\n",
              "      <td>2</td>\n",
              "      <td>1</td>\n",
              "      <td>12.586227</td>\n",
              "      <td>2</td>\n",
              "      <td>2</td>\n",
              "      <td>2</td>\n",
              "      <td>3</td>\n",
              "      <td>0</td>\n",
              "      <td>0</td>\n",
              "      <td>0</td>\n",
              "      <td>6</td>\n",
              "      <td>2.0</td>\n",
              "      <td>25.0</td>\n",
              "      <td>2.0</td>\n",
              "      <td>8067</td>\n",
              "      <td>36.258832</td>\n",
              "      <td>27</td>\n",
              "      <td>0.0</td>\n",
              "      <td>0.0</td>\n",
              "      <td>4.0</td>\n",
              "      <td>0.0</td>\n",
              "      <td>5</td>\n",
              "      <td>7.0</td>\n",
              "      <td>3.0</td>\n",
              "      <td>24.179549</td>\n",
              "      <td>146250.0</td>\n",
              "      <td>8754</td>\n",
              "    </tr>\n",
              "    <tr>\n",
              "      <th>26449</th>\n",
              "      <td>2</td>\n",
              "      <td>1</td>\n",
              "      <td>2</td>\n",
              "      <td>12.049431</td>\n",
              "      <td>2</td>\n",
              "      <td>3</td>\n",
              "      <td>4</td>\n",
              "      <td>2</td>\n",
              "      <td>0</td>\n",
              "      <td>0</td>\n",
              "      <td>0</td>\n",
              "      <td>2</td>\n",
              "      <td>1.0</td>\n",
              "      <td>59.0</td>\n",
              "      <td>2.0</td>\n",
              "      <td>10038</td>\n",
              "      <td>17.035266</td>\n",
              "      <td>27</td>\n",
              "      <td>2.0</td>\n",
              "      <td>1.0</td>\n",
              "      <td>10.0</td>\n",
              "      <td>2.0</td>\n",
              "      <td>0</td>\n",
              "      <td>3.0</td>\n",
              "      <td>3.0</td>\n",
              "      <td>16.679672</td>\n",
              "      <td>171000.0</td>\n",
              "      <td>8755</td>\n",
              "    </tr>\n",
              "    <tr>\n",
              "      <th>26450</th>\n",
              "      <td>1</td>\n",
              "      <td>1</td>\n",
              "      <td>1</td>\n",
              "      <td>11.302229</td>\n",
              "      <td>2</td>\n",
              "      <td>2</td>\n",
              "      <td>2</td>\n",
              "      <td>2</td>\n",
              "      <td>0</td>\n",
              "      <td>0</td>\n",
              "      <td>0</td>\n",
              "      <td>11</td>\n",
              "      <td>2.0</td>\n",
              "      <td>9.0</td>\n",
              "      <td>2.0</td>\n",
              "      <td>18556</td>\n",
              "      <td>4.365165</td>\n",
              "      <td>53</td>\n",
              "      <td>4.0</td>\n",
              "      <td>3.0</td>\n",
              "      <td>6.0</td>\n",
              "      <td>2.0</td>\n",
              "      <td>2</td>\n",
              "      <td>9.0</td>\n",
              "      <td>0.0</td>\n",
              "      <td>3.935478</td>\n",
              "      <td>40500.0</td>\n",
              "      <td>8756</td>\n",
              "    </tr>\n",
              "  </tbody>\n",
              "</table>\n",
              "<p>26451 rows × 28 columns</p>\n",
              "</div>"
            ],
            "text/plain": [
              "       gender  car  reality  ...    ability  income_mean    ID\n",
              "0           1    1        1  ...  10.882416     101250.0     1\n",
              "1           1    1        2  ...  19.156347      82500.0     2\n",
              "2           2    2        2  ...  19.131840     225000.0     3\n",
              "3           1    1        2  ...  11.786962     101250.0     4\n",
              "4           1    2        2  ...   9.187959      78750.0     5\n",
              "...       ...  ...      ...  ...        ...          ...   ...\n",
              "26446       1    1        1  ...  15.999431      56250.0  3301\n",
              "26447       1    1        2  ...  10.131712      90000.0  8753\n",
              "26448       1    2        1  ...  24.179549     146250.0  8754\n",
              "26449       2    1        2  ...  16.679672     171000.0  8755\n",
              "26450       1    1        1  ...   3.935478      40500.0  8756\n",
              "\n",
              "[26451 rows x 28 columns]"
            ]
          },
          "metadata": {
            "tags": []
          },
          "execution_count": 67
        }
      ]
    },
    {
      "cell_type": "markdown",
      "metadata": {
        "id": "HJy2yOkZnImd"
      },
      "source": [
        "## Kmeans 클러스터링 구성"
      ],
      "id": "HJy2yOkZnImd"
    },
    {
      "cell_type": "code",
      "metadata": {
        "id": "negative-seven"
      },
      "source": [
        "kmeans_train = train.drop(['credit'], axis=1)\n",
        "kmeans = KMeans(n_clusters=36, random_state=42).fit(kmeans_train)\n",
        "train['cluster'] = kmeans.predict(kmeans_train)\n",
        "test['cluster'] = kmeans.predict(test)"
      ],
      "id": "negative-seven",
      "execution_count": null,
      "outputs": []
    },
    {
      "cell_type": "markdown",
      "metadata": {
        "id": "50lGc5mAnIQN"
      },
      "source": [
        "## 이미 로그변환을 진행한 income_total을 제외한 나머지 numeric 컬럼 정규화"
      ],
      "id": "50lGc5mAnIQN"
    },
    {
      "cell_type": "code",
      "metadata": {
        "id": "short-smith"
      },
      "source": [
        "numerical_feats.remove('income_total')\n",
        "scaler = StandardScaler()\n",
        "train[numerical_feats] = scaler.fit_transform(train[numerical_feats])\n",
        "test[numerical_feats] = scaler.transform(test[numerical_feats])\n"
      ],
      "id": "short-smith",
      "execution_count": null,
      "outputs": []
    },
    {
      "cell_type": "markdown",
      "metadata": {
        "id": "handed-boundary"
      },
      "source": [
        "## Modeling - catboost\n",
        " - parameter를 두는 것 보다 두지 않는 것이 logloss가 낮았음"
      ],
      "id": "handed-boundary"
    },
    {
      "cell_type": "code",
      "metadata": {
        "id": "imposed-weekend"
      },
      "source": [
        "n_est = 2000\n",
        "seed = 42\n",
        "n_fold = 17\n",
        "n_class = 3\n",
        "\n",
        "target = 'credit'\n",
        "X = train.drop(target, axis=1)\n",
        "y = train[target]\n",
        "X_test = test"
      ],
      "id": "imposed-weekend",
      "execution_count": null,
      "outputs": []
    },
    {
      "cell_type": "code",
      "metadata": {
        "colab": {
          "base_uri": "https://localhost:8080/"
        },
        "id": "VNGLQ0bPJ0oh",
        "outputId": "2f9c7c2a-f5a1-4f90-f19b-033937029c34"
      },
      "source": [
        "skfold = StratifiedKFold(n_splits=n_fold, shuffle=True, random_state=seed)\n",
        "folds=[]\n",
        "for train_idx, valid_idx in skfold.split(X, y):\n",
        "        folds.append((train_idx, valid_idx))\n",
        "\n",
        "\n",
        "cat_pred = np.zeros((X.shape[0], n_class))\n",
        "cat_pred_test = np.zeros((X_test.shape[0], n_class))\n",
        "cat_cols = [\n",
        "            'income_type',\n",
        "            'edu_type',\n",
        "            'family_type',\n",
        "            'house_type',\n",
        "            'occyp_type',\n",
        "            'ID',\n",
        "]\n",
        "for fold in range(n_fold):\n",
        "  print(f'\\n----------------- Fold {fold} -----------------\\n')\n",
        "  train_idx, valid_idx = folds[fold]\n",
        "  X_train, X_valid, y_train, y_valid = X.iloc[train_idx], X.iloc[valid_idx], y[train_idx], y[valid_idx]\n",
        "  train_data = Pool(data=X_train, label=y_train, cat_features=cat_cols)\n",
        "  valid_data = Pool(data=X_valid, label=y_valid, cat_features=cat_cols)\n",
        "\n",
        "  model_cat = CatBoostClassifier()\n",
        "  model_cat.fit(train_data,\n",
        "            eval_set=valid_data,\n",
        "            use_best_model=True,\n",
        "            early_stopping_rounds=100,\n",
        "            verbose=100,)\n",
        "  cat_pred[valid_idx] = model_cat.predict_proba(X_valid)\n",
        "  cat_pred_test += model_cat.predict_proba(X_test) / n_fold\n",
        "  print(f'CV Log Loss Score: {log_loss(y_valid, cat_pred[valid_idx]):.6f}')\n",
        "    \n",
        "print(f'\\tLog Loss: {log_loss(y, cat_pred):.6f}')\n"
      ],
      "id": "VNGLQ0bPJ0oh",
      "execution_count": null,
      "outputs": [
        {
          "output_type": "stream",
          "text": [
            "\n",
            "----------------- Fold 0 -----------------\n",
            "\n",
            "Learning rate set to 0.115146\n",
            "0:\tlearn: 1.0346914\ttest: 1.0335236\tbest: 1.0335236 (0)\ttotal: 54.5ms\tremaining: 54.5s\n",
            "100:\tlearn: 0.7040337\ttest: 0.6388958\tbest: 0.6388958 (100)\ttotal: 8.96s\tremaining: 1m 19s\n",
            "200:\tlearn: 0.6838620\ttest: 0.6379441\tbest: 0.6377030 (180)\ttotal: 19s\tremaining: 1m 15s\n",
            "300:\tlearn: 0.6665773\ttest: 0.6384742\tbest: 0.6373555 (216)\ttotal: 28.9s\tremaining: 1m 7s\n",
            "Stopped by overfitting detector  (100 iterations wait)\n",
            "\n",
            "bestTest = 0.6373555421\n",
            "bestIteration = 216\n",
            "\n",
            "Shrink model to first 217 iterations.\n",
            "CV Log Loss Score: 0.637356\n",
            "\n",
            "----------------- Fold 1 -----------------\n",
            "\n",
            "Learning rate set to 0.115146\n",
            "0:\tlearn: 1.0345431\ttest: 1.0344755\tbest: 1.0344755 (0)\ttotal: 36.9ms\tremaining: 36.9s\n",
            "100:\tlearn: 0.7048853\ttest: 0.6733899\tbest: 0.6733093 (97)\ttotal: 8.68s\tremaining: 1m 17s\n",
            "200:\tlearn: 0.6861475\ttest: 0.6722208\tbest: 0.6714599 (156)\ttotal: 18.6s\tremaining: 1m 13s\n",
            "300:\tlearn: 0.6670645\ttest: 0.6711567\tbest: 0.6710789 (297)\ttotal: 28.5s\tremaining: 1m 6s\n",
            "400:\tlearn: 0.6502037\ttest: 0.6725342\tbest: 0.6707486 (314)\ttotal: 38.5s\tremaining: 57.5s\n",
            "Stopped by overfitting detector  (100 iterations wait)\n",
            "\n",
            "bestTest = 0.6707485581\n",
            "bestIteration = 314\n",
            "\n",
            "Shrink model to first 315 iterations.\n",
            "CV Log Loss Score: 0.670749\n",
            "\n",
            "----------------- Fold 2 -----------------\n",
            "\n",
            "Learning rate set to 0.115146\n",
            "0:\tlearn: 1.0346358\ttest: 1.0335197\tbest: 1.0335197 (0)\ttotal: 36.7ms\tremaining: 36.6s\n",
            "100:\tlearn: 0.7057780\ttest: 0.6497769\tbest: 0.6497769 (100)\ttotal: 8.84s\tremaining: 1m 18s\n",
            "200:\tlearn: 0.6873137\ttest: 0.6472484\tbest: 0.6470985 (185)\ttotal: 18.7s\tremaining: 1m 14s\n",
            "300:\tlearn: 0.6687747\ttest: 0.6475395\tbest: 0.6467414 (227)\ttotal: 28.8s\tremaining: 1m 6s\n",
            "Stopped by overfitting detector  (100 iterations wait)\n",
            "\n",
            "bestTest = 0.6467414211\n",
            "bestIteration = 227\n",
            "\n",
            "Shrink model to first 228 iterations.\n",
            "CV Log Loss Score: 0.646741\n",
            "\n",
            "----------------- Fold 3 -----------------\n",
            "\n",
            "Learning rate set to 0.115146\n",
            "0:\tlearn: 1.0343255\ttest: 1.0364301\tbest: 1.0364301 (0)\ttotal: 35.4ms\tremaining: 35.4s\n",
            "100:\tlearn: 0.7055328\ttest: 0.6482197\tbest: 0.6482197 (100)\ttotal: 8.83s\tremaining: 1m 18s\n",
            "200:\tlearn: 0.6874518\ttest: 0.6453001\tbest: 0.6447010 (185)\ttotal: 18.7s\tremaining: 1m 14s\n",
            "300:\tlearn: 0.6699734\ttest: 0.6446181\tbest: 0.6437392 (290)\ttotal: 28.8s\tremaining: 1m 6s\n",
            "400:\tlearn: 0.6534832\ttest: 0.6436556\tbest: 0.6433603 (393)\ttotal: 38.8s\tremaining: 58s\n",
            "Stopped by overfitting detector  (100 iterations wait)\n",
            "\n",
            "bestTest = 0.643360286\n",
            "bestIteration = 393\n",
            "\n",
            "Shrink model to first 394 iterations.\n",
            "CV Log Loss Score: 0.643360\n",
            "\n",
            "----------------- Fold 4 -----------------\n",
            "\n",
            "Learning rate set to 0.115146\n",
            "0:\tlearn: 1.0345759\ttest: 1.0341640\tbest: 1.0341640 (0)\ttotal: 36.8ms\tremaining: 36.8s\n",
            "100:\tlearn: 0.7037763\ttest: 0.6582634\tbest: 0.6582260 (94)\ttotal: 9.01s\tremaining: 1m 20s\n",
            "200:\tlearn: 0.6852814\ttest: 0.6570845\tbest: 0.6570783 (198)\ttotal: 19s\tremaining: 1m 15s\n",
            "300:\tlearn: 0.6670111\ttest: 0.6562751\tbest: 0.6561103 (289)\ttotal: 29.1s\tremaining: 1m 7s\n",
            "400:\tlearn: 0.6512591\ttest: 0.6563525\tbest: 0.6553220 (318)\ttotal: 39.1s\tremaining: 58.4s\n",
            "Stopped by overfitting detector  (100 iterations wait)\n",
            "\n",
            "bestTest = 0.6553220376\n",
            "bestIteration = 318\n",
            "\n",
            "Shrink model to first 319 iterations.\n",
            "CV Log Loss Score: 0.655322\n",
            "\n",
            "----------------- Fold 5 -----------------\n",
            "\n",
            "Learning rate set to 0.115146\n",
            "0:\tlearn: 1.0344748\ttest: 1.0350645\tbest: 1.0350645 (0)\ttotal: 39.2ms\tremaining: 39.2s\n",
            "100:\tlearn: 0.7042279\ttest: 0.6784056\tbest: 0.6784056 (100)\ttotal: 9.02s\tremaining: 1m 20s\n",
            "200:\tlearn: 0.6849494\ttest: 0.6769688\tbest: 0.6760171 (154)\ttotal: 19s\tremaining: 1m 15s\n",
            "Stopped by overfitting detector  (100 iterations wait)\n",
            "\n",
            "bestTest = 0.6760170767\n",
            "bestIteration = 154\n",
            "\n",
            "Shrink model to first 155 iterations.\n",
            "CV Log Loss Score: 0.676017\n",
            "\n",
            "----------------- Fold 6 -----------------\n",
            "\n",
            "Learning rate set to 0.115146\n",
            "0:\tlearn: 1.0346703\ttest: 1.0333099\tbest: 1.0333099 (0)\ttotal: 36.4ms\tremaining: 36.3s\n",
            "100:\tlearn: 0.7032592\ttest: 0.6710995\tbest: 0.6710812 (99)\ttotal: 8.88s\tremaining: 1m 19s\n",
            "200:\tlearn: 0.6837184\ttest: 0.6702531\tbest: 0.6702531 (200)\ttotal: 18.9s\tremaining: 1m 15s\n",
            "300:\tlearn: 0.6648114\ttest: 0.6704302\tbest: 0.6699383 (284)\ttotal: 29s\tremaining: 1m 7s\n",
            "Stopped by overfitting detector  (100 iterations wait)\n",
            "\n",
            "bestTest = 0.6699382895\n",
            "bestIteration = 284\n",
            "\n",
            "Shrink model to first 285 iterations.\n",
            "CV Log Loss Score: 0.669938\n",
            "\n",
            "----------------- Fold 7 -----------------\n",
            "\n",
            "Learning rate set to 0.115146\n",
            "0:\tlearn: 1.0345742\ttest: 1.0341262\tbest: 1.0341262 (0)\ttotal: 36.1ms\tremaining: 36.1s\n",
            "100:\tlearn: 0.7038274\ttest: 0.6765097\tbest: 0.6763037 (90)\ttotal: 8.78s\tremaining: 1m 18s\n",
            "200:\tlearn: 0.6855317\ttest: 0.6743854\tbest: 0.6743170 (199)\ttotal: 18.7s\tremaining: 1m 14s\n",
            "Stopped by overfitting detector  (100 iterations wait)\n",
            "\n",
            "bestTest = 0.6743170132\n",
            "bestIteration = 199\n",
            "\n",
            "Shrink model to first 200 iterations.\n",
            "CV Log Loss Score: 0.674317\n",
            "\n",
            "----------------- Fold 8 -----------------\n",
            "\n",
            "Learning rate set to 0.115146\n",
            "0:\tlearn: 1.0344749\ttest: 1.0350724\tbest: 1.0350724 (0)\ttotal: 36.6ms\tremaining: 36.6s\n",
            "100:\tlearn: 0.7018631\ttest: 0.6776077\tbest: 0.6776077 (100)\ttotal: 8.92s\tremaining: 1m 19s\n",
            "200:\tlearn: 0.6798771\ttest: 0.6760261\tbest: 0.6760261 (200)\ttotal: 18.8s\tremaining: 1m 14s\n",
            "300:\tlearn: 0.6624662\ttest: 0.6759864\tbest: 0.6750083 (270)\ttotal: 28.9s\tremaining: 1m 7s\n",
            "Stopped by overfitting detector  (100 iterations wait)\n",
            "\n",
            "bestTest = 0.6750082919\n",
            "bestIteration = 270\n",
            "\n",
            "Shrink model to first 271 iterations.\n",
            "CV Log Loss Score: 0.675008\n",
            "\n",
            "----------------- Fold 9 -----------------\n",
            "\n",
            "Learning rate set to 0.115146\n",
            "0:\tlearn: 1.0343331\ttest: 1.0362630\tbest: 1.0362630 (0)\ttotal: 35.7ms\tremaining: 35.6s\n",
            "100:\tlearn: 0.7022953\ttest: 0.6881840\tbest: 0.6881205 (96)\ttotal: 8.71s\tremaining: 1m 17s\n",
            "200:\tlearn: 0.6827124\ttest: 0.6874833\tbest: 0.6866043 (119)\ttotal: 18.5s\tremaining: 1m 13s\n",
            "Stopped by overfitting detector  (100 iterations wait)\n",
            "\n",
            "bestTest = 0.6866043295\n",
            "bestIteration = 119\n",
            "\n",
            "Shrink model to first 120 iterations.\n",
            "CV Log Loss Score: 0.686604\n",
            "\n",
            "----------------- Fold 10 -----------------\n",
            "\n",
            "Learning rate set to 0.115146\n",
            "0:\tlearn: 1.0345087\ttest: 1.0347892\tbest: 1.0347892 (0)\ttotal: 37.1ms\tremaining: 37.1s\n",
            "100:\tlearn: 0.7048741\ttest: 0.6576919\tbest: 0.6575402 (99)\ttotal: 9.01s\tremaining: 1m 20s\n",
            "200:\tlearn: 0.6855515\ttest: 0.6548521\tbest: 0.6547553 (186)\ttotal: 18.9s\tremaining: 1m 15s\n",
            "300:\tlearn: 0.6704209\ttest: 0.6550775\tbest: 0.6544461 (205)\ttotal: 28.9s\tremaining: 1m 7s\n",
            "Stopped by overfitting detector  (100 iterations wait)\n",
            "\n",
            "bestTest = 0.6544461253\n",
            "bestIteration = 205\n",
            "\n",
            "Shrink model to first 206 iterations.\n",
            "CV Log Loss Score: 0.654446\n",
            "\n",
            "----------------- Fold 11 -----------------\n",
            "\n",
            "Learning rate set to 0.115146\n",
            "0:\tlearn: 1.0345770\ttest: 1.0342062\tbest: 1.0342062 (0)\ttotal: 35.4ms\tremaining: 35.4s\n",
            "100:\tlearn: 0.7031124\ttest: 0.6690219\tbest: 0.6690219 (100)\ttotal: 8.9s\tremaining: 1m 19s\n",
            "200:\tlearn: 0.6845708\ttest: 0.6663370\tbest: 0.6658213 (168)\ttotal: 18.6s\tremaining: 1m 13s\n",
            "300:\tlearn: 0.6679709\ttest: 0.6645212\tbest: 0.6645212 (300)\ttotal: 28.6s\tremaining: 1m 6s\n",
            "400:\tlearn: 0.6523458\ttest: 0.6661813\tbest: 0.6645212 (300)\ttotal: 38.7s\tremaining: 57.8s\n",
            "Stopped by overfitting detector  (100 iterations wait)\n",
            "\n",
            "bestTest = 0.6645211624\n",
            "bestIteration = 300\n",
            "\n",
            "Shrink model to first 301 iterations.\n",
            "CV Log Loss Score: 0.664521\n",
            "\n",
            "----------------- Fold 12 -----------------\n",
            "\n",
            "Learning rate set to 0.115146\n",
            "0:\tlearn: 1.0344645\ttest: 1.0351454\tbest: 1.0351454 (0)\ttotal: 35.7ms\tremaining: 35.7s\n",
            "100:\tlearn: 0.7041332\ttest: 0.6715236\tbest: 0.6715156 (91)\ttotal: 9.05s\tremaining: 1m 20s\n",
            "200:\tlearn: 0.6857231\ttest: 0.6688690\tbest: 0.6688690 (200)\ttotal: 19.1s\tremaining: 1m 16s\n",
            "300:\tlearn: 0.6683615\ttest: 0.6685722\tbest: 0.6681365 (252)\ttotal: 29.2s\tremaining: 1m 7s\n",
            "Stopped by overfitting detector  (100 iterations wait)\n",
            "\n",
            "bestTest = 0.6681364747\n",
            "bestIteration = 252\n",
            "\n",
            "Shrink model to first 253 iterations.\n",
            "CV Log Loss Score: 0.668136\n",
            "\n",
            "----------------- Fold 13 -----------------\n",
            "\n",
            "Learning rate set to 0.115146\n",
            "0:\tlearn: 1.0345202\ttest: 1.0346234\tbest: 1.0346234 (0)\ttotal: 40.3ms\tremaining: 40.3s\n",
            "100:\tlearn: 0.7028903\ttest: 0.6738736\tbest: 0.6738736 (100)\ttotal: 8.75s\tremaining: 1m 17s\n",
            "200:\tlearn: 0.6841896\ttest: 0.6745280\tbest: 0.6735910 (139)\ttotal: 18.5s\tremaining: 1m 13s\n",
            "Stopped by overfitting detector  (100 iterations wait)\n",
            "\n",
            "bestTest = 0.6735909984\n",
            "bestIteration = 139\n",
            "\n",
            "Shrink model to first 140 iterations.\n",
            "CV Log Loss Score: 0.673591\n",
            "\n",
            "----------------- Fold 14 -----------------\n",
            "\n",
            "Learning rate set to 0.115146\n",
            "0:\tlearn: 1.0343966\ttest: 1.0362860\tbest: 1.0362860 (0)\ttotal: 53.9ms\tremaining: 53.8s\n",
            "100:\tlearn: 0.7007544\ttest: 0.6749890\tbest: 0.6748132 (97)\ttotal: 8.76s\tremaining: 1m 17s\n",
            "200:\tlearn: 0.6797254\ttest: 0.6737203\tbest: 0.6732722 (175)\ttotal: 18.7s\tremaining: 1m 14s\n",
            "300:\tlearn: 0.6615942\ttest: 0.6729922\tbest: 0.6724158 (244)\ttotal: 28.7s\tremaining: 1m 6s\n",
            "Stopped by overfitting detector  (100 iterations wait)\n",
            "\n",
            "bestTest = 0.6724157769\n",
            "bestIteration = 244\n",
            "\n",
            "Shrink model to first 245 iterations.\n",
            "CV Log Loss Score: 0.672416\n",
            "\n",
            "----------------- Fold 15 -----------------\n",
            "\n",
            "Learning rate set to 0.115146\n",
            "0:\tlearn: 1.0348762\ttest: 1.0317971\tbest: 1.0317971 (0)\ttotal: 52ms\tremaining: 51.9s\n",
            "100:\tlearn: 0.7037361\ttest: 0.6749563\tbest: 0.6747063 (93)\ttotal: 8.87s\tremaining: 1m 18s\n",
            "200:\tlearn: 0.6848322\ttest: 0.6710423\tbest: 0.6709477 (185)\ttotal: 18.9s\tremaining: 1m 15s\n",
            "Stopped by overfitting detector  (100 iterations wait)\n",
            "\n",
            "bestTest = 0.670947715\n",
            "bestIteration = 185\n",
            "\n",
            "Shrink model to first 186 iterations.\n",
            "CV Log Loss Score: 0.670948\n",
            "\n",
            "----------------- Fold 16 -----------------\n",
            "\n",
            "Learning rate set to 0.115146\n",
            "0:\tlearn: 1.0347971\ttest: 1.0347251\tbest: 1.0347251 (0)\ttotal: 107ms\tremaining: 1m 47s\n",
            "100:\tlearn: 0.7037244\ttest: 0.6777320\tbest: 0.6777320 (100)\ttotal: 8.8s\tremaining: 1m 18s\n",
            "200:\tlearn: 0.6848821\ttest: 0.6759473\tbest: 0.6756206 (194)\ttotal: 18.7s\tremaining: 1m 14s\n",
            "300:\tlearn: 0.6673541\ttest: 0.6750062\tbest: 0.6747706 (297)\ttotal: 28.8s\tremaining: 1m 6s\n",
            "Stopped by overfitting detector  (100 iterations wait)\n",
            "\n",
            "bestTest = 0.674770635\n",
            "bestIteration = 297\n",
            "\n",
            "Shrink model to first 298 iterations.\n",
            "CV Log Loss Score: 0.674771\n",
            "\tLog Loss: 0.665543\n"
          ],
          "name": "stdout"
        }
      ]
    },
    {
      "cell_type": "code",
      "metadata": {
        "id": "mR6tLX2msMkz"
      },
      "source": [
        "def plot_feature_importance(importance,names,model_type):\n",
        "    \n",
        "    feature_importance = np.array(importance)\n",
        "    feature_names = np.array(names)\n",
        "    \n",
        "    data={'feature_names':feature_names,'feature_importance':feature_importance}\n",
        "    fi_df = pd.DataFrame(data)\n",
        "    \n",
        "    fi_df.sort_values(by=['feature_importance'], ascending=False,inplace=True)\n",
        "\n",
        "    plt.figure(figsize=(10,8))\n",
        "\n",
        "    sns.barplot(x=fi_df['feature_importance'], y=fi_df['feature_names'])\n",
        "\n",
        "    plt.title(model_type + ' Feature Importance')\n",
        "    plt.xlabel('Feature Importance')\n",
        "    plt.ylabel('Feature Names')"
      ],
      "id": "mR6tLX2msMkz",
      "execution_count": null,
      "outputs": []
    },
    {
      "cell_type": "code",
      "metadata": {
        "colab": {
          "base_uri": "https://localhost:8080/",
          "height": 436
        },
        "id": "wto01le5vCfw",
        "outputId": "593773b4-253f-417b-edf8-abbaade7d421"
      },
      "source": [
        "plot_feature_importance(model_cat.get_feature_importance(),X_test.columns,'CATBOOST')"
      ],
      "id": "wto01le5vCfw",
      "execution_count": null,
      "outputs": [
        {
          "output_type": "display_data",
          "data": {
            "image/png": "[encoded data removed]",
            "text/plain": [
              "<Figure size 720x576 with 1 Axes>"
            ]
          },
          "metadata": {
            "tags": [],
            "needs_background": "light"
          }
        }
      ]
    },
    {
      "cell_type": "markdown",
      "metadata": {
        "id": "Tn98UVxcnorm"
      },
      "source": [
        "## submission 파일 불러오기"
      ],
      "id": "Tn98UVxcnorm"
    },
    {
      "cell_type": "code",
      "metadata": {
        "id": "greatest-centre"
      },
      "source": [
        "sub = pd.read_csv(path + 'sample_submission.csv')\n",
        "sub.iloc[:, 1:] = cat_pred_test"
      ],
      "id": "greatest-centre",
      "execution_count": null,
      "outputs": []
    },
    {
      "cell_type": "code",
      "metadata": {
        "id": "surgical-omaha",
        "colab": {
          "base_uri": "https://localhost:8080/",
          "height": 419
        },
        "outputId": "242f5733-c072-4626-b5f0-41116029ff48"
      },
      "source": [
        "sub"
      ],
      "id": "surgical-omaha",
      "execution_count": null,
      "outputs": [
        {
          "output_type": "execute_result",
          "data": {
            "text/html": [
              "<div>\n",
              "<style scoped>\n",
              "    .dataframe tbody tr th:only-of-type {\n",
              "        vertical-align: middle;\n",
              "    }\n",
              "\n",
              "    .dataframe tbody tr th {\n",
              "        vertical-align: top;\n",
              "    }\n",
              "\n",
              "    .dataframe thead th {\n",
              "        text-align: right;\n",
              "    }\n",
              "</style>\n",
              "<table border=\"1\" class=\"dataframe\">\n",
              "  <thead>\n",
              "    <tr style=\"text-align: right;\">\n",
              "      <th></th>\n",
              "      <th>index</th>\n",
              "      <th>0</th>\n",
              "      <th>1</th>\n",
              "      <th>2</th>\n",
              "    </tr>\n",
              "  </thead>\n",
              "  <tbody>\n",
              "    <tr>\n",
              "      <th>0</th>\n",
              "      <td>26457</td>\n",
              "      <td>0.115007</td>\n",
              "      <td>0.173187</td>\n",
              "      <td>0.711806</td>\n",
              "    </tr>\n",
              "    <tr>\n",
              "      <th>1</th>\n",
              "      <td>26458</td>\n",
              "      <td>0.338757</td>\n",
              "      <td>0.209268</td>\n",
              "      <td>0.451975</td>\n",
              "    </tr>\n",
              "    <tr>\n",
              "      <th>2</th>\n",
              "      <td>26459</td>\n",
              "      <td>0.036046</td>\n",
              "      <td>0.079928</td>\n",
              "      <td>0.884026</td>\n",
              "    </tr>\n",
              "    <tr>\n",
              "      <th>3</th>\n",
              "      <td>26460</td>\n",
              "      <td>0.054953</td>\n",
              "      <td>0.081003</td>\n",
              "      <td>0.864043</td>\n",
              "    </tr>\n",
              "    <tr>\n",
              "      <th>4</th>\n",
              "      <td>26461</td>\n",
              "      <td>0.083036</td>\n",
              "      <td>0.233750</td>\n",
              "      <td>0.683214</td>\n",
              "    </tr>\n",
              "    <tr>\n",
              "      <th>...</th>\n",
              "      <td>...</td>\n",
              "      <td>...</td>\n",
              "      <td>...</td>\n",
              "      <td>...</td>\n",
              "    </tr>\n",
              "    <tr>\n",
              "      <th>9995</th>\n",
              "      <td>36452</td>\n",
              "      <td>0.072545</td>\n",
              "      <td>0.223114</td>\n",
              "      <td>0.704341</td>\n",
              "    </tr>\n",
              "    <tr>\n",
              "      <th>9996</th>\n",
              "      <td>36453</td>\n",
              "      <td>0.326732</td>\n",
              "      <td>0.173392</td>\n",
              "      <td>0.499876</td>\n",
              "    </tr>\n",
              "    <tr>\n",
              "      <th>9997</th>\n",
              "      <td>36454</td>\n",
              "      <td>0.048996</td>\n",
              "      <td>0.118619</td>\n",
              "      <td>0.832385</td>\n",
              "    </tr>\n",
              "    <tr>\n",
              "      <th>9998</th>\n",
              "      <td>36455</td>\n",
              "      <td>0.144859</td>\n",
              "      <td>0.310712</td>\n",
              "      <td>0.544429</td>\n",
              "    </tr>\n",
              "    <tr>\n",
              "      <th>9999</th>\n",
              "      <td>36456</td>\n",
              "      <td>0.065088</td>\n",
              "      <td>0.472094</td>\n",
              "      <td>0.462818</td>\n",
              "    </tr>\n",
              "  </tbody>\n",
              "</table>\n",
              "<p>10000 rows × 4 columns</p>\n",
              "</div>"
            ],
            "text/plain": [
              "      index         0         1         2\n",
              "0     26457  0.115007  0.173187  0.711806\n",
              "1     26458  0.338757  0.209268  0.451975\n",
              "2     26459  0.036046  0.079928  0.884026\n",
              "3     26460  0.054953  0.081003  0.864043\n",
              "4     26461  0.083036  0.233750  0.683214\n",
              "...     ...       ...       ...       ...\n",
              "9995  36452  0.072545  0.223114  0.704341\n",
              "9996  36453  0.326732  0.173392  0.499876\n",
              "9997  36454  0.048996  0.118619  0.832385\n",
              "9998  36455  0.144859  0.310712  0.544429\n",
              "9999  36456  0.065088  0.472094  0.462818\n",
              "\n",
              "[10000 rows x 4 columns]"
            ]
          },
          "metadata": {
            "tags": []
          },
          "execution_count": 82
        }
      ]
    },
    {
      "cell_type": "markdown",
      "metadata": {
        "id": "3iZ1qWlink27"
      },
      "source": [
        "## submission 파일 저장"
      ],
      "id": "3iZ1qWlink27"
    },
    {
      "cell_type": "code",
      "metadata": {
        "id": "equal-weapon"
      },
      "source": [
        "sub.to_csv('submission0523_Last.csv', index=False)"
      ],
      "id": "equal-weapon",
      "execution_count": null,
      "outputs": []
    }
  ]
}