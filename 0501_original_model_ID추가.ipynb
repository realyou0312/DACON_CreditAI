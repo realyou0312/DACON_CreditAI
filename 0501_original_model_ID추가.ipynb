{
 "cells": [
  {
   "cell_type": "code",
   "execution_count": 1,
   "id": "present-damage",
   "metadata": {},
   "outputs": [],
   "source": [
    "import numpy as np\n",
    "import pandas as pd\n",
    "import seaborn as sns\n",
    "import matplotlib.pyplot as plt\n",
    "import warnings, random\n",
    "warnings.filterwarnings(action='ignore')\n",
    "\n",
    "from sklearn.ensemble import RandomForestClassifier\n",
    "from sklearn.metrics import classification_report, log_loss\n",
    "from sklearn.preprocessing import OneHotEncoder, LabelEncoder, StandardScaler\n",
    "from sklearn.model_selection import train_test_split, KFold, StratifiedKFold\n",
    "\n",
    "from sklearn.svm import SVC\n",
    "from sklearn.linear_model import LogisticRegression\n",
    "from xgboost import XGBClassifier\n",
    "from lightgbm import LGBMClassifier\n",
    "import lightgbm as lgb"
   ]
  },
  {
   "cell_type": "code",
   "execution_count": 2,
   "id": "brave-canada",
   "metadata": {},
   "outputs": [],
   "source": [
    "train = pd.read_csv('train.csv')\n",
    "test = pd.read_csv('test.csv', index_col='index')"
   ]
  },
  {
   "cell_type": "code",
   "execution_count": 3,
   "id": "impaired-decrease",
   "metadata": {},
   "outputs": [],
   "source": [
    "train.drop(['FLAG_MOBIL'], axis=1, inplace=True)\n",
    "train.fillna('BaekSu', inplace=True) \n",
    "\n",
    "test.drop(['FLAG_MOBIL'], axis=1, inplace=True)\n",
    "test.fillna('BaekSu', inplace=True)\n"
   ]
  },
  {
   "cell_type": "code",
   "execution_count": 4,
   "id": "tropical-practice",
   "metadata": {},
   "outputs": [],
   "source": [
    "train = train[train['family_size'] <= 7]"
   ]
  },
  {
   "cell_type": "code",
   "execution_count": 5,
   "id": "vanilla-lexington",
   "metadata": {},
   "outputs": [],
   "source": [
    "train.set_index('index', inplace=True)\n",
    "train = train.reset_index(drop=True)"
   ]
  },
  {
   "cell_type": "code",
   "execution_count": 6,
   "id": "analyzed-alignment",
   "metadata": {},
   "outputs": [],
   "source": [
    "# train.loc[(train.income_type=='Student'), 'income_type'] = 'Pensioner'\n",
    "# test.loc[(test.income_type=='Student'), 'income_type'] = 'Pensioner'"
   ]
  },
  {
   "cell_type": "code",
   "execution_count": null,
   "id": "surprising-winner",
   "metadata": {},
   "outputs": [],
   "source": []
  },
  {
   "cell_type": "code",
   "execution_count": 7,
   "id": "guided-change",
   "metadata": {},
   "outputs": [],
   "source": [
    "# train[\"DAYS_EMPLOYED\"][train[\"DAYS_EMPLOYED\"] >0] = train[\"DAYS_EMPLOYED\"][train[\"DAYS_EMPLOYED\"] >0].replace(365243, 0)\n",
    "# train[\"DAYS_EMPLOYED\"][train[\"DAYS_EMPLOYED\"] >0]\n",
    "\n",
    "# test[\"DAYS_EMPLOYED\"][test[\"DAYS_EMPLOYED\"] >0] = test[\"DAYS_EMPLOYED\"][test[\"DAYS_EMPLOYED\"] >0].replace(365243, 0)\n",
    "# test[\"DAYS_EMPLOYED\"][test[\"DAYS_EMPLOYED\"] >0]"
   ]
  },
  {
   "cell_type": "code",
   "execution_count": 8,
   "id": "oriental-superior",
   "metadata": {},
   "outputs": [],
   "source": [
    "feats = ['DAYS_BIRTH', 'begin_month', 'DAYS_EMPLOYED']\n",
    "for feat in feats:\n",
    "    train[feat]=-train[feat]\n",
    "    test[feat]=-test[feat]"
   ]
  },
  {
   "cell_type": "code",
   "execution_count": 9,
   "id": "classical-motor",
   "metadata": {
    "scrolled": true
   },
   "outputs": [],
   "source": [
    "# train_corr = train.corr()\n",
    "# ax = plt.subplots(figsize=(30, 25))\n",
    "# ax = sns.heatmap(train_corr, center=0, annot = True, linewidths=.5)"
   ]
  },
  {
   "cell_type": "code",
   "execution_count": 10,
   "id": "focal-subdivision",
   "metadata": {},
   "outputs": [],
   "source": [
    "for df in [train,test]:\n",
    "    df['DAYS_BIRTH_DAYS_EMPLOYED_ratio'] = df['DAYS_BIRTH'] / df['DAYS_EMPLOYED']\n",
    "    df['income_total_DAYS_BIRTH_ratio'] = df['income_total'] / df['DAYS_BIRTH']\n",
    "    df['income_total_DAYS_EMPLOYED_ratio'] = df['income_total'] / df['DAYS_EMPLOYED']\n",
    "    df['parents'] = df['family_size'] - df['child_num']\n",
    "    Workingdays = df['DAYS_BIRTH'] - df['DAYS_EMPLOYED']\n",
    "    df['income_total_workingday_ratio'] = df['income_total'] / Workingdays\n",
    "    #df['income_total_family_size_ratio'] = df['income_total'] / df['family_size']"
   ]
  },
  {
   "cell_type": "code",
   "execution_count": 11,
   "id": "golden-brunei",
   "metadata": {},
   "outputs": [],
   "source": [
    "le = LabelEncoder()\n",
    "for df in [train,test]:\n",
    "    df['gender'] = le.fit_transform(df['gender'].astype(str))\n",
    "    df['car'] = le.fit_transform(df['car'].astype(str))\n",
    "    df['reality'] = le.fit_transform(df['reality'].astype(str))\n",
    "    df['income_type'] = le.fit_transform(df['income_type'].astype(str))\n",
    "    df['edu_type'] = le.fit_transform(df['edu_type'].astype(str))\n",
    "    df['family_type'] = le.fit_transform(df['family_type'].astype(str))\n",
    "    df['house_type'] = le.fit_transform(df['house_type'].astype(str))\n",
    "    df['family_type'] = le.fit_transform(df['family_type'].astype(str))\n",
    "    df['occyp_type'] = le.fit_transform(df['occyp_type'].astype(str))"
   ]
  },
  {
   "cell_type": "code",
   "execution_count": 12,
   "id": "consistent-export",
   "metadata": {},
   "outputs": [],
   "source": [
    "# train_corr = train.corr()\n",
    "# ax = plt.subplots(figsize=(30, 25))\n",
    "# ax = sns.heatmap(train_corr, center=0, annot = True, linewidths=.5)"
   ]
  },
  {
   "cell_type": "markdown",
   "id": "exact-judgment",
   "metadata": {},
   "source": [
    "### ID생성 / 중복컬럼 제거"
   ]
  },
  {
   "cell_type": "code",
   "execution_count": 13,
   "id": "horizontal-christian",
   "metadata": {},
   "outputs": [],
   "source": [
    "train['ID'] = \\\n",
    "train['child_num'].astype(str) + '_' + train['income_total'].astype(str) + '_' +\\\n",
    "train['DAYS_BIRTH'].astype(str) + '_' + train['DAYS_EMPLOYED'].astype(str) + '_' +\\\n",
    "train['work_phone'].astype(str) + '_' + train['phone'].astype(str) + '_' +\\\n",
    "train['email'].astype(str) + '_' + train['family_size'].astype(str) + '_' +\\\n",
    "train['gender'].astype(str) + '_' + train['car'].astype(str) + '_' +\\\n",
    "train['reality'].astype(str) + '_' + train['income_type'].astype(str) + '_' +\\\n",
    "train['edu_type'].astype(str) + '_' + train['family_type'].astype(str) + '_' +\\\n",
    "train['house_type'].astype(str) + '_' + train['occyp_type'].astype(str)\n",
    "\n",
    "test['ID'] = \\\n",
    "test['child_num'].astype(str) + '_' + test['income_total'].astype(str) + '_' +\\\n",
    "test['DAYS_BIRTH'].astype(str) + '_' + test['DAYS_EMPLOYED'].astype(str) + '_' +\\\n",
    "test['work_phone'].astype(str) + '_' + test['phone'].astype(str) + '_' +\\\n",
    "test['email'].astype(str) + '_' + test['family_size'].astype(str) + '_' +\\\n",
    "test['gender'].astype(str) + '_' + test['car'].astype(str) + '_' +\\\n",
    "test['reality'].astype(str) + '_' + test['income_type'].astype(str) + '_' +\\\n",
    "test['edu_type'].astype(str) + '_' + test['family_type'].astype(str) + '_' +\\\n",
    "test['house_type'].astype(str) + '_' + test['occyp_type'].astype(str)"
   ]
  },
  {
   "cell_type": "code",
   "execution_count": 14,
   "id": "abstract-drove",
   "metadata": {},
   "outputs": [],
   "source": [
    "#ID : 기존에 있는 아이디면 그대로 인코딩, 없으면 -1로 인코딩\n",
    "le = LabelEncoder()\n",
    "train['ID'] = le.fit_transform(train['ID'])\n",
    "test.loc[~test['ID'].isin(le.classes_),'ID'] = -1\n",
    "test.loc[test['ID'].isin(le.classes_),'ID'] = le.transform(test['ID'][test['ID'].isin(le.classes_)])"
   ]
  },
  {
   "cell_type": "code",
   "execution_count": 15,
   "id": "loose-solution",
   "metadata": {},
   "outputs": [],
   "source": [
    "test = test.astype({'ID': 'int32'})"
   ]
  },
  {
   "cell_type": "code",
   "execution_count": 16,
   "id": "extreme-divide",
   "metadata": {},
   "outputs": [],
   "source": [
    "# target = 'credit'\n",
    "# income_type_mean = train.groupby('income_type')[target].mean()\n",
    "# train['income_type_mean'] = train['income_type'].map(income_type_mean)\n",
    "# test['income_type_mean'] = test['income_type'].map(income_type_mean)"
   ]
  },
  {
   "cell_type": "code",
   "execution_count": 17,
   "id": "aerial-indonesia",
   "metadata": {},
   "outputs": [],
   "source": [
    "# open_month = pd.DataFrame(train.groupby('ID')['begin_month'].min(), index=train.groupby('ID')['begin_month'].min().index)\n",
    "# open_month= open_month.astype('int')\n",
    "# open_month.columns = ['open_month']\n",
    "# om_dict = open_month.open_month.to_dict()\n",
    "\n",
    "# train['open_month'] = train[\"ID\"]\n",
    "# train['open_month'] = train['open_month'].map(om_dict)"
   ]
  },
  {
   "cell_type": "code",
   "execution_count": 18,
   "id": "english-adoption",
   "metadata": {},
   "outputs": [],
   "source": [
    "# open_month = pd.DataFrame(test.groupby('ID')['begin_month'].min(), index=test.groupby('ID')['begin_month'].min().index)\n",
    "# open_month= open_month.astype('int')\n",
    "# open_month.columns = ['open_month']\n",
    "# om_dict = open_month.open_month.to_dict()\n",
    "\n",
    "# test['open_month'] = test[\"ID\"]\n",
    "# test['open_month'] = test['open_month'].map(om_dict)"
   ]
  },
  {
   "cell_type": "code",
   "execution_count": 19,
   "id": "neural-supervision",
   "metadata": {},
   "outputs": [],
   "source": [
    "#train.sort_values(by=['index'], axis=0, inplace=True, ignore_index=True)\n",
    "#test.sort_values(by=['index'], axis=0, inplace=True, ignore_index=True)"
   ]
  },
  {
   "cell_type": "code",
   "execution_count": 20,
   "id": "stainless-papua",
   "metadata": {},
   "outputs": [],
   "source": [
    "#train.drop(['ID'], axis=1, inplace=True)\n",
    "#test.drop(['ID'], axis=1, inplace=True)"
   ]
  },
  {
   "cell_type": "code",
   "execution_count": 21,
   "id": "reported-valuable",
   "metadata": {},
   "outputs": [],
   "source": [
    "#new_data=pd.DataFrame(train.groupby([\"ID\"])[\"begin_month\"].agg(min))\n",
    "#new_data"
   ]
  },
  {
   "cell_type": "code",
   "execution_count": 22,
   "id": "aquatic-witness",
   "metadata": {},
   "outputs": [
    {
     "name": "stdout",
     "output_type": "stream",
     "text": [
      "Number of Numerical features:  23\n",
      "Number of Categorical features:  0\n"
     ]
    }
   ],
   "source": [
    "numerical_feats = train.dtypes[train.dtypes != \"object\"].index.tolist()\n",
    "numerical_feats.remove('credit')\n",
    "# numerical_feats.remove('ID')\n",
    "print(\"Number of Numerical features: \", len(numerical_feats))\n",
    "\n",
    "categorical_feats = train.dtypes[train.dtypes == \"object\"].index.tolist()\n",
    "print(\"Number of Categorical features: \", len(categorical_feats))\n",
    "\n",
    "total_feats = numerical_feats + categorical_feats"
   ]
  },
  {
   "cell_type": "markdown",
   "id": "appointed-scientist",
   "metadata": {},
   "source": [
    "## LabelEncoding, Scaling"
   ]
  },
  {
   "cell_type": "code",
   "execution_count": 23,
   "id": "impossible-hardwood",
   "metadata": {},
   "outputs": [],
   "source": [
    "# for feat in categorical_feats:\n",
    "#     encoder = LabelEncoder()\n",
    "#     train[feat] = encoder.fit_transform(train[feat])\n",
    "#     test[feat] = encoder.transform(test[feat])"
   ]
  },
  {
   "cell_type": "code",
   "execution_count": 24,
   "id": "short-smith",
   "metadata": {},
   "outputs": [],
   "source": [
    "# for col in ['family_size', 'child_num']:\n",
    "#     train[col] = np.log2(1 + train[col])\n",
    "#     test[col] = np.log2(1 + test[col])\n",
    "\n",
    "# feats = ['income_total', 'DAYS_BIRTH', 'DAYS_EMPLOYED']\n",
    "scaler = StandardScaler()\n",
    "train[numerical_feats] = scaler.fit_transform(train[numerical_feats])\n",
    "test[numerical_feats] = scaler.transform(test[numerical_feats])\n",
    "\n",
    "# scaler = MinMaxScaler()\n",
    "# train[['DAYS_EMPLOYED']] = scaler.fit_transform(train[['DAYS_EMPLOYED']])\n",
    "# test[['DAYS_EMPLOYED']] = scaler.transform(test[['DAYS_EMPLOYED']])\n"
   ]
  },
  {
   "cell_type": "markdown",
   "id": "handed-boundary",
   "metadata": {},
   "source": [
    "## Modeling"
   ]
  },
  {
   "cell_type": "code",
   "execution_count": 25,
   "id": "resistant-lodging",
   "metadata": {},
   "outputs": [],
   "source": [
    "n_est = 1000\n",
    "seed = 42\n",
    "n_fold = 5\n",
    "n_class = 3\n",
    "\n",
    "rf_params = {\n",
    "    'max_depth': 16,\n",
    "    'min_samples_leaf': 8,\n",
    "    'random_state': seed\n",
    "}\n",
    "\n",
    "# lgb_params = {\n",
    "#     'metric': 'multi_logloss',\n",
    "#     'n_estimators': n_est,\n",
    "#     'objective': 'multiclass',\n",
    "#     'random_state': seed,\n",
    "#     'learning_rate': 0.01,\n",
    "#     'min_child_samples': 20,\n",
    "#     'reg_alpha': 3e-5,\n",
    "#     'reg_lambda': 9e-2,\n",
    "#     'num_leaves': 127,\n",
    "#     'colsample_bytree': 0.8,\n",
    "#     'subsample': 0.8,\n",
    "#     'num_class': n_class,\n",
    "#     'early_stopping_rounds':500,\n",
    "#     'n_jobs':-1,\n",
    "#     'max_depth':-1,\n",
    "# }\n",
    "\n",
    "lgb_params = {\n",
    "                    'objective':'multiclass',\n",
    "                    'num_class': 3,\n",
    "                    'boosting_type':'gbdt',\n",
    "                    'metric':'multi_logloss',\n",
    "                    'n_jobs':-1,\n",
    "                    'learning_rate':0.01,\n",
    "                    'num_leaves': 127,\n",
    "                    'max_depth':-1,\n",
    "                    'tree_learner':'serial',\n",
    "                    \"min_child_weight\": 0.01,\n",
    "                    'colsample_bytree': 0.7,\n",
    "                    'subsample_freq':1,\n",
    "                    'subsample':0.5,\n",
    "                    'n_estimators':1000,\n",
    "                    'max_bin':800,\n",
    "                    'verbose':-1,\n",
    "                    'seed': seed,\n",
    "                    #'early_stopping_rounds':300, \n",
    "                }"
   ]
  },
  {
   "cell_type": "code",
   "execution_count": 26,
   "id": "cathedral-personal",
   "metadata": {},
   "outputs": [],
   "source": [
    "models = {'RF': RandomForestClassifier(**rf_params), \n",
    "               'LGBM': LGBMClassifier(**lgb_params),\n",
    "}"
   ]
  },
  {
   "cell_type": "code",
   "execution_count": 27,
   "id": "tender-stick",
   "metadata": {},
   "outputs": [],
   "source": [
    "X = train.drop('credit', axis=1)\n",
    "y = train['credit']\n",
    "X_test = test"
   ]
  },
  {
   "cell_type": "code",
   "execution_count": null,
   "id": "ecological-sheep",
   "metadata": {},
   "outputs": [],
   "source": [
    "target = 'credit'"
   ]
  },
  {
   "cell_type": "code",
   "execution_count": null,
   "id": "fancy-forge",
   "metadata": {},
   "outputs": [],
   "source": [
    "train8, train2 = train_test_split(train, test_size=0.2, random_state=seed)"
   ]
  },
  {
   "cell_type": "code",
   "execution_count": null,
   "id": "confirmed-conservation",
   "metadata": {},
   "outputs": [],
   "source": [
    "remove_features = []\n",
    "remove_features += ['index' , 'credit']\n",
    "features = [col for col in list(train) if col not in remove_features]\n",
    "#features"
   ]
  },
  {
   "cell_type": "code",
   "execution_count": null,
   "id": "random-rally",
   "metadata": {},
   "outputs": [],
   "source": [
    "old_score=0\n",
    "features_columns = [col for col in list(train8) if col not in remove_features]\n",
    "X_train, y_train = train8[features_columns], train8[target]    \n",
    "X_val, y_val = train2[features_columns], train2[target]\n",
    "    \n",
    "tt_df = train2[['index',target]]        \n",
    "y_preds = np.zeros((train2.shape[0],n_class))\n",
    "test_preds = np.zeros((X_test.shape[0], n_class))\n",
    "\n",
    "\n",
    "tr_data = lgb.Dataset(X_train, label=y_train)\n",
    "vl_data = lgb.Dataset(X_val, label=y_val) \n",
    "estimator = lgb.train(\n",
    "        lgb_params,\n",
    "        tr_data,\n",
    "        valid_sets = [tr_data, vl_data],\n",
    "        verbose_eval = 100,\n",
    "        )\n",
    "y_preds += estimator.predict(X_val)\n",
    "\n",
    "test_preds += estimator.predict(X_test)\n",
    "feature_imp = pd.DataFrame(sorted(zip(estimator.feature_importance(),X_train.columns)), columns=['Value','Feature'])\n",
    "     \n",
    "m_results = []\n",
    "print('#'*20)\n",
    "  \n",
    "g_logloss = log_loss(tt_df[target], y_preds)\n",
    "score_diff = g_logloss - old_score\n",
    "print('Global log loss', g_logloss)\n",
    "m_results.append(g_logloss)\n",
    "    \n",
    "print('#'*20)\n",
    "print('Features Preformance:', g_logloss)\n",
    "print('Diff with previous__:', score_diff)"
   ]
  },
  {
   "cell_type": "markdown",
   "id": "portable-horse",
   "metadata": {},
   "source": [
    "### fold"
   ]
  },
  {
   "cell_type": "code",
   "execution_count": null,
   "id": "toxic-peoples",
   "metadata": {},
   "outputs": [],
   "source": [
    "# old_score=0\n",
    "    \n",
    "# y_preds = np.zeros((X.shape[0],n_class))\n",
    "# test_preds = np.zeros((X_test.shape[0], n_class))\n",
    "    \n",
    "# cv = StratifiedKFold(n_splits=5, shuffle=True, random_state=42)\n"
   ]
  },
  {
   "cell_type": "code",
   "execution_count": null,
   "id": "tired-greece",
   "metadata": {},
   "outputs": [],
   "source": [
    "# for i_cv, (i_trn, i_val) in enumerate(cv.split(X, y)):\n",
    "#     tr_data = lgb.Dataset(X.iloc[i_trn], label=y.iloc[i_trn])\n",
    "#     #vl_data = lgb.Dataset(X_val.iloc[i_trn], label=y_val.iloc[i_trn]) \n",
    "#     estimator = lgb.train(\n",
    "#             lgb_params,\n",
    "#             tr_data,\n",
    "#             #valid_sets = [tr_data, vl_data],\n",
    "#             verbose_eval = 100,\n",
    "#         )\n",
    "#     y_preds[i_val] = estimator.predict(X.iloc[i_val])\n",
    "\n",
    "#     test_preds += estimator.predict(X_test) / n_fold\n",
    "    \n",
    "# skfold = StratifiedKFold(n_splits=5, shuffle=True, random_state=42)\n",
    "# folds=[]\n",
    "# for train_idx, valid_idx in skfold.split(X, y):\n",
    "#         folds.append((train_idx, valid_idx))\n",
    "# for fold in range(5):\n",
    "#     train_idx, valid_idx = folds[fold]\n",
    "#     X_train, X_valid, y_train, y_valid = X.iloc[train_idx], X.iloc[valid_idx], y[train_idx], y[valid_idx]\n",
    "#     tr_data = lgb.Dataset(X.iloc[i_trn], label=y.iloc[i_trn])\n",
    "#     estimator = lgb.train(\n",
    "#             lgb_params,\n",
    "#             tr_data,\n",
    "#             #valid_sets = [tr_data, vl_data],\n",
    "#             verbose_eval = 100,\n",
    "#         )\n",
    "#     pred[valid_idx] = models[name].predict_proba(X_valid)\n",
    "#     pred_test += models[name].predict_proba(X_test) / 5"
   ]
  },
  {
   "cell_type": "code",
   "execution_count": null,
   "id": "professional-poker",
   "metadata": {},
   "outputs": [],
   "source": [
    "# feature_imp = pd.DataFrame(sorted(zip(estimator.feature_importance(),X.columns)), columns=['Value','Feature'])\n",
    "     \n",
    "# m_results = []\n",
    "# print('#'*20)\n",
    "  \n",
    "# g_logloss = log_loss(y, y_preds)\n",
    "# score_diff = g_logloss - old_score\n",
    "# print('Global log loss', g_logloss)\n",
    "# m_results.append(g_logloss)\n",
    "    \n",
    "# print('#'*20)\n",
    "# print('Features Preformance:', g_logloss)\n",
    "# print('Diff with previous__:', score_diff)"
   ]
  },
  {
   "cell_type": "code",
   "execution_count": null,
   "id": "sunrise-deficit",
   "metadata": {},
   "outputs": [],
   "source": [
    "# test_preds"
   ]
  },
  {
   "cell_type": "code",
   "execution_count": null,
   "id": "lesser-female",
   "metadata": {},
   "outputs": [],
   "source": [
    "# pred_df = pd.DataFrame(data=test_preds)\n",
    "# pred_df\n",
    "\n",
    "# sub = pd.read_csv('sample_submission.csv', index_col='index')\n",
    "# sub[sub.columns] = pred_df.values\n",
    "# sub.to_csv('submission0501_featim2.csv')"
   ]
  },
  {
   "cell_type": "code",
   "execution_count": 28,
   "id": "exceptional-spelling",
   "metadata": {
    "scrolled": false
   },
   "outputs": [
    {
     "name": "stdout",
     "output_type": "stream",
     "text": [
      "Training RF:\n",
      "\tCV Log Loss: 0.749373\n",
      "Training LGBM:\n",
      "\tCV Log Loss: 0.708569\n"
     ]
    }
   ],
   "source": [
    "skfold = StratifiedKFold(n_splits=5, shuffle=True, random_state=42)\n",
    "folds=[]\n",
    "for train_idx, valid_idx in skfold.split(X, y):\n",
    "        folds.append((train_idx, valid_idx))\n",
    "\n",
    "pred_dic = {}\n",
    "pred_test_dic = {}\n",
    "        \n",
    "for name in models:\n",
    "    print(f'Training {name}:')\n",
    "    pred = np.zeros((X.shape[0], 3), dtype=float)\n",
    "    pred_test = np.zeros((X_test.shape[0], 3), dtype=float)\n",
    "    for fold in range(5):\n",
    "        train_idx, valid_idx = folds[fold]\n",
    "        X_train, X_valid, y_train, y_valid = X.iloc[train_idx], X.iloc[valid_idx], y[train_idx], y[valid_idx]\n",
    "        models[name].fit(X_train, y_train)\n",
    "        pred[valid_idx] = models[name].predict_proba(X_valid)\n",
    "        pred_test += models[name].predict_proba(X_test) / 5\n",
    "        \n",
    "    pred_dic[name] = pred\n",
    "    pred_test_dic[name] = pred_test\n",
    "    print(f'\\tCV Log Loss: {log_loss(y, pred):.6f}')"
   ]
  },
  {
   "cell_type": "code",
   "execution_count": null,
   "id": "coordinated-spyware",
   "metadata": {},
   "outputs": [],
   "source": [
    "best_score_(models['LGBM'])"
   ]
  },
  {
   "cell_type": "code",
   "execution_count": 29,
   "id": "racial-handling",
   "metadata": {},
   "outputs": [
    {
     "data": {
      "text/plain": [
       "<AxesSubplot:title={'center':'Feature importance'}, xlabel='Feature importance', ylabel='Features'>"
      ]
     },
     "execution_count": 29,
     "metadata": {},
     "output_type": "execute_result"
    },
    {
     "data": {
      "image/png": "[encoded data removed]",
      "text/plain": [
       "<Figure size 432x432 with 1 Axes>"
      ]
     },
     "metadata": {
      "needs_background": "light"
     },
     "output_type": "display_data"
    }
   ],
   "source": [
    "from lightgbm import plot_importance\n",
    "import matplotlib.pyplot as plt\n",
    "%matplotlib inline\n",
    "\n",
    "f, ax = plt.subplots(figsize=(6, 6))\n",
    "plot_importance(models['LGBM'], ax=ax)"
   ]
  },
  {
   "cell_type": "code",
   "execution_count": 30,
   "id": "intelligent-newspaper",
   "metadata": {},
   "outputs": [],
   "source": [
    "pred_df = pd.DataFrame(data=pred_test_dic['LGBM'])\n",
    "pred_df\n",
    "\n",
    "sub = pd.read_csv('sample_submission.csv', index_col='index')\n",
    "sub[sub.columns] = pred_df.values\n",
    "sub.to_csv('submission0501_origin_model.csv')"
   ]
  },
  {
   "cell_type": "markdown",
   "id": "alien-belize",
   "metadata": {},
   "source": [
    "### Stacking\n",
    "ref)https://dacon.io/codeshare/1828?dtype=recent"
   ]
  },
  {
   "cell_type": "code",
   "execution_count": null,
   "id": "basic-bruce",
   "metadata": {},
   "outputs": [],
   "source": [
    "X_train7 , X_val3, y_train7, y_val3 = train_test_split(X, y, test_size=0.3, random_state=42)"
   ]
  },
  {
   "cell_type": "code",
   "execution_count": null,
   "id": "dressed-latitude",
   "metadata": {},
   "outputs": [],
   "source": [
    "from sklearn.ensemble import StackingClassifier\n",
    "\n",
    "clf1 = RandomForestClassifier()\n",
    "clf2 = SVC(probability=True)\n",
    "clf3 = LogisticRegression(multi_class = 'ovr')"
   ]
  },
  {
   "cell_type": "code",
   "execution_count": null,
   "id": "champion-anthony",
   "metadata": {},
   "outputs": [],
   "source": [
    "clf = StackingClassifier(estimators=[('rf', clf1), ('svc', clf2), ('lr', clf3)], #모델 합치기\n",
    "    final_estimator=models['LGBM'], n_jobs = -1, stack_method = 'predict_proba', cv = 5)"
   ]
  },
  {
   "cell_type": "code",
   "execution_count": null,
   "id": "weighted-polls",
   "metadata": {},
   "outputs": [],
   "source": [
    "clf = clf.fit(X_train7, y_train7)"
   ]
  },
  {
   "cell_type": "code",
   "execution_count": null,
   "id": "noted-semester",
   "metadata": {},
   "outputs": [],
   "source": [
    "y_pred_stack = clf.predict_proba(X_val3)"
   ]
  },
  {
   "cell_type": "code",
   "execution_count": null,
   "id": "surface-choir",
   "metadata": {},
   "outputs": [],
   "source": [
    "    print(f'\\tCV Log Loss: {log_loss(y_val3, y_pred_stack):.6f}')"
   ]
  },
  {
   "cell_type": "code",
   "execution_count": null,
   "id": "still-hunter",
   "metadata": {},
   "outputs": [],
   "source": [
    "pred_df = pd.DataFrame(data=y_pred_stack)\n",
    "pred_df"
   ]
  },
  {
   "cell_type": "code",
   "execution_count": null,
   "id": "vocational-pound",
   "metadata": {},
   "outputs": [],
   "source": [
    "sub = pd.read_csv('sample_submission.csv', index_col='index')\n",
    "sub[sub.columns] = pred_df.values\n",
    "sub.to_csv('submission0428_stacking.csv')"
   ]
  }
 ],
 "metadata": {
  "kernelspec": {
   "display_name": "Python 3",
   "language": "python",
   "name": "python3"
  },
  "language_info": {
   "codemirror_mode": {
    "name": "ipython",
    "version": 3
   },
   "file_extension": ".py",
   "mimetype": "text/x-python",
   "name": "python",
   "nbconvert_exporter": "python",
   "pygments_lexer": "ipython3",
   "version": "3.7.10"
  },
  "varInspector": {
   "cols": {
    "lenName": 16,
    "lenType": 16,
    "lenVar": 40
   },
   "kernels_config": {
    "python": {
     "delete_cmd_postfix": "",
     "delete_cmd_prefix": "del ",
     "library": "var_list.py",
     "varRefreshCmd": "print(var_dic_list())"
    },
    "r": {
     "delete_cmd_postfix": ") ",
     "delete_cmd_prefix": "rm(",
     "library": "var_list.r",
     "varRefreshCmd": "cat(var_dic_list()) "
    }
   },
   "types_to_exclude": [
    "module",
    "function",
    "builtin_function_or_method",
    "instance",
    "_Feature"
   ],
   "window_display": false
  }
 },
 "nbformat": 4,
 "nbformat_minor": 5
}
