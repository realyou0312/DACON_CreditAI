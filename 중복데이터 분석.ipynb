{
 "cells": [
  {
   "cell_type": "code",
   "execution_count": 318,
   "id": "3acff97a",
   "metadata": {
    "ExecuteTime": {
     "end_time": "2021-04-28T02:08:21.295291Z",
     "start_time": "2021-04-28T02:08:21.287803Z"
    }
   },
   "outputs": [],
   "source": [
    "import pandas as pd\n",
    "import numpy as np\n",
    "import matplotlib.pyplot as plt\n",
    "import seaborn as sns\n",
    "\n",
    "from sklearn import preprocessing"
   ]
  },
  {
   "cell_type": "markdown",
   "id": "256268ad",
   "metadata": {},
   "source": [
    "<pre>\n",
    "데이터 변수 설명\n",
    "- index  --> drop\n",
    "- gender: 성별\n",
    "- car: 차량 소유 여부\n",
    "- reality: 부동산 소유 여부\n",
    "- child_num: 자녀 수\n",
    "- income_total: 연간 소득\n",
    "\n",
    "- income_type: 소득 분류\n",
    "['Commercial associate', 'Working', 'State servant', 'Pensioner', 'Student']\n",
    "\n",
    "- edu_type: 교육 수준\n",
    "['Higher education' ,'Secondary / secondary special', 'Incomplete higher', 'Lower secondary', 'Academic degree']\n",
    "\n",
    "- family_type: 결혼 여부\n",
    "['Married', 'Civil marriage', 'Separated', 'Single / not married', 'Widow']\n",
    "\n",
    "- house_type: 생활 방식\n",
    "['Municipal apartment', 'House / apartment', 'With parents', 'Co-op apartment', 'Rented apartment', 'Office apartment']\n",
    "\n",
    "- DAYS_BIRTH: 출생일\n",
    "데이터 수집 당시 (0)부터 역으로 셈, 즉, -1은 데이터 수집일 하루 전에 태어났음을 의미\n",
    "\n",
    "- DAYS_EMPLOYED: 업무 시작일\n",
    "데이터 수집 당시 (0)부터 역으로 셈, 즉, -1은 데이터 수집일 하루 전부터 일을 시작함을 의미\n",
    "양수 값은 고용되지 않은 상태를 의미함\n",
    "\n",
    "- FLAG_MOBIL: 핸드폰 소유 여부  --> drop\n",
    "\n",
    "- work_phone: 업무용 전화 소유 여부\n",
    "\n",
    "- phone: 전화 소유 여부\n",
    "\n",
    "- email: 이메일 소유 여부\n",
    "\n",
    "- occyp_type: 직업 유형\t\t\t\t\t\t\t\t\t\t\t\t\t\n",
    "\n",
    "- family_size: 가족 규모\n",
    "\n",
    "- begin_month: 신용카드 발급 월\n",
    "데이터 수집 당시 (0)부터 역으로 셈, 즉, -1은 데이터 수집일 한 달 전에 신용카드를 발급함을 의미\n",
    "\n",
    "- credit: 사용자의 신용카드 대금 연체를 기준으로 한 신용도\n",
    "=> 낮을 수록 높은 신용의 신용카드 사용자를 의미함\n",
    "\n",
    "</pre>"
   ]
  },
  {
   "cell_type": "code",
   "execution_count": 158,
   "id": "d826f474",
   "metadata": {
    "ExecuteTime": {
     "end_time": "2021-04-27T19:16:05.549901Z",
     "start_time": "2021-04-27T19:16:05.479091Z"
    }
   },
   "outputs": [],
   "source": [
    "train = pd.read_csv('train.csv')\n",
    "test = pd.read_csv('test.csv')"
   ]
  },
  {
   "cell_type": "code",
   "execution_count": 159,
   "id": "76abdecb",
   "metadata": {
    "ExecuteTime": {
     "end_time": "2021-04-27T19:16:05.913177Z",
     "start_time": "2021-04-27T19:16:05.893231Z"
    }
   },
   "outputs": [
    {
     "name": "stdout",
     "output_type": "stream",
     "text": [
      "<class 'pandas.core.frame.DataFrame'>\n",
      "RangeIndex: 26457 entries, 0 to 26456\n",
      "Data columns (total 20 columns):\n",
      " #   Column         Non-Null Count  Dtype  \n",
      "---  ------         --------------  -----  \n",
      " 0   index          26457 non-null  int64  \n",
      " 1   gender         26457 non-null  object \n",
      " 2   car            26457 non-null  object \n",
      " 3   reality        26457 non-null  object \n",
      " 4   child_num      26457 non-null  int64  \n",
      " 5   income_total   26457 non-null  float64\n",
      " 6   income_type    26457 non-null  object \n",
      " 7   edu_type       26457 non-null  object \n",
      " 8   family_type    26457 non-null  object \n",
      " 9   house_type     26457 non-null  object \n",
      " 10  DAYS_BIRTH     26457 non-null  int64  \n",
      " 11  DAYS_EMPLOYED  26457 non-null  int64  \n",
      " 12  FLAG_MOBIL     26457 non-null  int64  \n",
      " 13  work_phone     26457 non-null  int64  \n",
      " 14  phone          26457 non-null  int64  \n",
      " 15  email          26457 non-null  int64  \n",
      " 16  occyp_type     18286 non-null  object \n",
      " 17  family_size    26457 non-null  float64\n",
      " 18  begin_month    26457 non-null  float64\n",
      " 19  credit         26457 non-null  float64\n",
      "dtypes: float64(4), int64(8), object(8)\n",
      "memory usage: 4.0+ MB\n"
     ]
    }
   ],
   "source": [
    "train.info()"
   ]
  },
  {
   "cell_type": "markdown",
   "id": "3ab05915",
   "metadata": {},
   "source": [
    "### begin_month까지 똑같은 row"
   ]
  },
  {
   "cell_type": "code",
   "execution_count": 319,
   "id": "b19fff84",
   "metadata": {
    "ExecuteTime": {
     "end_time": "2021-04-28T02:09:01.708534Z",
     "start_time": "2021-04-28T02:09:01.468177Z"
    }
   },
   "outputs": [],
   "source": [
    "temp = train.copy()\n",
    "temp['ID'] = \\\n",
    "temp['child_num'].astype(str) + '_' + temp['income_total'].astype(str) + '_' +\\\n",
    "temp['DAYS_BIRTH'].astype(str) + '_' + temp['DAYS_EMPLOYED'].astype(str) + '_' +\\\n",
    "temp['work_phone'].astype(str) + '_' + temp['phone'].astype(str) + '_' +\\\n",
    "temp['email'].astype(str) + '_' + temp['family_size'].astype(str) + '_' +\\\n",
    "temp['gender'].astype(str) + '_' + temp['car'].astype(str) + '_' +\\\n",
    "temp['reality'].astype(str) + '_' + temp['income_type'].astype(str) + '_' +\\\n",
    "temp['edu_type'].astype(str) + '_' + temp['family_type'].astype(str) + '_' +\\\n",
    "temp['house_type'].astype(str) + '_' + temp['occyp_type'].astype(str) + '-' +\\\n",
    "temp['begin_month'].astype(str)"
   ]
  },
  {
   "cell_type": "code",
   "execution_count": 320,
   "id": "d6ad40fa",
   "metadata": {
    "ExecuteTime": {
     "end_time": "2021-04-28T02:09:02.696918Z",
     "start_time": "2021-04-28T02:09:02.631094Z"
    }
   },
   "outputs": [],
   "source": [
    "label_encoder=preprocessing.LabelEncoder()\n",
    "temp['ID']=label_encoder.fit_transform(temp['ID'])"
   ]
  },
  {
   "cell_type": "code",
   "execution_count": 348,
   "id": "48764249",
   "metadata": {
    "ExecuteTime": {
     "end_time": "2021-04-28T02:28:56.058925Z",
     "start_time": "2021-04-28T02:28:56.037980Z"
    }
   },
   "outputs": [
    {
     "data": {
      "text/plain": [
       "Int64Index([    2,     3,    13,    72,   136,   153,   190,   340,   435,\n",
       "              452,\n",
       "            ...\n",
       "            23815, 23926, 24006, 24026, 24030, 24050, 24052, 24054, 24061,\n",
       "            24071],\n",
       "           dtype='int64', name='ID', length=706)"
      ]
     },
     "execution_count": 348,
     "metadata": {},
     "output_type": "execute_result"
    }
   ],
   "source": [
    "id_index = temp.groupby('ID')['credit'].nunique().where(temp.groupby('ID')['credit'].nunique() >= 2).dropna().index\n",
    "# 모든 columns 같고, credit만 다름: 706명 \n",
    "# 3개 : 13명\n",
    "# 2개 : 693명 \n",
    "id_index"
   ]
  },
  {
   "cell_type": "code",
   "execution_count": 353,
   "id": "a09a2552",
   "metadata": {
    "ExecuteTime": {
     "end_time": "2021-04-28T02:32:19.093425Z",
     "start_time": "2021-04-28T02:32:19.044556Z"
    }
   },
   "outputs": [
    {
     "data": {
      "text/html": [
       "<div>\n",
       "<style scoped>\n",
       "    .dataframe tbody tr th:only-of-type {\n",
       "        vertical-align: middle;\n",
       "    }\n",
       "\n",
       "    .dataframe tbody tr th {\n",
       "        vertical-align: top;\n",
       "    }\n",
       "\n",
       "    .dataframe thead th {\n",
       "        text-align: right;\n",
       "    }\n",
       "</style>\n",
       "<table border=\"1\" class=\"dataframe\">\n",
       "  <thead>\n",
       "    <tr style=\"text-align: right;\">\n",
       "      <th></th>\n",
       "      <th>index</th>\n",
       "      <th>child_num</th>\n",
       "      <th>income_total</th>\n",
       "      <th>DAYS_BIRTH</th>\n",
       "      <th>DAYS_EMPLOYED</th>\n",
       "      <th>FLAG_MOBIL</th>\n",
       "      <th>work_phone</th>\n",
       "      <th>phone</th>\n",
       "      <th>email</th>\n",
       "      <th>family_size</th>\n",
       "      <th>begin_month</th>\n",
       "      <th>credit</th>\n",
       "      <th>ID</th>\n",
       "    </tr>\n",
       "  </thead>\n",
       "  <tbody>\n",
       "    <tr>\n",
       "      <th>count</th>\n",
       "      <td>1519.000000</td>\n",
       "      <td>1519.000000</td>\n",
       "      <td>1519.000000</td>\n",
       "      <td>1519.000000</td>\n",
       "      <td>1519.000000</td>\n",
       "      <td>1519.0</td>\n",
       "      <td>1519.000000</td>\n",
       "      <td>1519.000000</td>\n",
       "      <td>1519.000000</td>\n",
       "      <td>1519.000000</td>\n",
       "      <td>1519.000000</td>\n",
       "      <td>1519.000000</td>\n",
       "      <td>1519.000000</td>\n",
       "    </tr>\n",
       "    <tr>\n",
       "      <th>mean</th>\n",
       "      <td>13270.053983</td>\n",
       "      <td>0.414088</td>\n",
       "      <td>192088.259052</td>\n",
       "      <td>-15827.853193</td>\n",
       "      <td>51510.671494</td>\n",
       "      <td>1.0</td>\n",
       "      <td>0.267281</td>\n",
       "      <td>0.302172</td>\n",
       "      <td>0.089533</td>\n",
       "      <td>2.162607</td>\n",
       "      <td>-26.520079</td>\n",
       "      <td>1.192890</td>\n",
       "      <td>12142.436471</td>\n",
       "    </tr>\n",
       "    <tr>\n",
       "      <th>std</th>\n",
       "      <td>7714.542174</td>\n",
       "      <td>0.741459</td>\n",
       "      <td>93461.566871</td>\n",
       "      <td>4054.347876</td>\n",
       "      <td>130543.916035</td>\n",
       "      <td>0.0</td>\n",
       "      <td>0.442686</td>\n",
       "      <td>0.459351</td>\n",
       "      <td>0.285605</td>\n",
       "      <td>0.928553</td>\n",
       "      <td>16.588310</td>\n",
       "      <td>0.796271</td>\n",
       "      <td>6636.595617</td>\n",
       "    </tr>\n",
       "    <tr>\n",
       "      <th>min</th>\n",
       "      <td>1.000000</td>\n",
       "      <td>0.000000</td>\n",
       "      <td>31500.000000</td>\n",
       "      <td>-24662.000000</td>\n",
       "      <td>-15038.000000</td>\n",
       "      <td>1.0</td>\n",
       "      <td>0.000000</td>\n",
       "      <td>0.000000</td>\n",
       "      <td>0.000000</td>\n",
       "      <td>1.000000</td>\n",
       "      <td>-60.000000</td>\n",
       "      <td>0.000000</td>\n",
       "      <td>2.000000</td>\n",
       "    </tr>\n",
       "    <tr>\n",
       "      <th>25%</th>\n",
       "      <td>6611.000000</td>\n",
       "      <td>0.000000</td>\n",
       "      <td>135000.000000</td>\n",
       "      <td>-18825.500000</td>\n",
       "      <td>-3259.000000</td>\n",
       "      <td>1.0</td>\n",
       "      <td>0.000000</td>\n",
       "      <td>0.000000</td>\n",
       "      <td>0.000000</td>\n",
       "      <td>2.000000</td>\n",
       "      <td>-40.000000</td>\n",
       "      <td>1.000000</td>\n",
       "      <td>6979.000000</td>\n",
       "    </tr>\n",
       "    <tr>\n",
       "      <th>50%</th>\n",
       "      <td>13446.000000</td>\n",
       "      <td>0.000000</td>\n",
       "      <td>180000.000000</td>\n",
       "      <td>-15351.000000</td>\n",
       "      <td>-1693.000000</td>\n",
       "      <td>1.0</td>\n",
       "      <td>0.000000</td>\n",
       "      <td>0.000000</td>\n",
       "      <td>0.000000</td>\n",
       "      <td>2.000000</td>\n",
       "      <td>-25.000000</td>\n",
       "      <td>1.000000</td>\n",
       "      <td>12016.000000</td>\n",
       "    </tr>\n",
       "    <tr>\n",
       "      <th>75%</th>\n",
       "      <td>19806.500000</td>\n",
       "      <td>1.000000</td>\n",
       "      <td>225000.000000</td>\n",
       "      <td>-12554.500000</td>\n",
       "      <td>-451.000000</td>\n",
       "      <td>1.0</td>\n",
       "      <td>1.000000</td>\n",
       "      <td>1.000000</td>\n",
       "      <td>0.000000</td>\n",
       "      <td>3.000000</td>\n",
       "      <td>-12.000000</td>\n",
       "      <td>2.000000</td>\n",
       "      <td>17672.000000</td>\n",
       "    </tr>\n",
       "    <tr>\n",
       "      <th>max</th>\n",
       "      <td>26432.000000</td>\n",
       "      <td>4.000000</td>\n",
       "      <td>945000.000000</td>\n",
       "      <td>-8251.000000</td>\n",
       "      <td>365243.000000</td>\n",
       "      <td>1.0</td>\n",
       "      <td>1.000000</td>\n",
       "      <td>1.000000</td>\n",
       "      <td>1.000000</td>\n",
       "      <td>6.000000</td>\n",
       "      <td>0.000000</td>\n",
       "      <td>2.000000</td>\n",
       "      <td>24071.000000</td>\n",
       "    </tr>\n",
       "  </tbody>\n",
       "</table>\n",
       "</div>"
      ],
      "text/plain": [
       "              index    child_num   income_total    DAYS_BIRTH  DAYS_EMPLOYED  \\\n",
       "count   1519.000000  1519.000000    1519.000000   1519.000000    1519.000000   \n",
       "mean   13270.053983     0.414088  192088.259052 -15827.853193   51510.671494   \n",
       "std     7714.542174     0.741459   93461.566871   4054.347876  130543.916035   \n",
       "min        1.000000     0.000000   31500.000000 -24662.000000  -15038.000000   \n",
       "25%     6611.000000     0.000000  135000.000000 -18825.500000   -3259.000000   \n",
       "50%    13446.000000     0.000000  180000.000000 -15351.000000   -1693.000000   \n",
       "75%    19806.500000     1.000000  225000.000000 -12554.500000    -451.000000   \n",
       "max    26432.000000     4.000000  945000.000000  -8251.000000  365243.000000   \n",
       "\n",
       "       FLAG_MOBIL   work_phone        phone        email  family_size  \\\n",
       "count      1519.0  1519.000000  1519.000000  1519.000000  1519.000000   \n",
       "mean          1.0     0.267281     0.302172     0.089533     2.162607   \n",
       "std           0.0     0.442686     0.459351     0.285605     0.928553   \n",
       "min           1.0     0.000000     0.000000     0.000000     1.000000   \n",
       "25%           1.0     0.000000     0.000000     0.000000     2.000000   \n",
       "50%           1.0     0.000000     0.000000     0.000000     2.000000   \n",
       "75%           1.0     1.000000     1.000000     0.000000     3.000000   \n",
       "max           1.0     1.000000     1.000000     1.000000     6.000000   \n",
       "\n",
       "       begin_month       credit            ID  \n",
       "count  1519.000000  1519.000000   1519.000000  \n",
       "mean    -26.520079     1.192890  12142.436471  \n",
       "std      16.588310     0.796271   6636.595617  \n",
       "min     -60.000000     0.000000      2.000000  \n",
       "25%     -40.000000     1.000000   6979.000000  \n",
       "50%     -25.000000     1.000000  12016.000000  \n",
       "75%     -12.000000     2.000000  17672.000000  \n",
       "max       0.000000     2.000000  24071.000000  "
      ]
     },
     "execution_count": 353,
     "metadata": {},
     "output_type": "execute_result"
    }
   ],
   "source": [
    "temp[temp.ID.isin(id_index)].describe()"
   ]
  },
  {
   "cell_type": "code",
   "execution_count": 339,
   "id": "3db937b0",
   "metadata": {
    "ExecuteTime": {
     "end_time": "2021-04-28T02:21:31.614138Z",
     "start_time": "2021-04-28T02:21:31.590202Z"
    }
   },
   "outputs": [
    {
     "data": {
      "text/html": [
       "<div>\n",
       "<style scoped>\n",
       "    .dataframe tbody tr th:only-of-type {\n",
       "        vertical-align: middle;\n",
       "    }\n",
       "\n",
       "    .dataframe tbody tr th {\n",
       "        vertical-align: top;\n",
       "    }\n",
       "\n",
       "    .dataframe thead th {\n",
       "        text-align: right;\n",
       "    }\n",
       "</style>\n",
       "<table border=\"1\" class=\"dataframe\">\n",
       "  <thead>\n",
       "    <tr style=\"text-align: right;\">\n",
       "      <th></th>\n",
       "      <th>index</th>\n",
       "      <th>gender</th>\n",
       "      <th>car</th>\n",
       "      <th>reality</th>\n",
       "      <th>child_num</th>\n",
       "      <th>income_total</th>\n",
       "      <th>income_type</th>\n",
       "      <th>edu_type</th>\n",
       "      <th>family_type</th>\n",
       "      <th>house_type</th>\n",
       "      <th>...</th>\n",
       "      <th>DAYS_EMPLOYED</th>\n",
       "      <th>FLAG_MOBIL</th>\n",
       "      <th>work_phone</th>\n",
       "      <th>phone</th>\n",
       "      <th>email</th>\n",
       "      <th>occyp_type</th>\n",
       "      <th>family_size</th>\n",
       "      <th>begin_month</th>\n",
       "      <th>credit</th>\n",
       "      <th>ID</th>\n",
       "    </tr>\n",
       "  </thead>\n",
       "  <tbody>\n",
       "    <tr>\n",
       "      <th>12178</th>\n",
       "      <td>12178</td>\n",
       "      <td>F</td>\n",
       "      <td>N</td>\n",
       "      <td>Y</td>\n",
       "      <td>0</td>\n",
       "      <td>180000.0</td>\n",
       "      <td>Working</td>\n",
       "      <td>Secondary / secondary special</td>\n",
       "      <td>Single / not married</td>\n",
       "      <td>House / apartment</td>\n",
       "      <td>...</td>\n",
       "      <td>-2939</td>\n",
       "      <td>1</td>\n",
       "      <td>0</td>\n",
       "      <td>0</td>\n",
       "      <td>0</td>\n",
       "      <td>Sales staff</td>\n",
       "      <td>1.0</td>\n",
       "      <td>-59.0</td>\n",
       "      <td>1.0</td>\n",
       "      <td>6926</td>\n",
       "    </tr>\n",
       "    <tr>\n",
       "      <th>16254</th>\n",
       "      <td>16254</td>\n",
       "      <td>F</td>\n",
       "      <td>N</td>\n",
       "      <td>Y</td>\n",
       "      <td>0</td>\n",
       "      <td>180000.0</td>\n",
       "      <td>Working</td>\n",
       "      <td>Secondary / secondary special</td>\n",
       "      <td>Single / not married</td>\n",
       "      <td>House / apartment</td>\n",
       "      <td>...</td>\n",
       "      <td>-2939</td>\n",
       "      <td>1</td>\n",
       "      <td>0</td>\n",
       "      <td>0</td>\n",
       "      <td>0</td>\n",
       "      <td>Sales staff</td>\n",
       "      <td>1.0</td>\n",
       "      <td>-59.0</td>\n",
       "      <td>2.0</td>\n",
       "      <td>6926</td>\n",
       "    </tr>\n",
       "    <tr>\n",
       "      <th>24786</th>\n",
       "      <td>24786</td>\n",
       "      <td>F</td>\n",
       "      <td>N</td>\n",
       "      <td>Y</td>\n",
       "      <td>0</td>\n",
       "      <td>180000.0</td>\n",
       "      <td>Working</td>\n",
       "      <td>Secondary / secondary special</td>\n",
       "      <td>Single / not married</td>\n",
       "      <td>House / apartment</td>\n",
       "      <td>...</td>\n",
       "      <td>-2939</td>\n",
       "      <td>1</td>\n",
       "      <td>0</td>\n",
       "      <td>0</td>\n",
       "      <td>0</td>\n",
       "      <td>Sales staff</td>\n",
       "      <td>1.0</td>\n",
       "      <td>-59.0</td>\n",
       "      <td>0.0</td>\n",
       "      <td>6926</td>\n",
       "    </tr>\n",
       "  </tbody>\n",
       "</table>\n",
       "<p>3 rows × 21 columns</p>\n",
       "</div>"
      ],
      "text/plain": [
       "       index gender car reality  child_num  income_total income_type  \\\n",
       "12178  12178      F   N       Y          0      180000.0     Working   \n",
       "16254  16254      F   N       Y          0      180000.0     Working   \n",
       "24786  24786      F   N       Y          0      180000.0     Working   \n",
       "\n",
       "                            edu_type           family_type         house_type  \\\n",
       "12178  Secondary / secondary special  Single / not married  House / apartment   \n",
       "16254  Secondary / secondary special  Single / not married  House / apartment   \n",
       "24786  Secondary / secondary special  Single / not married  House / apartment   \n",
       "\n",
       "       ...  DAYS_EMPLOYED  FLAG_MOBIL  work_phone  phone  email   occyp_type  \\\n",
       "12178  ...          -2939           1           0      0      0  Sales staff   \n",
       "16254  ...          -2939           1           0      0      0  Sales staff   \n",
       "24786  ...          -2939           1           0      0      0  Sales staff   \n",
       "\n",
       "      family_size  begin_month  credit    ID  \n",
       "12178         1.0        -59.0     1.0  6926  \n",
       "16254         1.0        -59.0     2.0  6926  \n",
       "24786         1.0        -59.0     0.0  6926  \n",
       "\n",
       "[3 rows x 21 columns]"
      ]
     },
     "execution_count": 339,
     "metadata": {},
     "output_type": "execute_result"
    }
   ],
   "source": [
    "temp[temp[\"ID\"] == 6926]"
   ]
  },
  {
   "cell_type": "code",
   "execution_count": null,
   "id": "37c04d66",
   "metadata": {},
   "outputs": [],
   "source": []
  },
  {
   "cell_type": "markdown",
   "id": "a31f86e0",
   "metadata": {},
   "source": [
    "### begin_month 제외 중복"
   ]
  },
  {
   "cell_type": "code",
   "execution_count": 160,
   "id": "e2ebde6c",
   "metadata": {
    "ExecuteTime": {
     "end_time": "2021-04-27T19:16:06.472219Z",
     "start_time": "2021-04-27T19:16:06.278202Z"
    }
   },
   "outputs": [],
   "source": [
    "train['ID'] = \\\n",
    "train['child_num'].astype(str) + '_' + train['income_total'].astype(str) + '_' +\\\n",
    "train['DAYS_BIRTH'].astype(str) + '_' + train['DAYS_EMPLOYED'].astype(str) + '_' +\\\n",
    "train['work_phone'].astype(str) + '_' + train['phone'].astype(str) + '_' +\\\n",
    "train['email'].astype(str) + '_' + train['family_size'].astype(str) + '_' +\\\n",
    "train['gender'].astype(str) + '_' + train['car'].astype(str) + '_' +\\\n",
    "train['reality'].astype(str) + '_' + train['income_type'].astype(str) + '_' +\\\n",
    "train['edu_type'].astype(str) + '_' + train['family_type'].astype(str) + '_' +\\\n",
    "train['house_type'].astype(str) + '_' + train['occyp_type'].astype(str)"
   ]
  },
  {
   "cell_type": "code",
   "execution_count": 161,
   "id": "6e3170f6",
   "metadata": {
    "ExecuteTime": {
     "end_time": "2021-04-27T19:16:07.876367Z",
     "start_time": "2021-04-27T19:16:07.836474Z"
    }
   },
   "outputs": [],
   "source": [
    "label_encoder=preprocessing.LabelEncoder()\n",
    "train['ID']=label_encoder.fit_transform(train['ID'])"
   ]
  },
  {
   "cell_type": "code",
   "execution_count": 162,
   "id": "4b30fd41",
   "metadata": {
    "ExecuteTime": {
     "end_time": "2021-04-27T19:16:08.368052Z",
     "start_time": "2021-04-27T19:16:08.342122Z"
    }
   },
   "outputs": [
    {
     "name": "stderr",
     "output_type": "stream",
     "text": [
      "c:\\it\\python_workspace\\lecml\\venv_lecml\\lib\\site-packages\\ipykernel_launcher.py:1: FutureWarning: Indexing with multiple keys (implicitly converted to a tuple of keys) will be deprecated, use a list instead.\n",
      "  \"\"\"Entry point for launching an IPython kernel.\n"
     ]
    },
    {
     "data": {
      "text/html": [
       "<div>\n",
       "<style scoped>\n",
       "    .dataframe tbody tr th:only-of-type {\n",
       "        vertical-align: middle;\n",
       "    }\n",
       "\n",
       "    .dataframe tbody tr th {\n",
       "        vertical-align: top;\n",
       "    }\n",
       "\n",
       "    .dataframe thead th {\n",
       "        text-align: right;\n",
       "    }\n",
       "</style>\n",
       "<table border=\"1\" class=\"dataframe\">\n",
       "  <thead>\n",
       "    <tr style=\"text-align: right;\">\n",
       "      <th></th>\n",
       "      <th>begin_month</th>\n",
       "      <th>credit</th>\n",
       "    </tr>\n",
       "    <tr>\n",
       "      <th>ID</th>\n",
       "      <th></th>\n",
       "      <th></th>\n",
       "    </tr>\n",
       "  </thead>\n",
       "  <tbody>\n",
       "    <tr>\n",
       "      <th>0</th>\n",
       "      <td>1</td>\n",
       "      <td>1</td>\n",
       "    </tr>\n",
       "    <tr>\n",
       "      <th>1</th>\n",
       "      <td>4</td>\n",
       "      <td>2</td>\n",
       "    </tr>\n",
       "    <tr>\n",
       "      <th>2</th>\n",
       "      <td>6</td>\n",
       "      <td>3</td>\n",
       "    </tr>\n",
       "    <tr>\n",
       "      <th>3</th>\n",
       "      <td>2</td>\n",
       "      <td>2</td>\n",
       "    </tr>\n",
       "    <tr>\n",
       "      <th>4</th>\n",
       "      <td>3</td>\n",
       "      <td>2</td>\n",
       "    </tr>\n",
       "    <tr>\n",
       "      <th>...</th>\n",
       "      <td>...</td>\n",
       "      <td>...</td>\n",
       "    </tr>\n",
       "    <tr>\n",
       "      <th>8754</th>\n",
       "      <td>2</td>\n",
       "      <td>1</td>\n",
       "    </tr>\n",
       "    <tr>\n",
       "      <th>8755</th>\n",
       "      <td>5</td>\n",
       "      <td>2</td>\n",
       "    </tr>\n",
       "    <tr>\n",
       "      <th>8756</th>\n",
       "      <td>1</td>\n",
       "      <td>1</td>\n",
       "    </tr>\n",
       "    <tr>\n",
       "      <th>8757</th>\n",
       "      <td>4</td>\n",
       "      <td>2</td>\n",
       "    </tr>\n",
       "    <tr>\n",
       "      <th>8758</th>\n",
       "      <td>2</td>\n",
       "      <td>1</td>\n",
       "    </tr>\n",
       "  </tbody>\n",
       "</table>\n",
       "<p>8759 rows × 2 columns</p>\n",
       "</div>"
      ],
      "text/plain": [
       "      begin_month  credit\n",
       "ID                       \n",
       "0               1       1\n",
       "1               4       2\n",
       "2               6       3\n",
       "3               2       2\n",
       "4               3       2\n",
       "...           ...     ...\n",
       "8754            2       1\n",
       "8755            5       2\n",
       "8756            1       1\n",
       "8757            4       2\n",
       "8758            2       1\n",
       "\n",
       "[8759 rows x 2 columns]"
      ]
     },
     "execution_count": 162,
     "metadata": {},
     "output_type": "execute_result"
    }
   ],
   "source": [
    "train.groupby('ID')['begin_month', 'credit'].nunique()"
   ]
  },
  {
   "cell_type": "code",
   "execution_count": 164,
   "id": "e0c2e86f",
   "metadata": {
    "ExecuteTime": {
     "end_time": "2021-04-27T19:16:11.176280Z",
     "start_time": "2021-04-27T19:16:10.790901Z"
    }
   },
   "outputs": [
    {
     "name": "stderr",
     "output_type": "stream",
     "text": [
      "c:\\it\\python_workspace\\lecml\\venv_lecml\\lib\\site-packages\\ipykernel_launcher.py:1: FutureWarning: Indexing with multiple keys (implicitly converted to a tuple of keys) will be deprecated, use a list instead.\n",
      "  \"\"\"Entry point for launching an IPython kernel.\n"
     ]
    },
    {
     "data": {
      "text/html": [
       "<div>\n",
       "<style scoped>\n",
       "    .dataframe tbody tr th:only-of-type {\n",
       "        vertical-align: middle;\n",
       "    }\n",
       "\n",
       "    .dataframe tbody tr th {\n",
       "        vertical-align: top;\n",
       "    }\n",
       "\n",
       "    .dataframe thead th {\n",
       "        text-align: right;\n",
       "    }\n",
       "</style>\n",
       "<table border=\"1\" class=\"dataframe\">\n",
       "  <thead>\n",
       "    <tr style=\"text-align: right;\">\n",
       "      <th></th>\n",
       "      <th>begin_month</th>\n",
       "      <th>credit</th>\n",
       "    </tr>\n",
       "    <tr>\n",
       "      <th>ID</th>\n",
       "      <th></th>\n",
       "      <th></th>\n",
       "    </tr>\n",
       "  </thead>\n",
       "  <tbody>\n",
       "    <tr>\n",
       "      <th>0</th>\n",
       "      <td>[-7.0]</td>\n",
       "      <td>[1.0]</td>\n",
       "    </tr>\n",
       "    <tr>\n",
       "      <th>1</th>\n",
       "      <td>[-3.0, -30.0, -2.0, -1.0, -2.0, -3.0]</td>\n",
       "      <td>[1.0, 0.0, 0.0, 0.0, 1.0, 0.0]</td>\n",
       "    </tr>\n",
       "    <tr>\n",
       "      <th>2</th>\n",
       "      <td>[-29.0, -1.0, -16.0, -14.0, -5.0, -14.0, -10.0]</td>\n",
       "      <td>[0.0, 1.0, 2.0, 2.0, 0.0, 2.0, 2.0]</td>\n",
       "    </tr>\n",
       "    <tr>\n",
       "      <th>3</th>\n",
       "      <td>[-20.0, -5.0]</td>\n",
       "      <td>[0.0, 2.0]</td>\n",
       "    </tr>\n",
       "    <tr>\n",
       "      <th>4</th>\n",
       "      <td>[-59.0, -40.0, -40.0, -5.0]</td>\n",
       "      <td>[1.0, 1.0, 2.0, 2.0]</td>\n",
       "    </tr>\n",
       "    <tr>\n",
       "      <th>...</th>\n",
       "      <td>...</td>\n",
       "      <td>...</td>\n",
       "    </tr>\n",
       "    <tr>\n",
       "      <th>8754</th>\n",
       "      <td>[-21.0, -16.0]</td>\n",
       "      <td>[2.0, 2.0]</td>\n",
       "    </tr>\n",
       "    <tr>\n",
       "      <th>8755</th>\n",
       "      <td>[-11.0, -15.0, -20.0, -21.0, -10.0]</td>\n",
       "      <td>[2.0, 1.0, 1.0, 1.0, 1.0]</td>\n",
       "    </tr>\n",
       "    <tr>\n",
       "      <th>8756</th>\n",
       "      <td>[-50.0]</td>\n",
       "      <td>[2.0]</td>\n",
       "    </tr>\n",
       "    <tr>\n",
       "      <th>8757</th>\n",
       "      <td>[-19.0, -46.0, -21.0, -59.0]</td>\n",
       "      <td>[1.0, 0.0, 1.0, 0.0]</td>\n",
       "    </tr>\n",
       "    <tr>\n",
       "      <th>8758</th>\n",
       "      <td>[-26.0, -31.0]</td>\n",
       "      <td>[2.0, 2.0]</td>\n",
       "    </tr>\n",
       "  </tbody>\n",
       "</table>\n",
       "<p>8759 rows × 2 columns</p>\n",
       "</div>"
      ],
      "text/plain": [
       "                                          begin_month  \\\n",
       "ID                                                      \n",
       "0                                              [-7.0]   \n",
       "1               [-3.0, -30.0, -2.0, -1.0, -2.0, -3.0]   \n",
       "2     [-29.0, -1.0, -16.0, -14.0, -5.0, -14.0, -10.0]   \n",
       "3                                       [-20.0, -5.0]   \n",
       "4                         [-59.0, -40.0, -40.0, -5.0]   \n",
       "...                                               ...   \n",
       "8754                                   [-21.0, -16.0]   \n",
       "8755              [-11.0, -15.0, -20.0, -21.0, -10.0]   \n",
       "8756                                          [-50.0]   \n",
       "8757                     [-19.0, -46.0, -21.0, -59.0]   \n",
       "8758                                   [-26.0, -31.0]   \n",
       "\n",
       "                                   credit  \n",
       "ID                                         \n",
       "0                                   [1.0]  \n",
       "1          [1.0, 0.0, 0.0, 0.0, 1.0, 0.0]  \n",
       "2     [0.0, 1.0, 2.0, 2.0, 0.0, 2.0, 2.0]  \n",
       "3                              [0.0, 2.0]  \n",
       "4                    [1.0, 1.0, 2.0, 2.0]  \n",
       "...                                   ...  \n",
       "8754                           [2.0, 2.0]  \n",
       "8755            [2.0, 1.0, 1.0, 1.0, 1.0]  \n",
       "8756                                [2.0]  \n",
       "8757                 [1.0, 0.0, 1.0, 0.0]  \n",
       "8758                           [2.0, 2.0]  \n",
       "\n",
       "[8759 rows x 2 columns]"
      ]
     },
     "execution_count": 164,
     "metadata": {},
     "output_type": "execute_result"
    }
   ],
   "source": [
    "train.groupby('ID')['begin_month','credit'].agg(list)"
   ]
  },
  {
   "cell_type": "code",
   "execution_count": 166,
   "id": "ad9add6b",
   "metadata": {
    "ExecuteTime": {
     "end_time": "2021-04-27T19:17:40.453580Z",
     "start_time": "2021-04-27T19:17:40.387412Z"
    }
   },
   "outputs": [],
   "source": [
    "# # 리스트가 인덱스 순이 맞는지 확인 \n",
    "# temp = train.copy()\n",
    "# temp['ind_begin_month'] = temp['index'].astype(str) + '_' + temp['begin_month'].astype(str)\n",
    "# temp['ind_credit'] = temp['index'].astype(str) + '_' + temp['credit'].astype(str)\n",
    "\n",
    "# temp.groupby('ID')['ind_begin_month','ind_credit'].agg(list)"
   ]
  },
  {
   "cell_type": "code",
   "execution_count": null,
   "id": "5229a800",
   "metadata": {},
   "outputs": [],
   "source": []
  },
  {
   "cell_type": "code",
   "execution_count": 170,
   "id": "d9962794",
   "metadata": {
    "ExecuteTime": {
     "end_time": "2021-04-27T19:19:31.512908Z",
     "start_time": "2021-04-27T19:19:31.493960Z"
    }
   },
   "outputs": [
    {
     "name": "stdout",
     "output_type": "stream",
     "text": [
      "<class 'pandas.core.frame.DataFrame'>\n",
      "RangeIndex: 26457 entries, 0 to 26456\n",
      "Data columns (total 21 columns):\n",
      " #   Column         Non-Null Count  Dtype  \n",
      "---  ------         --------------  -----  \n",
      " 0   index          26457 non-null  int64  \n",
      " 1   gender         26457 non-null  object \n",
      " 2   car            26457 non-null  object \n",
      " 3   reality        26457 non-null  object \n",
      " 4   child_num      26457 non-null  int64  \n",
      " 5   income_total   26457 non-null  float64\n",
      " 6   income_type    26457 non-null  object \n",
      " 7   edu_type       26457 non-null  object \n",
      " 8   family_type    26457 non-null  object \n",
      " 9   house_type     26457 non-null  object \n",
      " 10  DAYS_BIRTH     26457 non-null  int64  \n",
      " 11  DAYS_EMPLOYED  26457 non-null  int64  \n",
      " 12  FLAG_MOBIL     26457 non-null  int64  \n",
      " 13  work_phone     26457 non-null  int64  \n",
      " 14  phone          26457 non-null  int64  \n",
      " 15  email          26457 non-null  int64  \n",
      " 16  occyp_type     18286 non-null  object \n",
      " 17  family_size    26457 non-null  float64\n",
      " 18  begin_month    26457 non-null  float64\n",
      " 19  credit         26457 non-null  float64\n",
      " 20  ID             26457 non-null  int32  \n",
      "dtypes: float64(4), int32(1), int64(8), object(8)\n",
      "memory usage: 4.1+ MB\n"
     ]
    }
   ],
   "source": [
    "train.info()"
   ]
  },
  {
   "cell_type": "code",
   "execution_count": 171,
   "id": "7a4c357c",
   "metadata": {
    "ExecuteTime": {
     "end_time": "2021-04-27T19:20:51.736941Z",
     "start_time": "2021-04-27T19:20:51.707021Z"
    }
   },
   "outputs": [
    {
     "data": {
      "text/html": [
       "<div>\n",
       "<style scoped>\n",
       "    .dataframe tbody tr th:only-of-type {\n",
       "        vertical-align: middle;\n",
       "    }\n",
       "\n",
       "    .dataframe tbody tr th {\n",
       "        vertical-align: top;\n",
       "    }\n",
       "\n",
       "    .dataframe thead th {\n",
       "        text-align: right;\n",
       "    }\n",
       "</style>\n",
       "<table border=\"1\" class=\"dataframe\">\n",
       "  <thead>\n",
       "    <tr style=\"text-align: right;\">\n",
       "      <th></th>\n",
       "      <th>index</th>\n",
       "      <th>gender</th>\n",
       "      <th>car</th>\n",
       "      <th>reality</th>\n",
       "      <th>child_num</th>\n",
       "      <th>income_total</th>\n",
       "      <th>income_type</th>\n",
       "      <th>edu_type</th>\n",
       "      <th>family_type</th>\n",
       "      <th>house_type</th>\n",
       "      <th>...</th>\n",
       "      <th>DAYS_EMPLOYED</th>\n",
       "      <th>FLAG_MOBIL</th>\n",
       "      <th>work_phone</th>\n",
       "      <th>phone</th>\n",
       "      <th>email</th>\n",
       "      <th>occyp_type</th>\n",
       "      <th>family_size</th>\n",
       "      <th>begin_month</th>\n",
       "      <th>credit</th>\n",
       "      <th>ID</th>\n",
       "    </tr>\n",
       "  </thead>\n",
       "  <tbody>\n",
       "    <tr>\n",
       "      <th>0</th>\n",
       "      <td>0</td>\n",
       "      <td>F</td>\n",
       "      <td>N</td>\n",
       "      <td>N</td>\n",
       "      <td>0</td>\n",
       "      <td>202500.0</td>\n",
       "      <td>Commercial associate</td>\n",
       "      <td>Higher education</td>\n",
       "      <td>Married</td>\n",
       "      <td>Municipal apartment</td>\n",
       "      <td>...</td>\n",
       "      <td>-4709</td>\n",
       "      <td>1</td>\n",
       "      <td>0</td>\n",
       "      <td>0</td>\n",
       "      <td>0</td>\n",
       "      <td>NaN</td>\n",
       "      <td>2.0</td>\n",
       "      <td>-6.0</td>\n",
       "      <td>1.0</td>\n",
       "      <td>3096</td>\n",
       "    </tr>\n",
       "    <tr>\n",
       "      <th>1</th>\n",
       "      <td>1</td>\n",
       "      <td>F</td>\n",
       "      <td>N</td>\n",
       "      <td>Y</td>\n",
       "      <td>1</td>\n",
       "      <td>247500.0</td>\n",
       "      <td>Commercial associate</td>\n",
       "      <td>Secondary / secondary special</td>\n",
       "      <td>Civil marriage</td>\n",
       "      <td>House / apartment</td>\n",
       "      <td>...</td>\n",
       "      <td>-1540</td>\n",
       "      <td>1</td>\n",
       "      <td>0</td>\n",
       "      <td>0</td>\n",
       "      <td>1</td>\n",
       "      <td>Laborers</td>\n",
       "      <td>3.0</td>\n",
       "      <td>-5.0</td>\n",
       "      <td>1.0</td>\n",
       "      <td>7301</td>\n",
       "    </tr>\n",
       "    <tr>\n",
       "      <th>2</th>\n",
       "      <td>2</td>\n",
       "      <td>M</td>\n",
       "      <td>Y</td>\n",
       "      <td>Y</td>\n",
       "      <td>0</td>\n",
       "      <td>450000.0</td>\n",
       "      <td>Working</td>\n",
       "      <td>Higher education</td>\n",
       "      <td>Married</td>\n",
       "      <td>House / apartment</td>\n",
       "      <td>...</td>\n",
       "      <td>-4434</td>\n",
       "      <td>1</td>\n",
       "      <td>0</td>\n",
       "      <td>1</td>\n",
       "      <td>0</td>\n",
       "      <td>Managers</td>\n",
       "      <td>2.0</td>\n",
       "      <td>-22.0</td>\n",
       "      <td>2.0</td>\n",
       "      <td>5063</td>\n",
       "    </tr>\n",
       "    <tr>\n",
       "      <th>3</th>\n",
       "      <td>3</td>\n",
       "      <td>F</td>\n",
       "      <td>N</td>\n",
       "      <td>Y</td>\n",
       "      <td>0</td>\n",
       "      <td>202500.0</td>\n",
       "      <td>Commercial associate</td>\n",
       "      <td>Secondary / secondary special</td>\n",
       "      <td>Married</td>\n",
       "      <td>House / apartment</td>\n",
       "      <td>...</td>\n",
       "      <td>-2092</td>\n",
       "      <td>1</td>\n",
       "      <td>0</td>\n",
       "      <td>1</td>\n",
       "      <td>0</td>\n",
       "      <td>Sales staff</td>\n",
       "      <td>2.0</td>\n",
       "      <td>-37.0</td>\n",
       "      <td>0.0</td>\n",
       "      <td>3128</td>\n",
       "    </tr>\n",
       "    <tr>\n",
       "      <th>4</th>\n",
       "      <td>4</td>\n",
       "      <td>F</td>\n",
       "      <td>Y</td>\n",
       "      <td>Y</td>\n",
       "      <td>0</td>\n",
       "      <td>157500.0</td>\n",
       "      <td>State servant</td>\n",
       "      <td>Higher education</td>\n",
       "      <td>Married</td>\n",
       "      <td>House / apartment</td>\n",
       "      <td>...</td>\n",
       "      <td>-2105</td>\n",
       "      <td>1</td>\n",
       "      <td>0</td>\n",
       "      <td>0</td>\n",
       "      <td>0</td>\n",
       "      <td>Managers</td>\n",
       "      <td>2.0</td>\n",
       "      <td>-26.0</td>\n",
       "      <td>2.0</td>\n",
       "      <td>1917</td>\n",
       "    </tr>\n",
       "  </tbody>\n",
       "</table>\n",
       "<p>5 rows × 21 columns</p>\n",
       "</div>"
      ],
      "text/plain": [
       "   index gender car reality  child_num  income_total           income_type  \\\n",
       "0      0      F   N       N          0      202500.0  Commercial associate   \n",
       "1      1      F   N       Y          1      247500.0  Commercial associate   \n",
       "2      2      M   Y       Y          0      450000.0               Working   \n",
       "3      3      F   N       Y          0      202500.0  Commercial associate   \n",
       "4      4      F   Y       Y          0      157500.0         State servant   \n",
       "\n",
       "                        edu_type     family_type           house_type  ...  \\\n",
       "0               Higher education         Married  Municipal apartment  ...   \n",
       "1  Secondary / secondary special  Civil marriage    House / apartment  ...   \n",
       "2               Higher education         Married    House / apartment  ...   \n",
       "3  Secondary / secondary special         Married    House / apartment  ...   \n",
       "4               Higher education         Married    House / apartment  ...   \n",
       "\n",
       "   DAYS_EMPLOYED  FLAG_MOBIL  work_phone  phone  email   occyp_type  \\\n",
       "0          -4709           1           0      0      0          NaN   \n",
       "1          -1540           1           0      0      1     Laborers   \n",
       "2          -4434           1           0      1      0     Managers   \n",
       "3          -2092           1           0      1      0  Sales staff   \n",
       "4          -2105           1           0      0      0     Managers   \n",
       "\n",
       "  family_size  begin_month  credit    ID  \n",
       "0         2.0         -6.0     1.0  3096  \n",
       "1         3.0         -5.0     1.0  7301  \n",
       "2         2.0        -22.0     2.0  5063  \n",
       "3         2.0        -37.0     0.0  3128  \n",
       "4         2.0        -26.0     2.0  1917  \n",
       "\n",
       "[5 rows x 21 columns]"
      ]
     },
     "execution_count": 171,
     "metadata": {},
     "output_type": "execute_result"
    }
   ],
   "source": [
    "train.head()"
   ]
  },
  {
   "cell_type": "code",
   "execution_count": null,
   "id": "3789c9cc",
   "metadata": {},
   "outputs": [],
   "source": []
  },
  {
   "cell_type": "code",
   "execution_count": 173,
   "id": "6682a2b2",
   "metadata": {
    "ExecuteTime": {
     "end_time": "2021-04-27T19:24:39.789151Z",
     "start_time": "2021-04-27T19:24:39.415587Z"
    }
   },
   "outputs": [
    {
     "name": "stderr",
     "output_type": "stream",
     "text": [
      "c:\\it\\python_workspace\\lecml\\venv_lecml\\lib\\site-packages\\ipykernel_launcher.py:1: FutureWarning: Indexing with multiple keys (implicitly converted to a tuple of keys) will be deprecated, use a list instead.\n",
      "  \"\"\"Entry point for launching an IPython kernel.\n"
     ]
    }
   ],
   "source": [
    "# ID별 begin_month, credit\n",
    "Gid_bc = train.groupby('ID')['begin_month','credit'].agg(list)"
   ]
  },
  {
   "cell_type": "code",
   "execution_count": 181,
   "id": "fa6ba34e",
   "metadata": {
    "ExecuteTime": {
     "end_time": "2021-04-27T19:27:22.657300Z",
     "start_time": "2021-04-27T19:27:22.633364Z"
    }
   },
   "outputs": [
    {
     "data": {
      "text/html": [
       "<div>\n",
       "<style scoped>\n",
       "    .dataframe tbody tr th:only-of-type {\n",
       "        vertical-align: middle;\n",
       "    }\n",
       "\n",
       "    .dataframe tbody tr th {\n",
       "        vertical-align: top;\n",
       "    }\n",
       "\n",
       "    .dataframe thead th {\n",
       "        text-align: right;\n",
       "    }\n",
       "</style>\n",
       "<table border=\"1\" class=\"dataframe\">\n",
       "  <thead>\n",
       "    <tr style=\"text-align: right;\">\n",
       "      <th></th>\n",
       "      <th>begin_month</th>\n",
       "      <th>credit</th>\n",
       "    </tr>\n",
       "    <tr>\n",
       "      <th>ID</th>\n",
       "      <th></th>\n",
       "      <th></th>\n",
       "    </tr>\n",
       "  </thead>\n",
       "  <tbody>\n",
       "    <tr>\n",
       "      <th>1</th>\n",
       "      <td>[-3.0, -30.0, -2.0, -1.0, -2.0, -3.0]</td>\n",
       "      <td>[1.0, 0.0, 0.0, 0.0, 1.0, 0.0]</td>\n",
       "    </tr>\n",
       "    <tr>\n",
       "      <th>2</th>\n",
       "      <td>[-29.0, -1.0, -16.0, -14.0, -5.0, -14.0, -10.0]</td>\n",
       "      <td>[0.0, 1.0, 2.0, 2.0, 0.0, 2.0, 2.0]</td>\n",
       "    </tr>\n",
       "    <tr>\n",
       "      <th>3</th>\n",
       "      <td>[-20.0, -5.0]</td>\n",
       "      <td>[0.0, 2.0]</td>\n",
       "    </tr>\n",
       "    <tr>\n",
       "      <th>4</th>\n",
       "      <td>[-59.0, -40.0, -40.0, -5.0]</td>\n",
       "      <td>[1.0, 1.0, 2.0, 2.0]</td>\n",
       "    </tr>\n",
       "    <tr>\n",
       "      <th>6</th>\n",
       "      <td>[-7.0, -16.0, -2.0, -27.0, -39.0, -22.0, -17.0...</td>\n",
       "      <td>[1.0, 1.0, 1.0, 1.0, 1.0, 1.0, 2.0, 1.0, 1.0, ...</td>\n",
       "    </tr>\n",
       "    <tr>\n",
       "      <th>...</th>\n",
       "      <td>...</td>\n",
       "      <td>...</td>\n",
       "    </tr>\n",
       "    <tr>\n",
       "      <th>8751</th>\n",
       "      <td>[-22.0, -24.0]</td>\n",
       "      <td>[2.0, 2.0]</td>\n",
       "    </tr>\n",
       "    <tr>\n",
       "      <th>8754</th>\n",
       "      <td>[-21.0, -16.0]</td>\n",
       "      <td>[2.0, 2.0]</td>\n",
       "    </tr>\n",
       "    <tr>\n",
       "      <th>8755</th>\n",
       "      <td>[-11.0, -15.0, -20.0, -21.0, -10.0]</td>\n",
       "      <td>[2.0, 1.0, 1.0, 1.0, 1.0]</td>\n",
       "    </tr>\n",
       "    <tr>\n",
       "      <th>8757</th>\n",
       "      <td>[-19.0, -46.0, -21.0, -59.0]</td>\n",
       "      <td>[1.0, 0.0, 1.0, 0.0]</td>\n",
       "    </tr>\n",
       "    <tr>\n",
       "      <th>8758</th>\n",
       "      <td>[-26.0, -31.0]</td>\n",
       "      <td>[2.0, 2.0]</td>\n",
       "    </tr>\n",
       "  </tbody>\n",
       "</table>\n",
       "<p>5510 rows × 2 columns</p>\n",
       "</div>"
      ],
      "text/plain": [
       "                                            begin_month  \\\n",
       "ID                                                        \n",
       "1                 [-3.0, -30.0, -2.0, -1.0, -2.0, -3.0]   \n",
       "2       [-29.0, -1.0, -16.0, -14.0, -5.0, -14.0, -10.0]   \n",
       "3                                         [-20.0, -5.0]   \n",
       "4                           [-59.0, -40.0, -40.0, -5.0]   \n",
       "6     [-7.0, -16.0, -2.0, -27.0, -39.0, -22.0, -17.0...   \n",
       "...                                                 ...   \n",
       "8751                                     [-22.0, -24.0]   \n",
       "8754                                     [-21.0, -16.0]   \n",
       "8755                [-11.0, -15.0, -20.0, -21.0, -10.0]   \n",
       "8757                       [-19.0, -46.0, -21.0, -59.0]   \n",
       "8758                                     [-26.0, -31.0]   \n",
       "\n",
       "                                                 credit  \n",
       "ID                                                       \n",
       "1                        [1.0, 0.0, 0.0, 0.0, 1.0, 0.0]  \n",
       "2                   [0.0, 1.0, 2.0, 2.0, 0.0, 2.0, 2.0]  \n",
       "3                                            [0.0, 2.0]  \n",
       "4                                  [1.0, 1.0, 2.0, 2.0]  \n",
       "6     [1.0, 1.0, 1.0, 1.0, 1.0, 1.0, 2.0, 1.0, 1.0, ...  \n",
       "...                                                 ...  \n",
       "8751                                         [2.0, 2.0]  \n",
       "8754                                         [2.0, 2.0]  \n",
       "8755                          [2.0, 1.0, 1.0, 1.0, 1.0]  \n",
       "8757                               [1.0, 0.0, 1.0, 0.0]  \n",
       "8758                                         [2.0, 2.0]  \n",
       "\n",
       "[5510 rows x 2 columns]"
      ]
     },
     "execution_count": 181,
     "metadata": {},
     "output_type": "execute_result"
    }
   ],
   "source": [
    "# 카드를 2개 이상 발급받은 사람: 5510 \n",
    "Gid_bc[Gid_bc['begin_month'].str.len() >= 2]"
   ]
  },
  {
   "cell_type": "code",
   "execution_count": 186,
   "id": "6ddf90cd",
   "metadata": {
    "ExecuteTime": {
     "end_time": "2021-04-27T19:29:56.530408Z",
     "start_time": "2021-04-27T19:29:56.514787Z"
    }
   },
   "outputs": [
    {
     "data": {
      "text/plain": [
       "35"
      ]
     },
     "execution_count": 186,
     "metadata": {},
     "output_type": "execute_result"
    }
   ],
   "source": [
    "# 카드 발급을 가장 많이 받은 사람: 35개\n",
    "max(Gid_bc['begin_month'].str.len())"
   ]
  },
  {
   "cell_type": "code",
   "execution_count": 248,
   "id": "7c8dad00",
   "metadata": {
    "ExecuteTime": {
     "end_time": "2021-04-27T20:31:36.208394Z",
     "start_time": "2021-04-27T20:31:36.195429Z"
    },
    "scrolled": true
   },
   "outputs": [
    {
     "name": "stdout",
     "output_type": "stream",
     "text": [
      "<class 'pandas.core.frame.DataFrame'>\n",
      "Int64Index: 9 entries, 631 to 8349\n",
      "Data columns (total 2 columns):\n",
      " #   Column       Non-Null Count  Dtype \n",
      "---  ------       --------------  ----- \n",
      " 0   begin_month  9 non-null      object\n",
      " 1   credit       9 non-null      object\n",
      "dtypes: object(2)\n",
      "memory usage: 216.0+ bytes\n"
     ]
    }
   ],
   "source": [
    "# 20개 이상 발급받은 사람: 9\n",
    "Gid_bc_20 =  Gid_bc[Gid_bc['begin_month'].str.len() >= 20]\n",
    "Gid_bc_20.info()"
   ]
  },
  {
   "cell_type": "code",
   "execution_count": 247,
   "id": "98d11089",
   "metadata": {
    "ExecuteTime": {
     "end_time": "2021-04-27T20:23:49.477657Z",
     "start_time": "2021-04-27T20:23:49.458707Z"
    }
   },
   "outputs": [
    {
     "data": {
      "text/plain": [
       "1     3249\n",
       "2     1680\n",
       "3     1123\n",
       "4      831\n",
       "5      593\n",
       "6      450\n",
       "7      290\n",
       "8      161\n",
       "9      136\n",
       "10      86\n",
       "11      59\n",
       "12      37\n",
       "13      19\n",
       "14      15\n",
       "15      10\n",
       "16       7\n",
       "17       1\n",
       "18       2\n",
       "19       1\n",
       "20       5\n",
       "21       1\n",
       "24       2\n",
       "35       1\n",
       "Name: begin_month, dtype: int64"
      ]
     },
     "execution_count": 247,
     "metadata": {},
     "output_type": "execute_result"
    }
   ],
   "source": [
    "# 카드 발급 개수 별 인원 수\n",
    "Gid_bc['begin_month'].str.len().value_counts().sort_index(ascending=True)"
   ]
  },
  {
   "cell_type": "code",
   "execution_count": 221,
   "id": "cf0019b8",
   "metadata": {
    "ExecuteTime": {
     "end_time": "2021-04-27T20:04:49.272932Z",
     "start_time": "2021-04-27T20:04:48.392135Z"
    }
   },
   "outputs": [
    {
     "data": {
      "image/png": "[encoded data removed]",
      "text/plain": [
       "<Figure size 360x216 with 1 Axes>"
      ]
     },
     "metadata": {},
     "output_type": "display_data"
    },
    {
     "data": {
      "image/png": "[encoded data removed]",
      "text/plain": [
       "<Figure size 360x216 with 1 Axes>"
      ]
     },
     "metadata": {},
     "output_type": "display_data"
    },
    {
     "data": {
      "image/png": "[encoded data removed]",
      "text/plain": [
       "<Figure size 360x216 with 1 Axes>"
      ]
     },
     "metadata": {},
     "output_type": "display_data"
    },
    {
     "data": {
      "image/png": "[encoded data removed]",
      "text/plain": [
       "<Figure size 360x216 with 1 Axes>"
      ]
     },
     "metadata": {},
     "output_type": "display_data"
    },
    {
     "data": {
      "image/png": "[encoded data removed]",
      "text/plain": [
       "<Figure size 360x216 with 1 Axes>"
      ]
     },
     "metadata": {},
     "output_type": "display_data"
    },
    {
     "data": {
      "image/png": "[encoded data removed]",
      "text/plain": [
       "<Figure size 360x216 with 1 Axes>"
      ]
     },
     "metadata": {},
     "output_type": "display_data"
    },
    {
     "data": {
      "image/png": "[encoded data removed]",
      "text/plain": [
       "<Figure size 360x216 with 1 Axes>"
      ]
     },
     "metadata": {},
     "output_type": "display_data"
    },
    {
     "data": {
      "image/png": "[encoded data removed]",
      "text/plain": [
       "<Figure size 360x216 with 1 Axes>"
      ]
     },
     "metadata": {},
     "output_type": "display_data"
    },
    {
     "data": {
      "image/png": "[encoded data removed]",
      "text/plain": [
       "<Figure size 360x216 with 1 Axes>"
      ]
     },
     "metadata": {},
     "output_type": "display_data"
    }
   ],
   "source": [
    "# 카드 발급개수 20개 이상, x: begin_month, y: credit\n",
    "for i, row in Gid_bc_20.iterrows():\n",
    "    plt.figure(figsize=(5, 3))\n",
    "    plt.scatter(row['begin_month'], row['credit'])\n",
    "    plt.show()"
   ]
  },
  {
   "cell_type": "code",
   "execution_count": 297,
   "id": "af6ee372",
   "metadata": {
    "ExecuteTime": {
     "end_time": "2021-04-27T21:24:36.013310Z",
     "start_time": "2021-04-27T21:24:35.250139Z"
    }
   },
   "outputs": [
    {
     "data": {
      "image/png": "[encoded data removed]",
      "text/plain": [
       "<Figure size 864x720 with 9 Axes>"
      ]
     },
     "metadata": {},
     "output_type": "display_data"
    }
   ],
   "source": [
    "# 카드 발급개수 20개 이상, x: begin_month, y: credit\n",
    "plt.subplots(figsize = (12, 10))\n",
    "n = 1\n",
    "for i, row in Gid_bc_20.iterrows():\n",
    "    plt.subplot(3, 3, n)\n",
    "    plt.scatter(row['begin_month'], row['credit'])\n",
    "    plt.title(str(i) + '('+ str(len(row['begin_month'])) + ')')\n",
    "    n += 1"
   ]
  },
  {
   "cell_type": "code",
   "execution_count": null,
   "id": "1524af59",
   "metadata": {},
   "outputs": [],
   "source": []
  },
  {
   "cell_type": "code",
   "execution_count": 278,
   "id": "93d9bdbf",
   "metadata": {
    "ExecuteTime": {
     "end_time": "2021-04-27T20:59:38.498090Z",
     "start_time": "2021-04-27T20:59:38.464181Z"
    }
   },
   "outputs": [
    {
     "data": {
      "text/html": [
       "<div>\n",
       "<style scoped>\n",
       "    .dataframe tbody tr th:only-of-type {\n",
       "        vertical-align: middle;\n",
       "    }\n",
       "\n",
       "    .dataframe tbody tr th {\n",
       "        vertical-align: top;\n",
       "    }\n",
       "\n",
       "    .dataframe thead th {\n",
       "        text-align: right;\n",
       "    }\n",
       "</style>\n",
       "<table border=\"1\" class=\"dataframe\">\n",
       "  <thead>\n",
       "    <tr style=\"text-align: right;\">\n",
       "      <th></th>\n",
       "      <th>begin_month</th>\n",
       "      <th>credit</th>\n",
       "      <th>mean_credit</th>\n",
       "      <th>card_num</th>\n",
       "    </tr>\n",
       "    <tr>\n",
       "      <th>ID</th>\n",
       "      <th></th>\n",
       "      <th></th>\n",
       "      <th></th>\n",
       "      <th></th>\n",
       "    </tr>\n",
       "  </thead>\n",
       "  <tbody>\n",
       "    <tr>\n",
       "      <th>0</th>\n",
       "      <td>[-7.0]</td>\n",
       "      <td>[1.0]</td>\n",
       "      <td>1.000000</td>\n",
       "      <td>1</td>\n",
       "    </tr>\n",
       "    <tr>\n",
       "      <th>1</th>\n",
       "      <td>[-3.0, -30.0, -2.0, -1.0, -2.0, -3.0]</td>\n",
       "      <td>[1.0, 0.0, 0.0, 0.0, 1.0, 0.0]</td>\n",
       "      <td>0.333333</td>\n",
       "      <td>6</td>\n",
       "    </tr>\n",
       "    <tr>\n",
       "      <th>2</th>\n",
       "      <td>[-29.0, -1.0, -16.0, -14.0, -5.0, -14.0, -10.0]</td>\n",
       "      <td>[0.0, 1.0, 2.0, 2.0, 0.0, 2.0, 2.0]</td>\n",
       "      <td>1.285714</td>\n",
       "      <td>7</td>\n",
       "    </tr>\n",
       "    <tr>\n",
       "      <th>3</th>\n",
       "      <td>[-20.0, -5.0]</td>\n",
       "      <td>[0.0, 2.0]</td>\n",
       "      <td>1.000000</td>\n",
       "      <td>2</td>\n",
       "    </tr>\n",
       "    <tr>\n",
       "      <th>4</th>\n",
       "      <td>[-59.0, -40.0, -40.0, -5.0]</td>\n",
       "      <td>[1.0, 1.0, 2.0, 2.0]</td>\n",
       "      <td>1.500000</td>\n",
       "      <td>4</td>\n",
       "    </tr>\n",
       "    <tr>\n",
       "      <th>...</th>\n",
       "      <td>...</td>\n",
       "      <td>...</td>\n",
       "      <td>...</td>\n",
       "      <td>...</td>\n",
       "    </tr>\n",
       "    <tr>\n",
       "      <th>8754</th>\n",
       "      <td>[-21.0, -16.0]</td>\n",
       "      <td>[2.0, 2.0]</td>\n",
       "      <td>2.000000</td>\n",
       "      <td>2</td>\n",
       "    </tr>\n",
       "    <tr>\n",
       "      <th>8755</th>\n",
       "      <td>[-11.0, -15.0, -20.0, -21.0, -10.0]</td>\n",
       "      <td>[2.0, 1.0, 1.0, 1.0, 1.0]</td>\n",
       "      <td>1.200000</td>\n",
       "      <td>5</td>\n",
       "    </tr>\n",
       "    <tr>\n",
       "      <th>8756</th>\n",
       "      <td>[-50.0]</td>\n",
       "      <td>[2.0]</td>\n",
       "      <td>2.000000</td>\n",
       "      <td>1</td>\n",
       "    </tr>\n",
       "    <tr>\n",
       "      <th>8757</th>\n",
       "      <td>[-19.0, -46.0, -21.0, -59.0]</td>\n",
       "      <td>[1.0, 0.0, 1.0, 0.0]</td>\n",
       "      <td>0.500000</td>\n",
       "      <td>4</td>\n",
       "    </tr>\n",
       "    <tr>\n",
       "      <th>8758</th>\n",
       "      <td>[-26.0, -31.0]</td>\n",
       "      <td>[2.0, 2.0]</td>\n",
       "      <td>2.000000</td>\n",
       "      <td>2</td>\n",
       "    </tr>\n",
       "  </tbody>\n",
       "</table>\n",
       "<p>8759 rows × 4 columns</p>\n",
       "</div>"
      ],
      "text/plain": [
       "                                          begin_month  \\\n",
       "ID                                                      \n",
       "0                                              [-7.0]   \n",
       "1               [-3.0, -30.0, -2.0, -1.0, -2.0, -3.0]   \n",
       "2     [-29.0, -1.0, -16.0, -14.0, -5.0, -14.0, -10.0]   \n",
       "3                                       [-20.0, -5.0]   \n",
       "4                         [-59.0, -40.0, -40.0, -5.0]   \n",
       "...                                               ...   \n",
       "8754                                   [-21.0, -16.0]   \n",
       "8755              [-11.0, -15.0, -20.0, -21.0, -10.0]   \n",
       "8756                                          [-50.0]   \n",
       "8757                     [-19.0, -46.0, -21.0, -59.0]   \n",
       "8758                                   [-26.0, -31.0]   \n",
       "\n",
       "                                   credit  mean_credit  card_num  \n",
       "ID                                                                \n",
       "0                                   [1.0]     1.000000         1  \n",
       "1          [1.0, 0.0, 0.0, 0.0, 1.0, 0.0]     0.333333         6  \n",
       "2     [0.0, 1.0, 2.0, 2.0, 0.0, 2.0, 2.0]     1.285714         7  \n",
       "3                              [0.0, 2.0]     1.000000         2  \n",
       "4                    [1.0, 1.0, 2.0, 2.0]     1.500000         4  \n",
       "...                                   ...          ...       ...  \n",
       "8754                           [2.0, 2.0]     2.000000         2  \n",
       "8755            [2.0, 1.0, 1.0, 1.0, 1.0]     1.200000         5  \n",
       "8756                                [2.0]     2.000000         1  \n",
       "8757                 [1.0, 0.0, 1.0, 0.0]     0.500000         4  \n",
       "8758                           [2.0, 2.0]     2.000000         2  \n",
       "\n",
       "[8759 rows x 4 columns]"
      ]
     },
     "execution_count": 278,
     "metadata": {},
     "output_type": "execute_result"
    }
   ],
   "source": [
    "Gid_bc[\"mean_credit\"] = Gid_bc[\"credit\"].apply(lambda x: sum(x)/len(x) if isinstance(x, (list, tuple)) else x)\n",
    "Gid_bc[\"card_num\"] = Gid_bc['begin_month'].str.len()\n",
    "Gid_bc"
   ]
  },
  {
   "cell_type": "code",
   "execution_count": 287,
   "id": "77e68386",
   "metadata": {
    "ExecuteTime": {
     "end_time": "2021-04-27T21:06:56.216397Z",
     "start_time": "2021-04-27T21:06:56.193459Z"
    }
   },
   "outputs": [],
   "source": [
    "# 카드 발급 개수 별 credit 평균 \n",
    "mean_credit = pd.DataFrame(Gid_bc['begin_month'].str.len().value_counts().sort_index(ascending=True))\n",
    "mean_credit.index.names = ['card_num']\n",
    "mean_credit.columns = ['people_num']\n",
    "mean_credit['credit_mean'] = Gid_bc['mean_credit'].groupby(Gid_bc['card_num']).mean()"
   ]
  },
  {
   "cell_type": "code",
   "execution_count": 356,
   "id": "2ba96911",
   "metadata": {
    "ExecuteTime": {
     "end_time": "2021-04-28T02:57:11.793567Z",
     "start_time": "2021-04-28T02:57:11.771626Z"
    }
   },
   "outputs": [
    {
     "data": {
      "text/html": [
       "<div>\n",
       "<style scoped>\n",
       "    .dataframe tbody tr th:only-of-type {\n",
       "        vertical-align: middle;\n",
       "    }\n",
       "\n",
       "    .dataframe tbody tr th {\n",
       "        vertical-align: top;\n",
       "    }\n",
       "\n",
       "    .dataframe thead th {\n",
       "        text-align: right;\n",
       "    }\n",
       "</style>\n",
       "<table border=\"1\" class=\"dataframe\">\n",
       "  <thead>\n",
       "    <tr style=\"text-align: right;\">\n",
       "      <th></th>\n",
       "      <th>people_num</th>\n",
       "      <th>credit_mean</th>\n",
       "    </tr>\n",
       "    <tr>\n",
       "      <th>card_num</th>\n",
       "      <th></th>\n",
       "      <th></th>\n",
       "    </tr>\n",
       "  </thead>\n",
       "  <tbody>\n",
       "    <tr>\n",
       "      <th>1</th>\n",
       "      <td>3249</td>\n",
       "      <td>1.564174</td>\n",
       "    </tr>\n",
       "    <tr>\n",
       "      <th>2</th>\n",
       "      <td>1680</td>\n",
       "      <td>1.547619</td>\n",
       "    </tr>\n",
       "    <tr>\n",
       "      <th>3</th>\n",
       "      <td>1123</td>\n",
       "      <td>1.555358</td>\n",
       "    </tr>\n",
       "    <tr>\n",
       "      <th>4</th>\n",
       "      <td>831</td>\n",
       "      <td>1.567389</td>\n",
       "    </tr>\n",
       "    <tr>\n",
       "      <th>5</th>\n",
       "      <td>593</td>\n",
       "      <td>1.519393</td>\n",
       "    </tr>\n",
       "    <tr>\n",
       "      <th>6</th>\n",
       "      <td>450</td>\n",
       "      <td>1.518519</td>\n",
       "    </tr>\n",
       "    <tr>\n",
       "      <th>7</th>\n",
       "      <td>290</td>\n",
       "      <td>1.488177</td>\n",
       "    </tr>\n",
       "    <tr>\n",
       "      <th>8</th>\n",
       "      <td>161</td>\n",
       "      <td>1.495342</td>\n",
       "    </tr>\n",
       "    <tr>\n",
       "      <th>9</th>\n",
       "      <td>136</td>\n",
       "      <td>1.478758</td>\n",
       "    </tr>\n",
       "    <tr>\n",
       "      <th>10</th>\n",
       "      <td>86</td>\n",
       "      <td>1.427907</td>\n",
       "    </tr>\n",
       "    <tr>\n",
       "      <th>11</th>\n",
       "      <td>59</td>\n",
       "      <td>1.359014</td>\n",
       "    </tr>\n",
       "    <tr>\n",
       "      <th>12</th>\n",
       "      <td>37</td>\n",
       "      <td>1.481982</td>\n",
       "    </tr>\n",
       "    <tr>\n",
       "      <th>13</th>\n",
       "      <td>19</td>\n",
       "      <td>1.279352</td>\n",
       "    </tr>\n",
       "    <tr>\n",
       "      <th>14</th>\n",
       "      <td>15</td>\n",
       "      <td>1.295238</td>\n",
       "    </tr>\n",
       "    <tr>\n",
       "      <th>15</th>\n",
       "      <td>10</td>\n",
       "      <td>1.566667</td>\n",
       "    </tr>\n",
       "    <tr>\n",
       "      <th>16</th>\n",
       "      <td>7</td>\n",
       "      <td>1.294643</td>\n",
       "    </tr>\n",
       "    <tr>\n",
       "      <th>17</th>\n",
       "      <td>1</td>\n",
       "      <td>1.764706</td>\n",
       "    </tr>\n",
       "    <tr>\n",
       "      <th>18</th>\n",
       "      <td>2</td>\n",
       "      <td>0.916667</td>\n",
       "    </tr>\n",
       "    <tr>\n",
       "      <th>19</th>\n",
       "      <td>1</td>\n",
       "      <td>2.000000</td>\n",
       "    </tr>\n",
       "    <tr>\n",
       "      <th>20</th>\n",
       "      <td>5</td>\n",
       "      <td>1.450000</td>\n",
       "    </tr>\n",
       "    <tr>\n",
       "      <th>21</th>\n",
       "      <td>1</td>\n",
       "      <td>1.142857</td>\n",
       "    </tr>\n",
       "    <tr>\n",
       "      <th>24</th>\n",
       "      <td>2</td>\n",
       "      <td>1.416667</td>\n",
       "    </tr>\n",
       "    <tr>\n",
       "      <th>35</th>\n",
       "      <td>1</td>\n",
       "      <td>1.000000</td>\n",
       "    </tr>\n",
       "  </tbody>\n",
       "</table>\n",
       "</div>"
      ],
      "text/plain": [
       "          people_num  credit_mean\n",
       "card_num                         \n",
       "1               3249     1.564174\n",
       "2               1680     1.547619\n",
       "3               1123     1.555358\n",
       "4                831     1.567389\n",
       "5                593     1.519393\n",
       "6                450     1.518519\n",
       "7                290     1.488177\n",
       "8                161     1.495342\n",
       "9                136     1.478758\n",
       "10                86     1.427907\n",
       "11                59     1.359014\n",
       "12                37     1.481982\n",
       "13                19     1.279352\n",
       "14                15     1.295238\n",
       "15                10     1.566667\n",
       "16                 7     1.294643\n",
       "17                 1     1.764706\n",
       "18                 2     0.916667\n",
       "19                 1     2.000000\n",
       "20                 5     1.450000\n",
       "21                 1     1.142857\n",
       "24                 2     1.416667\n",
       "35                 1     1.000000"
      ]
     },
     "execution_count": 356,
     "metadata": {},
     "output_type": "execute_result"
    }
   ],
   "source": [
    "# 카드 발급 개수 별 평균 credit\n",
    "mean_credit"
   ]
  },
  {
   "cell_type": "code",
   "execution_count": 298,
   "id": "f9b551b7",
   "metadata": {
    "ExecuteTime": {
     "end_time": "2021-04-28T00:40:38.156845Z",
     "start_time": "2021-04-28T00:40:38.144877Z"
    }
   },
   "outputs": [
    {
     "data": {
      "text/plain": [
       "2.0    16968\n",
       "1.0     6267\n",
       "0.0     3222\n",
       "Name: credit, dtype: int64"
      ]
     },
     "execution_count": 298,
     "metadata": {},
     "output_type": "execute_result"
    }
   ],
   "source": [
    "# credit 분포\n",
    "train[\"credit\"].value_counts()"
   ]
  },
  {
   "cell_type": "code",
   "execution_count": null,
   "id": "d30e40ce",
   "metadata": {},
   "outputs": [],
   "source": []
  },
  {
   "cell_type": "code",
   "execution_count": null,
   "id": "2a011076",
   "metadata": {},
   "outputs": [],
   "source": []
  },
  {
   "cell_type": "markdown",
   "id": "a5a41a01",
   "metadata": {},
   "source": [
    "### 12개월 이내"
   ]
  },
  {
   "cell_type": "code",
   "execution_count": 306,
   "id": "781d1957",
   "metadata": {
    "ExecuteTime": {
     "end_time": "2021-04-28T01:23:21.857900Z",
     "start_time": "2021-04-28T01:23:21.631506Z"
    }
   },
   "outputs": [
    {
     "name": "stderr",
     "output_type": "stream",
     "text": [
      "c:\\it\\python_workspace\\lecml\\venv_lecml\\lib\\site-packages\\ipykernel_launcher.py:4: FutureWarning: Indexing with multiple keys (implicitly converted to a tuple of keys) will be deprecated, use a list instead.\n",
      "  after removing the cwd from sys.path.\n"
     ]
    }
   ],
   "source": [
    "temp = train.copy()\n",
    "temp = temp[temp['begin_month'] >= -12]\n",
    "# ID별 begin_month, credit\n",
    "Gid_bc_12m = temp.groupby('ID')['begin_month','credit'].agg(list)"
   ]
  },
  {
   "cell_type": "code",
   "execution_count": 307,
   "id": "64874812",
   "metadata": {
    "ExecuteTime": {
     "end_time": "2021-04-28T01:23:21.873857Z",
     "start_time": "2021-04-28T01:23:21.859895Z"
    }
   },
   "outputs": [
    {
     "data": {
      "text/plain": [
       "1     2912\n",
       "2      974\n",
       "3      341\n",
       "4      125\n",
       "5       60\n",
       "6       23\n",
       "7       15\n",
       "8        4\n",
       "9        3\n",
       "10       1\n",
       "12       1\n",
       "13       1\n",
       "14       1\n",
       "15       1\n",
       "Name: begin_month, dtype: int64"
      ]
     },
     "execution_count": 307,
     "metadata": {},
     "output_type": "execute_result"
    }
   ],
   "source": [
    "# 카드 발급 개수 별 인원 수\n",
    "Gid_bc_12m['begin_month'].str.len().value_counts().sort_index(ascending=True)"
   ]
  },
  {
   "cell_type": "code",
   "execution_count": 303,
   "id": "64e21e44",
   "metadata": {
    "ExecuteTime": {
     "end_time": "2021-04-28T01:19:01.950104Z",
     "start_time": "2021-04-28T01:19:01.934147Z"
    }
   },
   "outputs": [
    {
     "name": "stdout",
     "output_type": "stream",
     "text": [
      "<class 'pandas.core.frame.DataFrame'>\n",
      "Int64Index: 8 entries, 631 to 6692\n",
      "Data columns (total 2 columns):\n",
      " #   Column       Non-Null Count  Dtype \n",
      "---  ------       --------------  ----- \n",
      " 0   begin_month  8 non-null      object\n",
      " 1   credit       8 non-null      object\n",
      "dtypes: object(2)\n",
      "memory usage: 192.0+ bytes\n"
     ]
    }
   ],
   "source": [
    "# 12개월 이내에 9개 이상 발급받은 사람: 8\n",
    "Gid_bc_9 =  Gid_bc_12m[Gid_bc_12m['begin_month'].str.len() >= 9]\n",
    "Gid_bc_9.info()"
   ]
  },
  {
   "cell_type": "code",
   "execution_count": 304,
   "id": "bf8fcf57",
   "metadata": {
    "ExecuteTime": {
     "end_time": "2021-04-28T01:19:40.757746Z",
     "start_time": "2021-04-28T01:19:39.800791Z"
    }
   },
   "outputs": [
    {
     "data": {
      "image/png": "[encoded data removed]",
      "text/plain": [
       "<Figure size 864x720 with 8 Axes>"
      ]
     },
     "metadata": {},
     "output_type": "display_data"
    }
   ],
   "source": [
    "# 카드 발급개수 20개 이상, x: begin_month, y: credit\n",
    "plt.subplots(figsize = (12, 10))\n",
    "n = 1\n",
    "for i, row in Gid_bc_9.iterrows():\n",
    "    plt.subplot(3, 3, n)\n",
    "    plt.scatter(row['begin_month'], row['credit'])\n",
    "    plt.title(str(i) + '('+ str(len(row['begin_month'])) + ')')\n",
    "    n += 1"
   ]
  },
  {
   "cell_type": "code",
   "execution_count": 305,
   "id": "cf3c8f7b",
   "metadata": {
    "ExecuteTime": {
     "end_time": "2021-04-28T01:21:41.386904Z",
     "start_time": "2021-04-28T01:21:41.349007Z"
    }
   },
   "outputs": [
    {
     "data": {
      "text/html": [
       "<div>\n",
       "<style scoped>\n",
       "    .dataframe tbody tr th:only-of-type {\n",
       "        vertical-align: middle;\n",
       "    }\n",
       "\n",
       "    .dataframe tbody tr th {\n",
       "        vertical-align: top;\n",
       "    }\n",
       "\n",
       "    .dataframe thead th {\n",
       "        text-align: right;\n",
       "    }\n",
       "</style>\n",
       "<table border=\"1\" class=\"dataframe\">\n",
       "  <thead>\n",
       "    <tr style=\"text-align: right;\">\n",
       "      <th></th>\n",
       "      <th>people_num</th>\n",
       "      <th>credit_mean</th>\n",
       "    </tr>\n",
       "    <tr>\n",
       "      <th>card_num</th>\n",
       "      <th></th>\n",
       "      <th></th>\n",
       "    </tr>\n",
       "  </thead>\n",
       "  <tbody>\n",
       "    <tr>\n",
       "      <th>1</th>\n",
       "      <td>2912</td>\n",
       "      <td>1.398352</td>\n",
       "    </tr>\n",
       "    <tr>\n",
       "      <th>2</th>\n",
       "      <td>974</td>\n",
       "      <td>1.366016</td>\n",
       "    </tr>\n",
       "    <tr>\n",
       "      <th>3</th>\n",
       "      <td>341</td>\n",
       "      <td>1.304008</td>\n",
       "    </tr>\n",
       "    <tr>\n",
       "      <th>4</th>\n",
       "      <td>125</td>\n",
       "      <td>1.240000</td>\n",
       "    </tr>\n",
       "    <tr>\n",
       "      <th>5</th>\n",
       "      <td>60</td>\n",
       "      <td>1.190000</td>\n",
       "    </tr>\n",
       "    <tr>\n",
       "      <th>6</th>\n",
       "      <td>23</td>\n",
       "      <td>1.028986</td>\n",
       "    </tr>\n",
       "    <tr>\n",
       "      <th>7</th>\n",
       "      <td>15</td>\n",
       "      <td>1.142857</td>\n",
       "    </tr>\n",
       "    <tr>\n",
       "      <th>8</th>\n",
       "      <td>4</td>\n",
       "      <td>0.468750</td>\n",
       "    </tr>\n",
       "    <tr>\n",
       "      <th>9</th>\n",
       "      <td>3</td>\n",
       "      <td>0.851852</td>\n",
       "    </tr>\n",
       "    <tr>\n",
       "      <th>10</th>\n",
       "      <td>1</td>\n",
       "      <td>0.600000</td>\n",
       "    </tr>\n",
       "    <tr>\n",
       "      <th>12</th>\n",
       "      <td>1</td>\n",
       "      <td>0.916667</td>\n",
       "    </tr>\n",
       "    <tr>\n",
       "      <th>13</th>\n",
       "      <td>1</td>\n",
       "      <td>0.923077</td>\n",
       "    </tr>\n",
       "    <tr>\n",
       "      <th>14</th>\n",
       "      <td>1</td>\n",
       "      <td>0.857143</td>\n",
       "    </tr>\n",
       "    <tr>\n",
       "      <th>15</th>\n",
       "      <td>1</td>\n",
       "      <td>1.533333</td>\n",
       "    </tr>\n",
       "  </tbody>\n",
       "</table>\n",
       "</div>"
      ],
      "text/plain": [
       "          people_num  credit_mean\n",
       "card_num                         \n",
       "1               2912     1.398352\n",
       "2                974     1.366016\n",
       "3                341     1.304008\n",
       "4                125     1.240000\n",
       "5                 60     1.190000\n",
       "6                 23     1.028986\n",
       "7                 15     1.142857\n",
       "8                  4     0.468750\n",
       "9                  3     0.851852\n",
       "10                 1     0.600000\n",
       "12                 1     0.916667\n",
       "13                 1     0.923077\n",
       "14                 1     0.857143\n",
       "15                 1     1.533333"
      ]
     },
     "execution_count": 305,
     "metadata": {},
     "output_type": "execute_result"
    }
   ],
   "source": [
    "Gid_bc_12m[\"mean_credit\"] = Gid_bc_12m[\"credit\"].apply(lambda x: sum(x)/len(x) if isinstance(x, (list, tuple)) else x)\n",
    "Gid_bc_12m[\"card_num\"] = Gid_bc_12m['begin_month'].str.len()\n",
    "Gid_bc_12m\n",
    "\n",
    "# 카드 발급 개수 별 credit 평균 \n",
    "mean_credit_12m = pd.DataFrame(Gid_bc_12m['begin_month'].str.len().value_counts().sort_index(ascending=True))\n",
    "mean_credit_12m.index.names = ['card_num']\n",
    "mean_credit_12m.columns = ['people_num']\n",
    "mean_credit_12m['credit_mean'] = Gid_bc_12m['mean_credit'].groupby(Gid_bc_12m['card_num']).mean()\n",
    "\n",
    "# 카드 발급 개수 별 평균 credit\n",
    "mean_credit_12m"
   ]
  },
  {
   "cell_type": "code",
   "execution_count": 308,
   "id": "27ad2172",
   "metadata": {
    "ExecuteTime": {
     "end_time": "2021-04-28T01:30:26.264111Z",
     "start_time": "2021-04-28T01:30:26.216241Z"
    }
   },
   "outputs": [
    {
     "data": {
      "text/html": [
       "<div>\n",
       "<style scoped>\n",
       "    .dataframe tbody tr th:only-of-type {\n",
       "        vertical-align: middle;\n",
       "    }\n",
       "\n",
       "    .dataframe tbody tr th {\n",
       "        vertical-align: top;\n",
       "    }\n",
       "\n",
       "    .dataframe thead th {\n",
       "        text-align: right;\n",
       "    }\n",
       "</style>\n",
       "<table border=\"1\" class=\"dataframe\">\n",
       "  <thead>\n",
       "    <tr style=\"text-align: right;\">\n",
       "      <th></th>\n",
       "      <th>index</th>\n",
       "      <th>child_num</th>\n",
       "      <th>income_total</th>\n",
       "      <th>DAYS_BIRTH</th>\n",
       "      <th>DAYS_EMPLOYED</th>\n",
       "      <th>FLAG_MOBIL</th>\n",
       "      <th>work_phone</th>\n",
       "      <th>phone</th>\n",
       "      <th>email</th>\n",
       "      <th>family_size</th>\n",
       "      <th>begin_month</th>\n",
       "      <th>credit</th>\n",
       "      <th>ID</th>\n",
       "    </tr>\n",
       "  </thead>\n",
       "  <tbody>\n",
       "    <tr>\n",
       "      <th>count</th>\n",
       "      <td>26457.000000</td>\n",
       "      <td>26457.000000</td>\n",
       "      <td>2.645700e+04</td>\n",
       "      <td>26457.000000</td>\n",
       "      <td>26457.000000</td>\n",
       "      <td>26457.0</td>\n",
       "      <td>26457.000000</td>\n",
       "      <td>26457.000000</td>\n",
       "      <td>26457.000000</td>\n",
       "      <td>26457.000000</td>\n",
       "      <td>26457.000000</td>\n",
       "      <td>26457.000000</td>\n",
       "      <td>26457.000000</td>\n",
       "    </tr>\n",
       "    <tr>\n",
       "      <th>mean</th>\n",
       "      <td>13228.000000</td>\n",
       "      <td>0.428658</td>\n",
       "      <td>1.873065e+05</td>\n",
       "      <td>-15958.053899</td>\n",
       "      <td>59068.750728</td>\n",
       "      <td>1.0</td>\n",
       "      <td>0.224742</td>\n",
       "      <td>0.294251</td>\n",
       "      <td>0.091280</td>\n",
       "      <td>2.196848</td>\n",
       "      <td>-26.123294</td>\n",
       "      <td>1.519560</td>\n",
       "      <td>4403.505802</td>\n",
       "    </tr>\n",
       "    <tr>\n",
       "      <th>std</th>\n",
       "      <td>7637.622372</td>\n",
       "      <td>0.747326</td>\n",
       "      <td>1.018784e+05</td>\n",
       "      <td>4201.589022</td>\n",
       "      <td>137475.427503</td>\n",
       "      <td>0.0</td>\n",
       "      <td>0.417420</td>\n",
       "      <td>0.455714</td>\n",
       "      <td>0.288013</td>\n",
       "      <td>0.916717</td>\n",
       "      <td>16.559550</td>\n",
       "      <td>0.702283</td>\n",
       "      <td>2518.686771</td>\n",
       "    </tr>\n",
       "    <tr>\n",
       "      <th>min</th>\n",
       "      <td>0.000000</td>\n",
       "      <td>0.000000</td>\n",
       "      <td>2.700000e+04</td>\n",
       "      <td>-25152.000000</td>\n",
       "      <td>-15713.000000</td>\n",
       "      <td>1.0</td>\n",
       "      <td>0.000000</td>\n",
       "      <td>0.000000</td>\n",
       "      <td>0.000000</td>\n",
       "      <td>1.000000</td>\n",
       "      <td>-60.000000</td>\n",
       "      <td>0.000000</td>\n",
       "      <td>0.000000</td>\n",
       "    </tr>\n",
       "    <tr>\n",
       "      <th>25%</th>\n",
       "      <td>6614.000000</td>\n",
       "      <td>0.000000</td>\n",
       "      <td>1.215000e+05</td>\n",
       "      <td>-19431.000000</td>\n",
       "      <td>-3153.000000</td>\n",
       "      <td>1.0</td>\n",
       "      <td>0.000000</td>\n",
       "      <td>0.000000</td>\n",
       "      <td>0.000000</td>\n",
       "      <td>2.000000</td>\n",
       "      <td>-39.000000</td>\n",
       "      <td>1.000000</td>\n",
       "      <td>2231.000000</td>\n",
       "    </tr>\n",
       "    <tr>\n",
       "      <th>50%</th>\n",
       "      <td>13228.000000</td>\n",
       "      <td>0.000000</td>\n",
       "      <td>1.575000e+05</td>\n",
       "      <td>-15547.000000</td>\n",
       "      <td>-1539.000000</td>\n",
       "      <td>1.0</td>\n",
       "      <td>0.000000</td>\n",
       "      <td>0.000000</td>\n",
       "      <td>0.000000</td>\n",
       "      <td>2.000000</td>\n",
       "      <td>-24.000000</td>\n",
       "      <td>2.000000</td>\n",
       "      <td>4392.000000</td>\n",
       "    </tr>\n",
       "    <tr>\n",
       "      <th>75%</th>\n",
       "      <td>19842.000000</td>\n",
       "      <td>1.000000</td>\n",
       "      <td>2.250000e+05</td>\n",
       "      <td>-12446.000000</td>\n",
       "      <td>-407.000000</td>\n",
       "      <td>1.0</td>\n",
       "      <td>0.000000</td>\n",
       "      <td>1.000000</td>\n",
       "      <td>0.000000</td>\n",
       "      <td>3.000000</td>\n",
       "      <td>-12.000000</td>\n",
       "      <td>2.000000</td>\n",
       "      <td>6622.000000</td>\n",
       "    </tr>\n",
       "    <tr>\n",
       "      <th>max</th>\n",
       "      <td>26456.000000</td>\n",
       "      <td>19.000000</td>\n",
       "      <td>1.575000e+06</td>\n",
       "      <td>-7705.000000</td>\n",
       "      <td>365243.000000</td>\n",
       "      <td>1.0</td>\n",
       "      <td>1.000000</td>\n",
       "      <td>1.000000</td>\n",
       "      <td>1.000000</td>\n",
       "      <td>20.000000</td>\n",
       "      <td>0.000000</td>\n",
       "      <td>2.000000</td>\n",
       "      <td>8758.000000</td>\n",
       "    </tr>\n",
       "  </tbody>\n",
       "</table>\n",
       "</div>"
      ],
      "text/plain": [
       "              index     child_num  income_total    DAYS_BIRTH  DAYS_EMPLOYED  \\\n",
       "count  26457.000000  26457.000000  2.645700e+04  26457.000000   26457.000000   \n",
       "mean   13228.000000      0.428658  1.873065e+05 -15958.053899   59068.750728   \n",
       "std     7637.622372      0.747326  1.018784e+05   4201.589022  137475.427503   \n",
       "min        0.000000      0.000000  2.700000e+04 -25152.000000  -15713.000000   \n",
       "25%     6614.000000      0.000000  1.215000e+05 -19431.000000   -3153.000000   \n",
       "50%    13228.000000      0.000000  1.575000e+05 -15547.000000   -1539.000000   \n",
       "75%    19842.000000      1.000000  2.250000e+05 -12446.000000    -407.000000   \n",
       "max    26456.000000     19.000000  1.575000e+06  -7705.000000  365243.000000   \n",
       "\n",
       "       FLAG_MOBIL    work_phone         phone         email   family_size  \\\n",
       "count     26457.0  26457.000000  26457.000000  26457.000000  26457.000000   \n",
       "mean          1.0      0.224742      0.294251      0.091280      2.196848   \n",
       "std           0.0      0.417420      0.455714      0.288013      0.916717   \n",
       "min           1.0      0.000000      0.000000      0.000000      1.000000   \n",
       "25%           1.0      0.000000      0.000000      0.000000      2.000000   \n",
       "50%           1.0      0.000000      0.000000      0.000000      2.000000   \n",
       "75%           1.0      0.000000      1.000000      0.000000      3.000000   \n",
       "max           1.0      1.000000      1.000000      1.000000     20.000000   \n",
       "\n",
       "        begin_month        credit            ID  \n",
       "count  26457.000000  26457.000000  26457.000000  \n",
       "mean     -26.123294      1.519560   4403.505802  \n",
       "std       16.559550      0.702283   2518.686771  \n",
       "min      -60.000000      0.000000      0.000000  \n",
       "25%      -39.000000      1.000000   2231.000000  \n",
       "50%      -24.000000      2.000000   4392.000000  \n",
       "75%      -12.000000      2.000000   6622.000000  \n",
       "max        0.000000      2.000000   8758.000000  "
      ]
     },
     "execution_count": 308,
     "metadata": {},
     "output_type": "execute_result"
    }
   ],
   "source": [
    "train.describe()"
   ]
  },
  {
   "cell_type": "markdown",
   "id": "41823409",
   "metadata": {},
   "source": [
    "#### 카드 개수 4개"
   ]
  },
  {
   "cell_type": "code",
   "execution_count": 317,
   "id": "19acc890",
   "metadata": {
    "ExecuteTime": {
     "end_time": "2021-04-28T02:03:51.384825Z",
     "start_time": "2021-04-28T02:03:50.462732Z"
    }
   },
   "outputs": [
    {
     "data": {
      "image/png": "[encoded data removed]",
      "text/plain": [
       "<Figure size 1008x576 with 10 Axes>"
      ]
     },
     "metadata": {},
     "output_type": "display_data"
    }
   ],
   "source": [
    "# 12개월 이내에 4개 발급받은 사람: 125\n",
    "Gid_bc_4 =  Gid_bc_12m[Gid_bc_12m['begin_month'].str.len() == 4]\n",
    "# Gid_bc_4.info()\n",
    "\n",
    "# 카드 발급개수 4개, x: begin_month, y: credit\n",
    "plt.subplots(figsize = (14, 8))\n",
    "n = 1\n",
    "for i, row in Gid_bc_4[:10].iterrows():\n",
    "    plt.subplot(3, 4, n)\n",
    "    plt.scatter(row['begin_month'], row['credit'])\n",
    "    plt.title(str(i) + '('+ str(len(row['begin_month'])) + ')')\n",
    "    n += 1"
   ]
  },
  {
   "cell_type": "code",
   "execution_count": null,
   "id": "78d8c801",
   "metadata": {},
   "outputs": [],
   "source": []
  }
 ],
 "metadata": {
  "kernelspec": {
   "display_name": "Python 3",
   "language": "python",
   "name": "python3"
  },
  "language_info": {
   "codemirror_mode": {
    "name": "ipython",
    "version": 3
   },
   "file_extension": ".py",
   "mimetype": "text/x-python",
   "name": "python",
   "nbconvert_exporter": "python",
   "pygments_lexer": "ipython3",
   "version": "3.7.7"
  },
  "toc": {
   "base_numbering": 1,
   "nav_menu": {},
   "number_sections": true,
   "sideBar": true,
   "skip_h1_title": false,
   "title_cell": "Table of Contents",
   "title_sidebar": "Contents",
   "toc_cell": false,
   "toc_position": {
    "height": "calc(100% - 180px)",
    "left": "10px",
    "top": "150px",
    "width": "384px"
   },
   "toc_section_display": true,
   "toc_window_display": true
  }
 },
 "nbformat": 4,
 "nbformat_minor": 5
}
