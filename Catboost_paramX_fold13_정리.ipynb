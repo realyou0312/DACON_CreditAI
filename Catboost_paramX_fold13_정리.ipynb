{
  "nbformat": 4,
  "nbformat_minor": 5,
  "metadata": {
    "colab": {
      "name": "Catboost_paramX_fold13_정리",
      "provenance": [],
      "collapsed_sections": [],
      "include_colab_link": true
    },
    "kernelspec": {
      "display_name": "Python 3",
      "language": "python",
      "name": "python3"
    },
    "language_info": {
      "codemirror_mode": {
        "name": "ipython",
        "version": 3
      },
      "file_extension": ".py",
      "mimetype": "text/x-python",
      "name": "python",
      "nbconvert_exporter": "python",
      "pygments_lexer": "ipython3",
      "version": "3.7.10"
    },
    "varInspector": {
      "cols": {
        "lenName": 16,
        "lenType": 16,
        "lenVar": 40
      },
      "kernels_config": {
        "python": {
          "delete_cmd_postfix": "",
          "delete_cmd_prefix": "del ",
          "library": "var_list.py",
          "varRefreshCmd": "print(var_dic_list())"
        },
        "r": {
          "delete_cmd_postfix": ") ",
          "delete_cmd_prefix": "rm(",
          "library": "var_list.r",
          "varRefreshCmd": "cat(var_dic_list()) "
        }
      },
      "types_to_exclude": [
        "module",
        "function",
        "builtin_function_or_method",
        "instance",
        "_Feature"
      ],
      "window_display": false
    },
    "accelerator": "GPU"
  },
  "cells": [
    {
      "cell_type": "markdown",
      "metadata": {
        "id": "view-in-github",
        "colab_type": "text"
      },
      "source": [
        "<a href=\"https://colab.research.google.com/github/realyou0312/DACON_CreditAI/blob/main/Catboost_paramX_fold13_%EC%A0%95%EB%A6%AC.ipynb\" target=\"_parent\"><img src=\"https://colab.research.google.com/assets/colab-badge.svg\" alt=\"Open In Colab\"/></a>"
      ]
    },
    {
      "cell_type": "markdown",
      "metadata": {
        "id": "9VS7Pworn0al"
      },
      "source": [
        "## Google Colab mount"
      ],
      "id": "9VS7Pworn0al"
    },
    {
      "cell_type": "code",
      "metadata": {
        "colab": {
          "base_uri": "https://localhost:8080/"
        },
        "id": "yGTLj8birupV",
        "outputId": "cabad4dd-ec61-4e43-9e14-a57abb6e40fe"
      },
      "source": [
        "from google.colab import drive\n",
        "drive.mount('/content/drive')"
      ],
      "id": "yGTLj8birupV",
      "execution_count": 1,
      "outputs": [
        {
          "output_type": "stream",
          "text": [
            "Mounted at /content/drive\n"
          ],
          "name": "stdout"
        }
      ]
    },
    {
      "cell_type": "markdown",
      "metadata": {
        "id": "-4XEewzgn-ss"
      },
      "source": [
        "## 패키지 설치"
      ],
      "id": "-4XEewzgn-ss"
    },
    {
      "cell_type": "code",
      "metadata": {
        "colab": {
          "base_uri": "https://localhost:8080/"
        },
        "id": "U68I7zTXw_3b",
        "outputId": "25c9e2b9-4ca4-4758-f44c-334426b84211"
      },
      "source": [
        "!pip install catboost\n",
        "!pip install category_encoders"
      ],
      "id": "U68I7zTXw_3b",
      "execution_count": 2,
      "outputs": [
        {
          "output_type": "stream",
          "text": [
            "Collecting catboost\n",
            "\u001b[?25l  Downloading https://files.pythonhosted.org/packages/47/80/8e9c57ec32dfed6ba2922bc5c96462cbf8596ce1a6f5de532ad1e43e53fe/catboost-0.25.1-cp37-none-manylinux1_x86_64.whl (67.3MB)\n",
            "\u001b[K     |████████████████████████████████| 67.3MB 42kB/s \n",
            "\u001b[?25hRequirement already satisfied: scipy in /usr/local/lib/python3.7/dist-packages (from catboost) (1.4.1)\n",
            "Requirement already satisfied: numpy>=1.16.0 in /usr/local/lib/python3.7/dist-packages (from catboost) (1.19.5)\n",
            "Requirement already satisfied: plotly in /usr/local/lib/python3.7/dist-packages (from catboost) (4.4.1)\n",
            "Requirement already satisfied: six in /usr/local/lib/python3.7/dist-packages (from catboost) (1.15.0)\n",
            "Requirement already satisfied: matplotlib in /usr/local/lib/python3.7/dist-packages (from catboost) (3.2.2)\n",
            "Requirement already satisfied: graphviz in /usr/local/lib/python3.7/dist-packages (from catboost) (0.10.1)\n",
            "Requirement already satisfied: pandas>=0.24.0 in /usr/local/lib/python3.7/dist-packages (from catboost) (1.1.5)\n",
            "Requirement already satisfied: retrying>=1.3.3 in /usr/local/lib/python3.7/dist-packages (from plotly->catboost) (1.3.3)\n",
            "Requirement already satisfied: pyparsing!=2.0.4,!=2.1.2,!=2.1.6,>=2.0.1 in /usr/local/lib/python3.7/dist-packages (from matplotlib->catboost) (2.4.7)\n",
            "Requirement already satisfied: python-dateutil>=2.1 in /usr/local/lib/python3.7/dist-packages (from matplotlib->catboost) (2.8.1)\n",
            "Requirement already satisfied: kiwisolver>=1.0.1 in /usr/local/lib/python3.7/dist-packages (from matplotlib->catboost) (1.3.1)\n",
            "Requirement already satisfied: cycler>=0.10 in /usr/local/lib/python3.7/dist-packages (from matplotlib->catboost) (0.10.0)\n",
            "Requirement already satisfied: pytz>=2017.2 in /usr/local/lib/python3.7/dist-packages (from pandas>=0.24.0->catboost) (2018.9)\n",
            "Installing collected packages: catboost\n",
            "Successfully installed catboost-0.25.1\n",
            "Collecting category_encoders\n",
            "\u001b[?25l  Downloading https://files.pythonhosted.org/packages/44/57/fcef41c248701ee62e8325026b90c432adea35555cbc870aff9cfba23727/category_encoders-2.2.2-py2.py3-none-any.whl (80kB)\n",
            "\u001b[K     |████████████████████████████████| 81kB 6.0MB/s \n",
            "\u001b[?25hRequirement already satisfied: scikit-learn>=0.20.0 in /usr/local/lib/python3.7/dist-packages (from category_encoders) (0.22.2.post1)\n",
            "Requirement already satisfied: pandas>=0.21.1 in /usr/local/lib/python3.7/dist-packages (from category_encoders) (1.1.5)\n",
            "Requirement already satisfied: patsy>=0.5.1 in /usr/local/lib/python3.7/dist-packages (from category_encoders) (0.5.1)\n",
            "Requirement already satisfied: numpy>=1.14.0 in /usr/local/lib/python3.7/dist-packages (from category_encoders) (1.19.5)\n",
            "Requirement already satisfied: statsmodels>=0.9.0 in /usr/local/lib/python3.7/dist-packages (from category_encoders) (0.10.2)\n",
            "Requirement already satisfied: scipy>=1.0.0 in /usr/local/lib/python3.7/dist-packages (from category_encoders) (1.4.1)\n",
            "Requirement already satisfied: joblib>=0.11 in /usr/local/lib/python3.7/dist-packages (from scikit-learn>=0.20.0->category_encoders) (1.0.1)\n",
            "Requirement already satisfied: python-dateutil>=2.7.3 in /usr/local/lib/python3.7/dist-packages (from pandas>=0.21.1->category_encoders) (2.8.1)\n",
            "Requirement already satisfied: pytz>=2017.2 in /usr/local/lib/python3.7/dist-packages (from pandas>=0.21.1->category_encoders) (2018.9)\n",
            "Requirement already satisfied: six in /usr/local/lib/python3.7/dist-packages (from patsy>=0.5.1->category_encoders) (1.15.0)\n",
            "Installing collected packages: category-encoders\n",
            "Successfully installed category-encoders-2.2.2\n"
          ],
          "name": "stdout"
        }
      ]
    },
    {
      "cell_type": "markdown",
      "metadata": {
        "id": "8LJCvRl7oBio"
      },
      "source": [
        "## 라이브러리 구성"
      ],
      "id": "8LJCvRl7oBio"
    },
    {
      "cell_type": "code",
      "metadata": {
        "id": "present-damage"
      },
      "source": [
        "import numpy as np\n",
        "import pandas as pd\n",
        "import seaborn as sns\n",
        "import matplotlib.pyplot as plt\n",
        "import warnings, random\n",
        "warnings.filterwarnings(action='ignore')\n",
        "\n",
        "from sklearn.metrics import classification_report, log_loss\n",
        "from sklearn.preprocessing import StandardScaler\n",
        "from category_encoders.ordinal import OrdinalEncoder\n",
        "from sklearn.model_selection import train_test_split, StratifiedKFold\n",
        "\n",
        "from sklearn.cluster import KMeans\n",
        "from catboost import CatBoostClassifier, Pool\n"
      ],
      "id": "present-damage",
      "execution_count": 18,
      "outputs": []
    },
    {
      "cell_type": "markdown",
      "metadata": {
        "id": "aqMDcWHPoFqk"
      },
      "source": [
        "## 데이터 불러오기"
      ],
      "id": "aqMDcWHPoFqk"
    },
    {
      "cell_type": "code",
      "metadata": {
        "id": "MjdahwTmB8h7"
      },
      "source": [
        "path = '/content/drive/MyDrive/DACON_Credit/'\n",
        "train = pd.read_csv(path + 'train.csv')\n",
        "test = pd.read_csv(path + 'test.csv')"
      ],
      "id": "MjdahwTmB8h7",
      "execution_count": 4,
      "outputs": []
    },
    {
      "cell_type": "markdown",
      "metadata": {
        "id": "G44GYE4emFYO"
      },
      "source": [
        "## 분석에 불필요한 index과 모든 값이 1로 동일한 FLAG_MOBIL 삭제"
      ],
      "id": "G44GYE4emFYO"
    },
    {
      "cell_type": "code",
      "metadata": {
        "id": "impaired-decrease"
      },
      "source": [
        "train.drop(['index', 'FLAG_MOBIL'], axis=1, inplace=True)\n",
        "test.drop(['index', 'FLAG_MOBIL'], axis=1, inplace=True)"
      ],
      "id": "impaired-decrease",
      "execution_count": 5,
      "outputs": []
    },
    {
      "cell_type": "markdown",
      "metadata": {
        "id": "4nvO__s0me6V"
      },
      "source": [
        "## Null값 대체"
      ],
      "id": "4nvO__s0me6V"
    },
    {
      "cell_type": "code",
      "metadata": {
        "id": "56fO9BUjmVwq"
      },
      "source": [
        "train.fillna('NaN', inplace=True) \n",
        "test.fillna('NaN', inplace=True)"
      ],
      "id": "56fO9BUjmVwq",
      "execution_count": null,
      "outputs": []
    },
    {
      "cell_type": "markdown",
      "metadata": {
        "id": "HkVP2qfCl1Ah"
      },
      "source": [
        "### DAYS_EMPLOYED 가 양수인 데이터는 현재 무직자로 판단, 0 처리"
      ],
      "id": "HkVP2qfCl1Ah"
    },
    {
      "cell_type": "code",
      "metadata": {
        "id": "wooden-authorization"
      },
      "source": [
        "train['DAYS_EMPLOYED'] = train['DAYS_EMPLOYED'].map(lambda x: 0 if x > 0 else x)\n",
        "test['DAYS_EMPLOYED'] = test['DAYS_EMPLOYED'].map(lambda x: 0 if x > 0 else x)"
      ],
      "id": "wooden-authorization",
      "execution_count": 6,
      "outputs": []
    },
    {
      "cell_type": "markdown",
      "metadata": {
        "id": "XnkXCo6alnXj"
      },
      "source": [
        "## train['family_size'] > 8 인 데이터는 test에 없기 때문에 이상치로 판단 후 제거"
      ],
      "id": "XnkXCo6alnXj"
    },
    {
      "cell_type": "code",
      "metadata": {
        "id": "tropical-practice"
      },
      "source": [
        "train = train[(train['family_size'] <= 7)]\n",
        "train = train.reset_index(drop=True)"
      ],
      "id": "tropical-practice",
      "execution_count": 7,
      "outputs": []
    },
    {
      "cell_type": "markdown",
      "metadata": {
        "id": "above-oasis"
      },
      "source": [
        "### 음수값 -> 양수 변환"
      ],
      "id": "above-oasis"
    },
    {
      "cell_type": "code",
      "metadata": {
        "id": "oriental-superior"
      },
      "source": [
        "feats = ['DAYS_BIRTH', 'begin_month', 'DAYS_EMPLOYED']\n",
        "for feat in feats:\n",
        "    train[feat]=np.abs(train[feat])\n",
        "    test[feat]=np.abs(test[feat])"
      ],
      "id": "oriental-superior",
      "execution_count": 8,
      "outputs": []
    },
    {
      "cell_type": "markdown",
      "metadata": {
        "id": "smooth-guyana"
      },
      "source": [
        "### Feature Engineering\n",
        "ref) rollcake님 글 https://dacon.io/competitions/official/235713/codeshare/2526?page=1&dtype=recent"
      ],
      "id": "smooth-guyana"
    },
    {
      "cell_type": "code",
      "metadata": {
        "id": "focal-subdivision"
      },
      "source": [
        "for df in [train,test]:\n",
        "    df['before_EMPLOYED'] = df['DAYS_BIRTH'] - df['DAYS_EMPLOYED']\n",
        "    df['income_total_befofeEMP_ratio'] = df['income_total'] / df['before_EMPLOYED']\n",
        "    \n",
        "    df['Age'] = df['DAYS_BIRTH'] // 365\n",
        "    df['DAYS_BIRTH_m'] = np.floor(df['DAYS_BIRTH'] / 30) - ((np.floor(df['DAYS_BIRTH'] / 30) / 12).astype(int) * 12)\n",
        "    df['DAYS_BIRTH_w'] = np.floor(df['DAYS_BIRTH'] / 7) - ((np.floor(df['DAYS_BIRTH'] / 7) / 4).astype(int) * 4)\n",
        "\n",
        "    df['before_EMPLOYED_m'] = np.floor(df['before_EMPLOYED'] / 30) - ((np.floor(df['before_EMPLOYED'] / 30) / 12).astype(int) * 12)\n",
        "    df['before_EMPLOYED_w'] = np.floor(df['before_EMPLOYED'] / 7) - ((np.floor(df['before_EMPLOYED'] / 7) / 4).astype(int) * 4)\n",
        "    \n",
        "    df['EMPLOYED'] = df['DAYS_EMPLOYED'] // 365\n",
        "    df['DAYS_EMPLOYED_m'] = np.floor(df['DAYS_EMPLOYED'] / 30) - ((np.floor(df['DAYS_EMPLOYED'] / 30) / 12).astype(int) * 12)\n",
        "    df['DAYS_EMPLOYED_w'] = np.floor(df['DAYS_EMPLOYED'] / 7) - ((np.floor(df['DAYS_EMPLOYED'] / 7) / 4).astype(int) * 4)\n",
        "\n",
        "    df['ability'] = df['income_total'] / (df['DAYS_BIRTH'] + df['DAYS_EMPLOYED'])\n",
        "\n",
        "    df['income_mean'] = df['income_total'] / df['family_size']\n",
        "    \n",
        "    #df['GCR'] = df['gender'].astype(str) + \"_\" + df['car'].astype(str) + \"_\" + df['reality'].astype(str)\n",
        "\n",
        "    df['ID'] = \\\n",
        "    df['child_num'].astype(str) + '_' + df['income_total'].astype(str) + '_' +\\\n",
        "    df['DAYS_BIRTH'].astype(str) + '_' + df['DAYS_EMPLOYED'].astype(str) + '_' +\\\n",
        "    df['work_phone'].astype(str) + '_' + df['phone'].astype(str) + '_' +\\\n",
        "    df['email'].astype(str) + '_' + df['family_size'].astype(str) + '_' +\\\n",
        "    df['gender'].astype(str) + '_' + df['car'].astype(str) + '_' +\\\n",
        "    df['reality'].astype(str) + '_' + df['income_type'].astype(str) + '_' +\\\n",
        "    df['edu_type'].astype(str) + '_' + df['family_type'].astype(str) + '_' +\\\n",
        "    df['house_type'].astype(str) + '_' + df['occyp_type'].astype(str)\n"
      ],
      "id": "focal-subdivision",
      "execution_count": 9,
      "outputs": []
    },
    {
      "cell_type": "markdown",
      "metadata": {
        "id": "frequent-organization"
      },
      "source": [
        "### 중복 될 수 있는 컬럼 삭제"
      ],
      "id": "frequent-organization"
    },
    {
      "cell_type": "code",
      "metadata": {
        "id": "naked-shaft"
      },
      "source": [
        "cols = [\n",
        "    # 'gender',\n",
        "    # 'car',\n",
        "    # 'reality',\n",
        "    'child_num',\n",
        "    'DAYS_BIRTH',\n",
        "    'DAYS_EMPLOYED',\n",
        "\n",
        "]\n",
        "\n",
        "train.drop(cols, axis=1, inplace=True)\n",
        "test.drop(cols, axis=1, inplace=True)"
      ],
      "id": "naked-shaft",
      "execution_count": 10,
      "outputs": []
    },
    {
      "cell_type": "markdown",
      "metadata": {
        "id": "h5Wo9r0PFTDm"
      },
      "source": [
        "### Numeric, Category 컬럼 분류"
      ],
      "id": "h5Wo9r0PFTDm"
    },
    {
      "cell_type": "code",
      "metadata": {
        "id": "aquatic-witness",
        "colab": {
          "base_uri": "https://localhost:8080/"
        },
        "outputId": "afd7eab3-0381-4c67-8aa1-4aeb146827a2"
      },
      "source": [
        "numerical_feats = train.dtypes[train.dtypes != \"object\"].index.tolist()\n",
        "numerical_feats.remove('credit')\n",
        "print(\"Number of Numerical features: \", len(numerical_feats))\n",
        "\n",
        "categorical_feats = train.dtypes[train.dtypes == \"object\"].index.tolist()\n",
        "print(\"Number of Categorical features: \", len(categorical_feats))\n"
      ],
      "id": "aquatic-witness",
      "execution_count": 11,
      "outputs": [
        {
          "output_type": "stream",
          "text": [
            "Number of Numerical features:  18\n",
            "Number of Categorical features:  9\n"
          ],
          "name": "stdout"
        }
      ]
    },
    {
      "cell_type": "code",
      "metadata": {
        "id": "iLK3i4V7VfUe",
        "colab": {
          "base_uri": "https://localhost:8080/"
        },
        "outputId": "197fce2a-f29d-4ee9-95b0-58053855eea8"
      },
      "source": [
        "numerical_feats"
      ],
      "id": "iLK3i4V7VfUe",
      "execution_count": 12,
      "outputs": [
        {
          "output_type": "execute_result",
          "data": {
            "text/plain": [
              "['income_total',\n",
              " 'work_phone',\n",
              " 'phone',\n",
              " 'email',\n",
              " 'family_size',\n",
              " 'begin_month',\n",
              " 'before_EMPLOYED',\n",
              " 'income_total_befofeEMP_ratio',\n",
              " 'Age',\n",
              " 'DAYS_BIRTH_m',\n",
              " 'DAYS_BIRTH_w',\n",
              " 'before_EMPLOYED_m',\n",
              " 'before_EMPLOYED_w',\n",
              " 'EMPLOYED',\n",
              " 'DAYS_EMPLOYED_m',\n",
              " 'DAYS_EMPLOYED_w',\n",
              " 'ability',\n",
              " 'income_mean']"
            ]
          },
          "metadata": {
            "tags": []
          },
          "execution_count": 12
        }
      ]
    },
    {
      "cell_type": "code",
      "metadata": {
        "colab": {
          "base_uri": "https://localhost:8080/"
        },
        "id": "worst-confidence",
        "outputId": "702220c4-a19f-4e40-81a1-f359d4cf5739"
      },
      "source": [
        "categorical_feats"
      ],
      "id": "worst-confidence",
      "execution_count": 13,
      "outputs": [
        {
          "output_type": "execute_result",
          "data": {
            "text/plain": [
              "['gender',\n",
              " 'car',\n",
              " 'reality',\n",
              " 'income_type',\n",
              " 'edu_type',\n",
              " 'family_type',\n",
              " 'house_type',\n",
              " 'occyp_type',\n",
              " 'ID']"
            ]
          },
          "metadata": {
            "tags": []
          },
          "execution_count": 13
        }
      ]
    },
    {
      "cell_type": "markdown",
      "metadata": {
        "id": "9P_qXS93mwbN"
      },
      "source": [
        "## 숫자가 큰 income_total은 로그변환 처리"
      ],
      "id": "9P_qXS93mwbN"
    },
    {
      "cell_type": "code",
      "metadata": {
        "id": "stopped-elimination"
      },
      "source": [
        "for df in [train,test]:\n",
        "    df['income_total'] = np.log1p(1+df['income_total'])"
      ],
      "id": "stopped-elimination",
      "execution_count": 14,
      "outputs": []
    },
    {
      "cell_type": "markdown",
      "metadata": {
        "id": "gIQ_AAVwm3HB"
      },
      "source": [
        "## 카테고리 컬럼은 Credit에 따라 인코딩 -> OrdinalEncoder 이용"
      ],
      "id": "gIQ_AAVwm3HB"
    },
    {
      "cell_type": "code",
      "metadata": {
        "id": "2JBRmGb5ADLF"
      },
      "source": [
        "encoder = OrdinalEncoder(categorical_feats)\n",
        "train[categorical_feats] = encoder.fit_transform(train[categorical_feats], train['credit'])\n",
        "test[categorical_feats] = encoder.transform(test[categorical_feats])\n",
        "\n",
        "train['ID'] = train['ID'].astype('int64')\n",
        "test['ID'] = test['ID'].astype('int64')"
      ],
      "id": "2JBRmGb5ADLF",
      "execution_count": 15,
      "outputs": []
    },
    {
      "cell_type": "code",
      "metadata": {
        "colab": {
          "base_uri": "https://localhost:8080/",
          "height": 439
        },
        "id": "patNj7N1S3Kq",
        "outputId": "c51e5d0d-cfcd-4c8b-c408-cad9d379664c"
      },
      "source": [
        "train"
      ],
      "id": "patNj7N1S3Kq",
      "execution_count": null,
      "outputs": [
        {
          "output_type": "execute_result",
          "data": {
            "text/html": [
              "<div>\n",
              "<style scoped>\n",
              "    .dataframe tbody tr th:only-of-type {\n",
              "        vertical-align: middle;\n",
              "    }\n",
              "\n",
              "    .dataframe tbody tr th {\n",
              "        vertical-align: top;\n",
              "    }\n",
              "\n",
              "    .dataframe thead th {\n",
              "        text-align: right;\n",
              "    }\n",
              "</style>\n",
              "<table border=\"1\" class=\"dataframe\">\n",
              "  <thead>\n",
              "    <tr style=\"text-align: right;\">\n",
              "      <th></th>\n",
              "      <th>gender</th>\n",
              "      <th>car</th>\n",
              "      <th>reality</th>\n",
              "      <th>income_total</th>\n",
              "      <th>income_type</th>\n",
              "      <th>edu_type</th>\n",
              "      <th>family_type</th>\n",
              "      <th>house_type</th>\n",
              "      <th>work_phone</th>\n",
              "      <th>phone</th>\n",
              "      <th>email</th>\n",
              "      <th>occyp_type</th>\n",
              "      <th>family_size</th>\n",
              "      <th>begin_month</th>\n",
              "      <th>credit</th>\n",
              "      <th>before_EMPLOYED</th>\n",
              "      <th>income_total_befofeEMP_ratio</th>\n",
              "      <th>Age</th>\n",
              "      <th>DAYS_BIRTH_m</th>\n",
              "      <th>DAYS_BIRTH_w</th>\n",
              "      <th>before_EMPLOYED_m</th>\n",
              "      <th>before_EMPLOYED_w</th>\n",
              "      <th>EMPLOYED</th>\n",
              "      <th>DAYS_EMPLOYED_m</th>\n",
              "      <th>DAYS_EMPLOYED_w</th>\n",
              "      <th>ability</th>\n",
              "      <th>income_mean</th>\n",
              "      <th>ID</th>\n",
              "    </tr>\n",
              "  </thead>\n",
              "  <tbody>\n",
              "    <tr>\n",
              "      <th>0</th>\n",
              "      <td>1</td>\n",
              "      <td>1</td>\n",
              "      <td>1</td>\n",
              "      <td>12.218505</td>\n",
              "      <td>1</td>\n",
              "      <td>1</td>\n",
              "      <td>1</td>\n",
              "      <td>1</td>\n",
              "      <td>0</td>\n",
              "      <td>0</td>\n",
              "      <td>0</td>\n",
              "      <td>1</td>\n",
              "      <td>2.0</td>\n",
              "      <td>6.0</td>\n",
              "      <td>1.0</td>\n",
              "      <td>9190</td>\n",
              "      <td>22.034820</td>\n",
              "      <td>38</td>\n",
              "      <td>7.0</td>\n",
              "      <td>1.0</td>\n",
              "      <td>6.0</td>\n",
              "      <td>0.0</td>\n",
              "      <td>12</td>\n",
              "      <td>0.0</td>\n",
              "      <td>0.0</td>\n",
              "      <td>10.882416</td>\n",
              "      <td>101250.0</td>\n",
              "      <td>1</td>\n",
              "    </tr>\n",
              "    <tr>\n",
              "      <th>1</th>\n",
              "      <td>1</td>\n",
              "      <td>1</td>\n",
              "      <td>2</td>\n",
              "      <td>12.419174</td>\n",
              "      <td>1</td>\n",
              "      <td>2</td>\n",
              "      <td>2</td>\n",
              "      <td>2</td>\n",
              "      <td>0</td>\n",
              "      <td>0</td>\n",
              "      <td>1</td>\n",
              "      <td>2</td>\n",
              "      <td>3.0</td>\n",
              "      <td>5.0</td>\n",
              "      <td>1.0</td>\n",
              "      <td>9840</td>\n",
              "      <td>25.152439</td>\n",
              "      <td>31</td>\n",
              "      <td>7.0</td>\n",
              "      <td>1.0</td>\n",
              "      <td>4.0</td>\n",
              "      <td>1.0</td>\n",
              "      <td>4</td>\n",
              "      <td>3.0</td>\n",
              "      <td>0.0</td>\n",
              "      <td>19.156347</td>\n",
              "      <td>82500.0</td>\n",
              "      <td>2</td>\n",
              "    </tr>\n",
              "    <tr>\n",
              "      <th>2</th>\n",
              "      <td>2</td>\n",
              "      <td>2</td>\n",
              "      <td>2</td>\n",
              "      <td>13.017007</td>\n",
              "      <td>2</td>\n",
              "      <td>1</td>\n",
              "      <td>1</td>\n",
              "      <td>2</td>\n",
              "      <td>0</td>\n",
              "      <td>1</td>\n",
              "      <td>0</td>\n",
              "      <td>3</td>\n",
              "      <td>2.0</td>\n",
              "      <td>22.0</td>\n",
              "      <td>2.0</td>\n",
              "      <td>14653</td>\n",
              "      <td>30.710435</td>\n",
              "      <td>52</td>\n",
              "      <td>0.0</td>\n",
              "      <td>2.0</td>\n",
              "      <td>8.0</td>\n",
              "      <td>1.0</td>\n",
              "      <td>12</td>\n",
              "      <td>3.0</td>\n",
              "      <td>1.0</td>\n",
              "      <td>19.131840</td>\n",
              "      <td>225000.0</td>\n",
              "      <td>3</td>\n",
              "    </tr>\n",
              "    <tr>\n",
              "      <th>3</th>\n",
              "      <td>1</td>\n",
              "      <td>1</td>\n",
              "      <td>2</td>\n",
              "      <td>12.218505</td>\n",
              "      <td>1</td>\n",
              "      <td>2</td>\n",
              "      <td>1</td>\n",
              "      <td>2</td>\n",
              "      <td>0</td>\n",
              "      <td>1</td>\n",
              "      <td>0</td>\n",
              "      <td>4</td>\n",
              "      <td>2.0</td>\n",
              "      <td>37.0</td>\n",
              "      <td>0.0</td>\n",
              "      <td>12996</td>\n",
              "      <td>15.581717</td>\n",
              "      <td>41</td>\n",
              "      <td>10.0</td>\n",
              "      <td>3.0</td>\n",
              "      <td>1.0</td>\n",
              "      <td>0.0</td>\n",
              "      <td>5</td>\n",
              "      <td>9.0</td>\n",
              "      <td>2.0</td>\n",
              "      <td>11.786962</td>\n",
              "      <td>101250.0</td>\n",
              "      <td>4</td>\n",
              "    </tr>\n",
              "    <tr>\n",
              "      <th>4</th>\n",
              "      <td>1</td>\n",
              "      <td>2</td>\n",
              "      <td>2</td>\n",
              "      <td>11.967193</td>\n",
              "      <td>3</td>\n",
              "      <td>1</td>\n",
              "      <td>1</td>\n",
              "      <td>2</td>\n",
              "      <td>0</td>\n",
              "      <td>0</td>\n",
              "      <td>0</td>\n",
              "      <td>3</td>\n",
              "      <td>2.0</td>\n",
              "      <td>26.0</td>\n",
              "      <td>2.0</td>\n",
              "      <td>12932</td>\n",
              "      <td>12.179091</td>\n",
              "      <td>41</td>\n",
              "      <td>9.0</td>\n",
              "      <td>0.0</td>\n",
              "      <td>11.0</td>\n",
              "      <td>3.0</td>\n",
              "      <td>5</td>\n",
              "      <td>10.0</td>\n",
              "      <td>0.0</td>\n",
              "      <td>9.187959</td>\n",
              "      <td>78750.0</td>\n",
              "      <td>5</td>\n",
              "    </tr>\n",
              "    <tr>\n",
              "      <th>...</th>\n",
              "      <td>...</td>\n",
              "      <td>...</td>\n",
              "      <td>...</td>\n",
              "      <td>...</td>\n",
              "      <td>...</td>\n",
              "      <td>...</td>\n",
              "      <td>...</td>\n",
              "      <td>...</td>\n",
              "      <td>...</td>\n",
              "      <td>...</td>\n",
              "      <td>...</td>\n",
              "      <td>...</td>\n",
              "      <td>...</td>\n",
              "      <td>...</td>\n",
              "      <td>...</td>\n",
              "      <td>...</td>\n",
              "      <td>...</td>\n",
              "      <td>...</td>\n",
              "      <td>...</td>\n",
              "      <td>...</td>\n",
              "      <td>...</td>\n",
              "      <td>...</td>\n",
              "      <td>...</td>\n",
              "      <td>...</td>\n",
              "      <td>...</td>\n",
              "      <td>...</td>\n",
              "      <td>...</td>\n",
              "      <td>...</td>\n",
              "    </tr>\n",
              "    <tr>\n",
              "      <th>26446</th>\n",
              "      <td>1</td>\n",
              "      <td>1</td>\n",
              "      <td>1</td>\n",
              "      <td>12.323865</td>\n",
              "      <td>3</td>\n",
              "      <td>2</td>\n",
              "      <td>1</td>\n",
              "      <td>2</td>\n",
              "      <td>0</td>\n",
              "      <td>0</td>\n",
              "      <td>0</td>\n",
              "      <td>6</td>\n",
              "      <td>4.0</td>\n",
              "      <td>2.0</td>\n",
              "      <td>1.0</td>\n",
              "      <td>10095</td>\n",
              "      <td>22.288262</td>\n",
              "      <td>33</td>\n",
              "      <td>6.0</td>\n",
              "      <td>1.0</td>\n",
              "      <td>0.0</td>\n",
              "      <td>2.0</td>\n",
              "      <td>5</td>\n",
              "      <td>6.0</td>\n",
              "      <td>3.0</td>\n",
              "      <td>15.999431</td>\n",
              "      <td>56250.0</td>\n",
              "      <td>3301</td>\n",
              "    </tr>\n",
              "    <tr>\n",
              "      <th>26447</th>\n",
              "      <td>1</td>\n",
              "      <td>1</td>\n",
              "      <td>2</td>\n",
              "      <td>12.100723</td>\n",
              "      <td>2</td>\n",
              "      <td>1</td>\n",
              "      <td>3</td>\n",
              "      <td>2</td>\n",
              "      <td>0</td>\n",
              "      <td>0</td>\n",
              "      <td>0</td>\n",
              "      <td>1</td>\n",
              "      <td>2.0</td>\n",
              "      <td>47.0</td>\n",
              "      <td>2.0</td>\n",
              "      <td>12816</td>\n",
              "      <td>14.044944</td>\n",
              "      <td>41</td>\n",
              "      <td>5.0</td>\n",
              "      <td>0.0</td>\n",
              "      <td>7.0</td>\n",
              "      <td>2.0</td>\n",
              "      <td>6</td>\n",
              "      <td>10.0</td>\n",
              "      <td>1.0</td>\n",
              "      <td>10.131712</td>\n",
              "      <td>90000.0</td>\n",
              "      <td>8753</td>\n",
              "    </tr>\n",
              "    <tr>\n",
              "      <th>26448</th>\n",
              "      <td>1</td>\n",
              "      <td>2</td>\n",
              "      <td>1</td>\n",
              "      <td>12.586227</td>\n",
              "      <td>2</td>\n",
              "      <td>2</td>\n",
              "      <td>2</td>\n",
              "      <td>3</td>\n",
              "      <td>0</td>\n",
              "      <td>0</td>\n",
              "      <td>0</td>\n",
              "      <td>6</td>\n",
              "      <td>2.0</td>\n",
              "      <td>25.0</td>\n",
              "      <td>2.0</td>\n",
              "      <td>8067</td>\n",
              "      <td>36.258832</td>\n",
              "      <td>27</td>\n",
              "      <td>0.0</td>\n",
              "      <td>0.0</td>\n",
              "      <td>4.0</td>\n",
              "      <td>0.0</td>\n",
              "      <td>5</td>\n",
              "      <td>7.0</td>\n",
              "      <td>3.0</td>\n",
              "      <td>24.179549</td>\n",
              "      <td>146250.0</td>\n",
              "      <td>8754</td>\n",
              "    </tr>\n",
              "    <tr>\n",
              "      <th>26449</th>\n",
              "      <td>2</td>\n",
              "      <td>1</td>\n",
              "      <td>2</td>\n",
              "      <td>12.049431</td>\n",
              "      <td>2</td>\n",
              "      <td>3</td>\n",
              "      <td>4</td>\n",
              "      <td>2</td>\n",
              "      <td>0</td>\n",
              "      <td>0</td>\n",
              "      <td>0</td>\n",
              "      <td>2</td>\n",
              "      <td>1.0</td>\n",
              "      <td>59.0</td>\n",
              "      <td>2.0</td>\n",
              "      <td>10038</td>\n",
              "      <td>17.035266</td>\n",
              "      <td>27</td>\n",
              "      <td>2.0</td>\n",
              "      <td>1.0</td>\n",
              "      <td>10.0</td>\n",
              "      <td>2.0</td>\n",
              "      <td>0</td>\n",
              "      <td>3.0</td>\n",
              "      <td>3.0</td>\n",
              "      <td>16.679672</td>\n",
              "      <td>171000.0</td>\n",
              "      <td>8755</td>\n",
              "    </tr>\n",
              "    <tr>\n",
              "      <th>26450</th>\n",
              "      <td>1</td>\n",
              "      <td>1</td>\n",
              "      <td>1</td>\n",
              "      <td>11.302229</td>\n",
              "      <td>2</td>\n",
              "      <td>2</td>\n",
              "      <td>2</td>\n",
              "      <td>2</td>\n",
              "      <td>0</td>\n",
              "      <td>0</td>\n",
              "      <td>0</td>\n",
              "      <td>11</td>\n",
              "      <td>2.0</td>\n",
              "      <td>9.0</td>\n",
              "      <td>2.0</td>\n",
              "      <td>18556</td>\n",
              "      <td>4.365165</td>\n",
              "      <td>53</td>\n",
              "      <td>4.0</td>\n",
              "      <td>3.0</td>\n",
              "      <td>6.0</td>\n",
              "      <td>2.0</td>\n",
              "      <td>2</td>\n",
              "      <td>9.0</td>\n",
              "      <td>0.0</td>\n",
              "      <td>3.935478</td>\n",
              "      <td>40500.0</td>\n",
              "      <td>8756</td>\n",
              "    </tr>\n",
              "  </tbody>\n",
              "</table>\n",
              "<p>26451 rows × 28 columns</p>\n",
              "</div>"
            ],
            "text/plain": [
              "       gender  car  reality  ...    ability  income_mean    ID\n",
              "0           1    1        1  ...  10.882416     101250.0     1\n",
              "1           1    1        2  ...  19.156347      82500.0     2\n",
              "2           2    2        2  ...  19.131840     225000.0     3\n",
              "3           1    1        2  ...  11.786962     101250.0     4\n",
              "4           1    2        2  ...   9.187959      78750.0     5\n",
              "...       ...  ...      ...  ...        ...          ...   ...\n",
              "26446       1    1        1  ...  15.999431      56250.0  3301\n",
              "26447       1    1        2  ...  10.131712      90000.0  8753\n",
              "26448       1    2        1  ...  24.179549     146250.0  8754\n",
              "26449       2    1        2  ...  16.679672     171000.0  8755\n",
              "26450       1    1        1  ...   3.935478      40500.0  8756\n",
              "\n",
              "[26451 rows x 28 columns]"
            ]
          },
          "metadata": {
            "tags": []
          },
          "execution_count": 111
        }
      ]
    },
    {
      "cell_type": "markdown",
      "metadata": {
        "id": "HJy2yOkZnImd"
      },
      "source": [
        ""
      ],
      "id": "HJy2yOkZnImd"
    },
    {
      "cell_type": "code",
      "metadata": {
        "id": "negative-seven"
      },
      "source": [
        "kmeans_train = train.drop(['credit'], axis=1)\n",
        "kmeans = KMeans(n_clusters=36, random_state=42).fit(kmeans_train)\n",
        "train['cluster'] = kmeans.predict(kmeans_train)\n",
        "test['cluster'] = kmeans.predict(test)"
      ],
      "id": "negative-seven",
      "execution_count": 16,
      "outputs": []
    },
    {
      "cell_type": "markdown",
      "metadata": {
        "id": "50lGc5mAnIQN"
      },
      "source": [
        "## 이미 로그변환을 진행한 income_total을 제외한 나머지 numeric 컬럼에 대해 정규화"
      ],
      "id": "50lGc5mAnIQN"
    },
    {
      "cell_type": "code",
      "metadata": {
        "id": "short-smith"
      },
      "source": [
        "numerical_feats.remove('income_total')\n",
        "scaler = StandardScaler()\n",
        "train[numerical_feats] = scaler.fit_transform(train[numerical_feats])\n",
        "test[numerical_feats] = scaler.transform(test[numerical_feats])\n"
      ],
      "id": "short-smith",
      "execution_count": 20,
      "outputs": []
    },
    {
      "cell_type": "markdown",
      "metadata": {
        "id": "handed-boundary"
      },
      "source": [
        "## Modeling - catboost\n",
        " - parameter를 두는 것 보다 두지 않는 것이 logloss가 낮았음"
      ],
      "id": "handed-boundary"
    },
    {
      "cell_type": "code",
      "metadata": {
        "id": "imposed-weekend"
      },
      "source": [
        "n_est = 2000\n",
        "seed = 42\n",
        "n_fold = 13\n",
        "n_class = 3\n",
        "\n",
        "target = 'credit'\n",
        "X = train.drop(target, axis=1)\n",
        "y = train[target]\n",
        "X_test = test"
      ],
      "id": "imposed-weekend",
      "execution_count": 21,
      "outputs": []
    },
    {
      "cell_type": "code",
      "metadata": {
        "colab": {
          "base_uri": "https://localhost:8080/"
        },
        "id": "VNGLQ0bPJ0oh",
        "outputId": "83c80bfe-256d-4c97-8bed-39ffca03453b"
      },
      "source": [
        "skfold = StratifiedKFold(n_splits=n_fold, shuffle=True, random_state=seed)\n",
        "folds=[]\n",
        "for train_idx, valid_idx in skfold.split(X, y):\n",
        "        folds.append((train_idx, valid_idx))\n",
        "\n",
        "\n",
        "cat_pred = np.zeros((X.shape[0], n_class))\n",
        "cat_pred_test = np.zeros((X_test.shape[0], n_class))\n",
        "cat_cols = [\n",
        "            'income_type',\n",
        "            'edu_type',\n",
        "            'family_type',\n",
        "            'house_type',\n",
        "            'occyp_type',\n",
        "            #'GCR',\n",
        "            # 'Contact',\n",
        "            'ID',\n",
        "]\n",
        "for fold in range(n_fold):\n",
        "  print(f'\\n----------------- Fold {fold} -----------------\\n')\n",
        "  train_idx, valid_idx = folds[fold]\n",
        "  X_train, X_valid, y_train, y_valid = X.iloc[train_idx], X.iloc[valid_idx], y[train_idx], y[valid_idx]\n",
        "  train_data = Pool(data=X_train, label=y_train, cat_features=cat_cols)\n",
        "  valid_data = Pool(data=X_valid, label=y_valid, cat_features=cat_cols)\n",
        "\n",
        "  model_cat = CatBoostClassifier()\n",
        "  model_cat.fit(train_data,\n",
        "            eval_set=valid_data,\n",
        "            use_best_model=True,\n",
        "            early_stopping_rounds=100,\n",
        "            verbose=100,)\n",
        "  cat_pred[valid_idx] = model_cat.predict_proba(X_valid)\n",
        "  cat_pred_test += model_cat.predict_proba(X_test) / n_fold\n",
        "  print(f'CV Log Loss Score: {log_loss(y_valid, cat_pred[valid_idx]):.6f}')\n",
        "    \n",
        "print(f'\\tLog Loss: {log_loss(y, cat_pred):.6f}')\n"
      ],
      "id": "VNGLQ0bPJ0oh",
      "execution_count": 22,
      "outputs": [
        {
          "output_type": "stream",
          "text": [
            "\n",
            "----------------- Fold 0 -----------------\n",
            "\n",
            "Learning rate set to 0.115102\n",
            "0:\tlearn: 1.0347263\ttest: 1.0335026\tbest: 1.0335026 (0)\ttotal: 102ms\tremaining: 1m 42s\n",
            "100:\tlearn: 0.7068237\ttest: 0.6455412\tbest: 0.6450650 (90)\ttotal: 8.79s\tremaining: 1m 18s\n",
            "200:\tlearn: 0.6868211\ttest: 0.6430186\tbest: 0.6426617 (191)\ttotal: 18.6s\tremaining: 1m 13s\n",
            "Stopped by overfitting detector  (100 iterations wait)\n",
            "\n",
            "bestTest = 0.6426617318\n",
            "bestIteration = 191\n",
            "\n",
            "Shrink model to first 192 iterations.\n",
            "CV Log Loss Score: 0.642662\n",
            "\n",
            "----------------- Fold 1 -----------------\n",
            "\n",
            "Learning rate set to 0.115102\n",
            "0:\tlearn: 1.0347172\ttest: 1.0335017\tbest: 1.0335017 (0)\ttotal: 52.9ms\tremaining: 52.8s\n",
            "100:\tlearn: 0.7047323\ttest: 0.6593967\tbest: 0.6593967 (100)\ttotal: 8.65s\tremaining: 1m 17s\n",
            "200:\tlearn: 0.6866511\ttest: 0.6576849\tbest: 0.6576599 (198)\ttotal: 18.5s\tremaining: 1m 13s\n",
            "300:\tlearn: 0.6685913\ttest: 0.6589414\tbest: 0.6573468 (253)\ttotal: 28.3s\tremaining: 1m 5s\n",
            "Stopped by overfitting detector  (100 iterations wait)\n",
            "\n",
            "bestTest = 0.6573468299\n",
            "bestIteration = 253\n",
            "\n",
            "Shrink model to first 254 iterations.\n",
            "CV Log Loss Score: 0.657347\n",
            "\n",
            "----------------- Fold 2 -----------------\n",
            "\n",
            "Learning rate set to 0.115102\n",
            "0:\tlearn: 1.0342399\ttest: 1.0367635\tbest: 1.0367635 (0)\ttotal: 51.6ms\tremaining: 51.6s\n",
            "100:\tlearn: 0.7047706\ttest: 0.6566608\tbest: 0.6566608 (100)\ttotal: 8.96s\tremaining: 1m 19s\n",
            "200:\tlearn: 0.6870777\ttest: 0.6547934\tbest: 0.6545695 (181)\ttotal: 19s\tremaining: 1m 15s\n",
            "300:\tlearn: 0.6692773\ttest: 0.6554499\tbest: 0.6538260 (248)\ttotal: 28.8s\tremaining: 1m 6s\n",
            "Stopped by overfitting detector  (100 iterations wait)\n",
            "\n",
            "bestTest = 0.6538260481\n",
            "bestIteration = 248\n",
            "\n",
            "Shrink model to first 249 iterations.\n",
            "CV Log Loss Score: 0.653826\n",
            "\n",
            "----------------- Fold 3 -----------------\n",
            "\n",
            "Learning rate set to 0.115102\n",
            "0:\tlearn: 1.0346104\ttest: 1.0342593\tbest: 1.0342593 (0)\ttotal: 51.2ms\tremaining: 51.2s\n",
            "100:\tlearn: 0.7059740\ttest: 0.6672470\tbest: 0.6672134 (99)\ttotal: 8.75s\tremaining: 1m 17s\n",
            "200:\tlearn: 0.6866374\ttest: 0.6649811\tbest: 0.6648486 (194)\ttotal: 18.6s\tremaining: 1m 13s\n",
            "300:\tlearn: 0.6686208\ttest: 0.6650771\tbest: 0.6645959 (275)\ttotal: 28.6s\tremaining: 1m 6s\n",
            "400:\tlearn: 0.6511566\ttest: 0.6654743\tbest: 0.6643957 (332)\ttotal: 38.4s\tremaining: 57.4s\n",
            "Stopped by overfitting detector  (100 iterations wait)\n",
            "\n",
            "bestTest = 0.6643957166\n",
            "bestIteration = 332\n",
            "\n",
            "Shrink model to first 333 iterations.\n",
            "CV Log Loss Score: 0.664396\n",
            "\n",
            "----------------- Fold 4 -----------------\n",
            "\n",
            "Learning rate set to 0.115102\n",
            "0:\tlearn: 1.0344611\ttest: 1.0352378\tbest: 1.0352378 (0)\ttotal: 51.5ms\tremaining: 51.4s\n",
            "100:\tlearn: 0.7038320\ttest: 0.6771554\tbest: 0.6770631 (99)\ttotal: 8.73s\tremaining: 1m 17s\n",
            "200:\tlearn: 0.6844657\ttest: 0.6754456\tbest: 0.6749490 (161)\ttotal: 18.7s\tremaining: 1m 14s\n",
            "300:\tlearn: 0.6657693\ttest: 0.6749054\tbest: 0.6747981 (252)\ttotal: 28.8s\tremaining: 1m 6s\n",
            "400:\tlearn: 0.6474605\ttest: 0.6759247\tbest: 0.6747967 (320)\ttotal: 38.8s\tremaining: 58s\n",
            "Stopped by overfitting detector  (100 iterations wait)\n",
            "\n",
            "bestTest = 0.6747967227\n",
            "bestIteration = 320\n",
            "\n",
            "Shrink model to first 321 iterations.\n",
            "CV Log Loss Score: 0.674797\n",
            "\n",
            "----------------- Fold 5 -----------------\n",
            "\n",
            "Learning rate set to 0.115102\n",
            "0:\tlearn: 1.0348083\ttest: 1.0329765\tbest: 1.0329765 (0)\ttotal: 54.7ms\tremaining: 54.6s\n",
            "100:\tlearn: 0.7025317\ttest: 0.6681267\tbest: 0.6681267 (100)\ttotal: 8.41s\tremaining: 1m 14s\n",
            "200:\tlearn: 0.6834182\ttest: 0.6667859\tbest: 0.6664442 (183)\ttotal: 18.4s\tremaining: 1m 13s\n",
            "300:\tlearn: 0.6653919\ttest: 0.6671860\tbest: 0.6663041 (238)\ttotal: 28.3s\tremaining: 1m 5s\n",
            "Stopped by overfitting detector  (100 iterations wait)\n",
            "\n",
            "bestTest = 0.6663040839\n",
            "bestIteration = 238\n",
            "\n",
            "Shrink model to first 239 iterations.\n",
            "CV Log Loss Score: 0.666304\n",
            "\n",
            "----------------- Fold 6 -----------------\n",
            "\n",
            "Learning rate set to 0.115102\n",
            "0:\tlearn: 1.0344248\ttest: 1.0354987\tbest: 1.0354987 (0)\ttotal: 54.5ms\tremaining: 54.4s\n",
            "100:\tlearn: 0.7039733\ttest: 0.6708189\tbest: 0.6708189 (100)\ttotal: 8.65s\tremaining: 1m 17s\n",
            "200:\tlearn: 0.6846493\ttest: 0.6685148\tbest: 0.6684228 (195)\ttotal: 18.6s\tremaining: 1m 14s\n",
            "300:\tlearn: 0.6685596\ttest: 0.6675058\tbest: 0.6673308 (298)\ttotal: 28.6s\tremaining: 1m 6s\n",
            "400:\tlearn: 0.6522545\ttest: 0.6690368\tbest: 0.6672540 (317)\ttotal: 38.7s\tremaining: 57.8s\n",
            "Stopped by overfitting detector  (100 iterations wait)\n",
            "\n",
            "bestTest = 0.667253966\n",
            "bestIteration = 317\n",
            "\n",
            "Shrink model to first 318 iterations.\n",
            "CV Log Loss Score: 0.667254\n",
            "\n",
            "----------------- Fold 7 -----------------\n",
            "\n",
            "Learning rate set to 0.115102\n",
            "0:\tlearn: 1.0344972\ttest: 1.0350242\tbest: 1.0350242 (0)\ttotal: 56.1ms\tremaining: 56s\n",
            "100:\tlearn: 0.7040304\ttest: 0.6809554\tbest: 0.6807342 (95)\ttotal: 8.71s\tremaining: 1m 17s\n",
            "200:\tlearn: 0.6843795\ttest: 0.6792345\tbest: 0.6791834 (199)\ttotal: 18.6s\tremaining: 1m 13s\n",
            "300:\tlearn: 0.6666673\ttest: 0.6800413\tbest: 0.6789539 (217)\ttotal: 28.3s\tremaining: 1m 5s\n",
            "Stopped by overfitting detector  (100 iterations wait)\n",
            "\n",
            "bestTest = 0.6789538967\n",
            "bestIteration = 217\n",
            "\n",
            "Shrink model to first 218 iterations.\n",
            "CV Log Loss Score: 0.678954\n",
            "\n",
            "----------------- Fold 8 -----------------\n",
            "\n",
            "Learning rate set to 0.115102\n",
            "0:\tlearn: 1.0344374\ttest: 1.0354531\tbest: 1.0354531 (0)\ttotal: 51.8ms\tremaining: 51.8s\n",
            "100:\tlearn: 0.7038348\ttest: 0.6713964\tbest: 0.6713964 (100)\ttotal: 8.69s\tremaining: 1m 17s\n",
            "200:\tlearn: 0.6860072\ttest: 0.6680732\tbest: 0.6680732 (200)\ttotal: 18.5s\tremaining: 1m 13s\n",
            "300:\tlearn: 0.6670919\ttest: 0.6684395\tbest: 0.6679335 (295)\ttotal: 28.3s\tremaining: 1m 5s\n",
            "Stopped by overfitting detector  (100 iterations wait)\n",
            "\n",
            "bestTest = 0.6679334702\n",
            "bestIteration = 295\n",
            "\n",
            "Shrink model to first 296 iterations.\n",
            "CV Log Loss Score: 0.667933\n",
            "\n",
            "----------------- Fold 9 -----------------\n",
            "\n",
            "Learning rate set to 0.115102\n",
            "0:\tlearn: 1.0356306\ttest: 1.0343577\tbest: 1.0343577 (0)\ttotal: 114ms\tremaining: 1m 54s\n",
            "100:\tlearn: 0.7041751\ttest: 0.6653718\tbest: 0.6653718 (100)\ttotal: 8.84s\tremaining: 1m 18s\n",
            "200:\tlearn: 0.6831069\ttest: 0.6630313\tbest: 0.6630313 (200)\ttotal: 18.6s\tremaining: 1m 13s\n",
            "300:\tlearn: 0.6655838\ttest: 0.6635716\tbest: 0.6630004 (201)\ttotal: 28.6s\tremaining: 1m 6s\n",
            "Stopped by overfitting detector  (100 iterations wait)\n",
            "\n",
            "bestTest = 0.6630004197\n",
            "bestIteration = 201\n",
            "\n",
            "Shrink model to first 202 iterations.\n",
            "CV Log Loss Score: 0.663000\n",
            "\n",
            "----------------- Fold 10 -----------------\n",
            "\n",
            "Learning rate set to 0.115102\n",
            "0:\tlearn: 1.0353764\ttest: 1.0358221\tbest: 1.0358221 (0)\ttotal: 111ms\tremaining: 1m 51s\n",
            "100:\tlearn: 0.7015577\ttest: 0.6805645\tbest: 0.6803067 (91)\ttotal: 8.85s\tremaining: 1m 18s\n",
            "200:\tlearn: 0.6828568\ttest: 0.6779348\tbest: 0.6778483 (195)\ttotal: 18.7s\tremaining: 1m 14s\n",
            "300:\tlearn: 0.6664058\ttest: 0.6769265\tbest: 0.6769265 (300)\ttotal: 28.6s\tremaining: 1m 6s\n",
            "400:\tlearn: 0.6496159\ttest: 0.6766899\tbest: 0.6763801 (373)\ttotal: 38.5s\tremaining: 57.5s\n",
            "Stopped by overfitting detector  (100 iterations wait)\n",
            "\n",
            "bestTest = 0.6763800688\n",
            "bestIteration = 373\n",
            "\n",
            "Shrink model to first 374 iterations.\n",
            "CV Log Loss Score: 0.676380\n",
            "\n",
            "----------------- Fold 11 -----------------\n",
            "\n",
            "Learning rate set to 0.115102\n",
            "0:\tlearn: 1.0355959\ttest: 1.0345958\tbest: 1.0345958 (0)\ttotal: 115ms\tremaining: 1m 55s\n",
            "100:\tlearn: 0.7039699\ttest: 0.6677293\tbest: 0.6674833 (99)\ttotal: 8.71s\tremaining: 1m 17s\n",
            "200:\tlearn: 0.6860535\ttest: 0.6668571\tbest: 0.6668049 (198)\ttotal: 18.5s\tremaining: 1m 13s\n",
            "300:\tlearn: 0.6680879\ttest: 0.6658979\tbest: 0.6656477 (290)\ttotal: 28.5s\tremaining: 1m 6s\n",
            "400:\tlearn: 0.6514485\ttest: 0.6661813\tbest: 0.6653684 (354)\ttotal: 38.4s\tremaining: 57.3s\n",
            "Stopped by overfitting detector  (100 iterations wait)\n",
            "\n",
            "bestTest = 0.6653683602\n",
            "bestIteration = 354\n",
            "\n",
            "Shrink model to first 355 iterations.\n",
            "CV Log Loss Score: 0.665368\n",
            "\n",
            "----------------- Fold 12 -----------------\n",
            "\n",
            "Learning rate set to 0.115102\n",
            "0:\tlearn: 1.0355536\ttest: 1.0348873\tbest: 1.0348873 (0)\ttotal: 116ms\tremaining: 1m 56s\n",
            "100:\tlearn: 0.7043813\ttest: 0.6809711\tbest: 0.6809711 (100)\ttotal: 8.6s\tremaining: 1m 16s\n",
            "200:\tlearn: 0.6839532\ttest: 0.6797715\tbest: 0.6794181 (185)\ttotal: 18.4s\tremaining: 1m 13s\n",
            "300:\tlearn: 0.6667873\ttest: 0.6802483\tbest: 0.6790356 (260)\ttotal: 28.1s\tremaining: 1m 5s\n",
            "Stopped by overfitting detector  (100 iterations wait)\n",
            "\n",
            "bestTest = 0.6790356267\n",
            "bestIteration = 260\n",
            "\n",
            "Shrink model to first 261 iterations.\n",
            "CV Log Loss Score: 0.679036\n",
            "\tLog Loss: 0.665942\n"
          ],
          "name": "stdout"
        }
      ]
    },
    {
      "cell_type": "code",
      "metadata": {
        "id": "mR6tLX2msMkz"
      },
      "source": [
        "def plot_feature_importance(importance,names,model_type):\n",
        "    \n",
        "    feature_importance = np.array(importance)\n",
        "    feature_names = np.array(names)\n",
        "    \n",
        "    data={'feature_names':feature_names,'feature_importance':feature_importance}\n",
        "    fi_df = pd.DataFrame(data)\n",
        "    \n",
        "    fi_df.sort_values(by=['feature_importance'], ascending=False,inplace=True)\n",
        "\n",
        "    plt.figure(figsize=(10,8))\n",
        "\n",
        "    sns.barplot(x=fi_df['feature_importance'], y=fi_df['feature_names'])\n",
        "\n",
        "    plt.title(model_type + ' Feature Importance')\n",
        "    plt.xlabel('Feature Importance')\n",
        "    plt.ylabel('Feature Names')"
      ],
      "id": "mR6tLX2msMkz",
      "execution_count": null,
      "outputs": []
    },
    {
      "cell_type": "code",
      "metadata": {
        "colab": {
          "base_uri": "https://localhost:8080/",
          "height": 513
        },
        "id": "wto01le5vCfw",
        "outputId": "1603a68c-f73b-4579-971e-1862f36697d5"
      },
      "source": [
        "plot_feature_importance(model_cat.get_feature_importance(),X_test.columns,'CATBOOST')"
      ],
      "id": "wto01le5vCfw",
      "execution_count": null,
      "outputs": [
        {
          "output_type": "display_data",
          "data": {
            "image/png": "[encoded data removed]",
            "text/plain": [
              "<Figure size 720x576 with 1 Axes>"
            ]
          },
          "metadata": {
            "tags": [],
            "needs_background": "light"
          }
        }
      ]
    },
    {
      "cell_type": "markdown",
      "metadata": {
        "id": "Tn98UVxcnorm"
      },
      "source": [
        "## submission 파일 불러오기"
      ],
      "id": "Tn98UVxcnorm"
    },
    {
      "cell_type": "code",
      "metadata": {
        "id": "greatest-centre"
      },
      "source": [
        "sub = pd.read_csv(path + 'sample_submission.csv')\n",
        "sub.iloc[:, 1:] = cat_pred_test"
      ],
      "id": "greatest-centre",
      "execution_count": null,
      "outputs": []
    },
    {
      "cell_type": "code",
      "metadata": {
        "id": "surgical-omaha",
        "colab": {
          "base_uri": "https://localhost:8080/",
          "height": 419
        },
        "outputId": "fd966f01-817a-4c29-f6a2-f5ee10b4d99b"
      },
      "source": [
        "sub"
      ],
      "id": "surgical-omaha",
      "execution_count": null,
      "outputs": [
        {
          "output_type": "execute_result",
          "data": {
            "text/html": [
              "<div>\n",
              "<style scoped>\n",
              "    .dataframe tbody tr th:only-of-type {\n",
              "        vertical-align: middle;\n",
              "    }\n",
              "\n",
              "    .dataframe tbody tr th {\n",
              "        vertical-align: top;\n",
              "    }\n",
              "\n",
              "    .dataframe thead th {\n",
              "        text-align: right;\n",
              "    }\n",
              "</style>\n",
              "<table border=\"1\" class=\"dataframe\">\n",
              "  <thead>\n",
              "    <tr style=\"text-align: right;\">\n",
              "      <th></th>\n",
              "      <th>index</th>\n",
              "      <th>0</th>\n",
              "      <th>1</th>\n",
              "      <th>2</th>\n",
              "    </tr>\n",
              "  </thead>\n",
              "  <tbody>\n",
              "    <tr>\n",
              "      <th>0</th>\n",
              "      <td>26457</td>\n",
              "      <td>0.119345</td>\n",
              "      <td>0.168064</td>\n",
              "      <td>0.712591</td>\n",
              "    </tr>\n",
              "    <tr>\n",
              "      <th>1</th>\n",
              "      <td>26458</td>\n",
              "      <td>0.349298</td>\n",
              "      <td>0.224439</td>\n",
              "      <td>0.426263</td>\n",
              "    </tr>\n",
              "    <tr>\n",
              "      <th>2</th>\n",
              "      <td>26459</td>\n",
              "      <td>0.037614</td>\n",
              "      <td>0.077957</td>\n",
              "      <td>0.884429</td>\n",
              "    </tr>\n",
              "    <tr>\n",
              "      <th>3</th>\n",
              "      <td>26460</td>\n",
              "      <td>0.058977</td>\n",
              "      <td>0.079748</td>\n",
              "      <td>0.861275</td>\n",
              "    </tr>\n",
              "    <tr>\n",
              "      <th>4</th>\n",
              "      <td>26461</td>\n",
              "      <td>0.086920</td>\n",
              "      <td>0.231940</td>\n",
              "      <td>0.681140</td>\n",
              "    </tr>\n",
              "    <tr>\n",
              "      <th>...</th>\n",
              "      <td>...</td>\n",
              "      <td>...</td>\n",
              "      <td>...</td>\n",
              "      <td>...</td>\n",
              "    </tr>\n",
              "    <tr>\n",
              "      <th>9995</th>\n",
              "      <td>36452</td>\n",
              "      <td>0.075421</td>\n",
              "      <td>0.213440</td>\n",
              "      <td>0.711139</td>\n",
              "    </tr>\n",
              "    <tr>\n",
              "      <th>9996</th>\n",
              "      <td>36453</td>\n",
              "      <td>0.336187</td>\n",
              "      <td>0.176527</td>\n",
              "      <td>0.487285</td>\n",
              "    </tr>\n",
              "    <tr>\n",
              "      <th>9997</th>\n",
              "      <td>36454</td>\n",
              "      <td>0.048357</td>\n",
              "      <td>0.110718</td>\n",
              "      <td>0.840925</td>\n",
              "    </tr>\n",
              "    <tr>\n",
              "      <th>9998</th>\n",
              "      <td>36455</td>\n",
              "      <td>0.136867</td>\n",
              "      <td>0.317899</td>\n",
              "      <td>0.545234</td>\n",
              "    </tr>\n",
              "    <tr>\n",
              "      <th>9999</th>\n",
              "      <td>36456</td>\n",
              "      <td>0.057622</td>\n",
              "      <td>0.452851</td>\n",
              "      <td>0.489528</td>\n",
              "    </tr>\n",
              "  </tbody>\n",
              "</table>\n",
              "<p>10000 rows × 4 columns</p>\n",
              "</div>"
            ],
            "text/plain": [
              "      index         0         1         2\n",
              "0     26457  0.119345  0.168064  0.712591\n",
              "1     26458  0.349298  0.224439  0.426263\n",
              "2     26459  0.037614  0.077957  0.884429\n",
              "3     26460  0.058977  0.079748  0.861275\n",
              "4     26461  0.086920  0.231940  0.681140\n",
              "...     ...       ...       ...       ...\n",
              "9995  36452  0.075421  0.213440  0.711139\n",
              "9996  36453  0.336187  0.176527  0.487285\n",
              "9997  36454  0.048357  0.110718  0.840925\n",
              "9998  36455  0.136867  0.317899  0.545234\n",
              "9999  36456  0.057622  0.452851  0.489528\n",
              "\n",
              "[10000 rows x 4 columns]"
            ]
          },
          "metadata": {
            "tags": []
          },
          "execution_count": 124
        }
      ]
    },
    {
      "cell_type": "markdown",
      "metadata": {
        "id": "3iZ1qWlink27"
      },
      "source": [
        "## submission 파일 저장"
      ],
      "id": "3iZ1qWlink27"
    },
    {
      "cell_type": "code",
      "metadata": {
        "id": "equal-weapon"
      },
      "source": [
        "sub.to_csv('submission0512_0.665942_fold13.csv', index=False)"
      ],
      "id": "equal-weapon",
      "execution_count": null,
      "outputs": []
    },
    {
      "cell_type": "code",
      "metadata": {
        "id": "spoken-blink"
      },
      "source": [
        ""
      ],
      "id": "spoken-blink",
      "execution_count": null,
      "outputs": []
    }
  ]
}