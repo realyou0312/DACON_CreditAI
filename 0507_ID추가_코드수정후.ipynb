{
  "nbformat": 4,
  "nbformat_minor": 5,
  "metadata": {
    "colab": {
      "name": "0507_ID추가_코드수정후",
      "provenance": [],
      "collapsed_sections": [],
      "include_colab_link": true
    },
    "kernelspec": {
      "display_name": "Python 3",
      "language": "python",
      "name": "python3"
    },
    "language_info": {
      "codemirror_mode": {
        "name": "ipython",
        "version": 3
      },
      "file_extension": ".py",
      "mimetype": "text/x-python",
      "name": "python",
      "nbconvert_exporter": "python",
      "pygments_lexer": "ipython3",
      "version": "3.7.10"
    },
    "varInspector": {
      "cols": {
        "lenName": 16,
        "lenType": 16,
        "lenVar": 40
      },
      "kernels_config": {
        "python": {
          "delete_cmd_postfix": "",
          "delete_cmd_prefix": "del ",
          "library": "var_list.py",
          "varRefreshCmd": "print(var_dic_list())"
        },
        "r": {
          "delete_cmd_postfix": ") ",
          "delete_cmd_prefix": "rm(",
          "library": "var_list.r",
          "varRefreshCmd": "cat(var_dic_list()) "
        }
      },
      "types_to_exclude": [
        "module",
        "function",
        "builtin_function_or_method",
        "instance",
        "_Feature"
      ],
      "window_display": false
    }
  },
  "cells": [
    {
      "cell_type": "markdown",
      "metadata": {
        "id": "view-in-github",
        "colab_type": "text"
      },
      "source": [
        "<a href=\"https://colab.research.google.com/github/realyou0312/DACON_CreditAI/blob/main/0507_ID%EC%B6%94%EA%B0%80_%EC%BD%94%EB%93%9C%EC%88%98%EC%A0%95%ED%9B%84.ipynb\" target=\"_parent\"><img src=\"https://colab.research.google.com/assets/colab-badge.svg\" alt=\"Open In Colab\"/></a>"
      ]
    },
    {
      "cell_type": "code",
      "metadata": {
        "colab": {
          "base_uri": "https://localhost:8080/"
        },
        "id": "yGTLj8birupV",
        "outputId": "4ce9bee2-da8a-492d-a2d4-529d5927436a"
      },
      "source": [
        "from google.colab import drive\n",
        "drive.mount('/content/drive')"
      ],
      "id": "yGTLj8birupV",
      "execution_count": 1,
      "outputs": [
        {
          "output_type": "stream",
          "text": [
            "Mounted at /content/drive\n"
          ],
          "name": "stdout"
        }
      ]
    },
    {
      "cell_type": "code",
      "metadata": {
        "colab": {
          "base_uri": "https://localhost:8080/"
        },
        "id": "U68I7zTXw_3b",
        "outputId": "befbd6b9-d472-4303-e035-46049d89f445"
      },
      "source": [
        "!pip install catboost\n",
        "!pip install category_encoders"
      ],
      "id": "U68I7zTXw_3b",
      "execution_count": 2,
      "outputs": [
        {
          "output_type": "stream",
          "text": [
            "Collecting catboost\n",
            "\u001b[?25l  Downloading https://files.pythonhosted.org/packages/47/80/8e9c57ec32dfed6ba2922bc5c96462cbf8596ce1a6f5de532ad1e43e53fe/catboost-0.25.1-cp37-none-manylinux1_x86_64.whl (67.3MB)\n",
            "\u001b[K     |████████████████████████████████| 67.3MB 84kB/s \n",
            "\u001b[?25hRequirement already satisfied: plotly in /usr/local/lib/python3.7/dist-packages (from catboost) (4.4.1)\n",
            "Requirement already satisfied: graphviz in /usr/local/lib/python3.7/dist-packages (from catboost) (0.10.1)\n",
            "Requirement already satisfied: six in /usr/local/lib/python3.7/dist-packages (from catboost) (1.15.0)\n",
            "Requirement already satisfied: scipy in /usr/local/lib/python3.7/dist-packages (from catboost) (1.4.1)\n",
            "Requirement already satisfied: numpy>=1.16.0 in /usr/local/lib/python3.7/dist-packages (from catboost) (1.19.5)\n",
            "Requirement already satisfied: matplotlib in /usr/local/lib/python3.7/dist-packages (from catboost) (3.2.2)\n",
            "Requirement already satisfied: pandas>=0.24.0 in /usr/local/lib/python3.7/dist-packages (from catboost) (1.1.5)\n",
            "Requirement already satisfied: retrying>=1.3.3 in /usr/local/lib/python3.7/dist-packages (from plotly->catboost) (1.3.3)\n",
            "Requirement already satisfied: kiwisolver>=1.0.1 in /usr/local/lib/python3.7/dist-packages (from matplotlib->catboost) (1.3.1)\n",
            "Requirement already satisfied: cycler>=0.10 in /usr/local/lib/python3.7/dist-packages (from matplotlib->catboost) (0.10.0)\n",
            "Requirement already satisfied: pyparsing!=2.0.4,!=2.1.2,!=2.1.6,>=2.0.1 in /usr/local/lib/python3.7/dist-packages (from matplotlib->catboost) (2.4.7)\n",
            "Requirement already satisfied: python-dateutil>=2.1 in /usr/local/lib/python3.7/dist-packages (from matplotlib->catboost) (2.8.1)\n",
            "Requirement already satisfied: pytz>=2017.2 in /usr/local/lib/python3.7/dist-packages (from pandas>=0.24.0->catboost) (2018.9)\n",
            "Installing collected packages: catboost\n",
            "Successfully installed catboost-0.25.1\n",
            "Collecting category_encoders\n",
            "\u001b[?25l  Downloading https://files.pythonhosted.org/packages/44/57/fcef41c248701ee62e8325026b90c432adea35555cbc870aff9cfba23727/category_encoders-2.2.2-py2.py3-none-any.whl (80kB)\n",
            "\u001b[K     |████████████████████████████████| 81kB 4.6MB/s \n",
            "\u001b[?25hRequirement already satisfied: scikit-learn>=0.20.0 in /usr/local/lib/python3.7/dist-packages (from category_encoders) (0.22.2.post1)\n",
            "Requirement already satisfied: pandas>=0.21.1 in /usr/local/lib/python3.7/dist-packages (from category_encoders) (1.1.5)\n",
            "Requirement already satisfied: scipy>=1.0.0 in /usr/local/lib/python3.7/dist-packages (from category_encoders) (1.4.1)\n",
            "Requirement already satisfied: statsmodels>=0.9.0 in /usr/local/lib/python3.7/dist-packages (from category_encoders) (0.10.2)\n",
            "Requirement already satisfied: numpy>=1.14.0 in /usr/local/lib/python3.7/dist-packages (from category_encoders) (1.19.5)\n",
            "Requirement already satisfied: patsy>=0.5.1 in /usr/local/lib/python3.7/dist-packages (from category_encoders) (0.5.1)\n",
            "Requirement already satisfied: joblib>=0.11 in /usr/local/lib/python3.7/dist-packages (from scikit-learn>=0.20.0->category_encoders) (1.0.1)\n",
            "Requirement already satisfied: python-dateutil>=2.7.3 in /usr/local/lib/python3.7/dist-packages (from pandas>=0.21.1->category_encoders) (2.8.1)\n",
            "Requirement already satisfied: pytz>=2017.2 in /usr/local/lib/python3.7/dist-packages (from pandas>=0.21.1->category_encoders) (2018.9)\n",
            "Requirement already satisfied: six in /usr/local/lib/python3.7/dist-packages (from patsy>=0.5.1->category_encoders) (1.15.0)\n",
            "Installing collected packages: category-encoders\n",
            "Successfully installed category-encoders-2.2.2\n"
          ],
          "name": "stdout"
        }
      ]
    },
    {
      "cell_type": "code",
      "metadata": {
        "id": "present-damage"
      },
      "source": [
        "import numpy as np\n",
        "import pandas as pd\n",
        "import seaborn as sns\n",
        "import matplotlib.pyplot as plt\n",
        "import warnings, random\n",
        "warnings.filterwarnings(action='ignore')\n",
        "\n",
        "\n",
        "from sklearn.ensemble import RandomForestClassifier\n",
        "from sklearn.metrics import classification_report, log_loss, accuracy_score, confusion_matrix\n",
        "from sklearn.preprocessing import LabelEncoder, StandardScaler\n",
        "from sklearn.model_selection import train_test_split, KFold, StratifiedKFold\n",
        "\n",
        "from xgboost import XGBClassifier\n",
        "from lightgbm import LGBMClassifier\n",
        "import lightgbm as lgb\n",
        "\n",
        "from sklearn.cluster import KMeans\n",
        "from catboost import CatBoostClassifier, Pool\n",
        "\n",
        "# import optuna\n",
        "# from optuna import Trial\n",
        "# from optuna.samplers import TPESampler"
      ],
      "id": "present-damage",
      "execution_count": 164,
      "outputs": []
    },
    {
      "cell_type": "code",
      "metadata": {
        "id": "MjdahwTmB8h7"
      },
      "source": [
        "path = '/content/drive/MyDrive/DACON_Credit/'\n",
        "train = pd.read_csv(path + 'train.csv')\n",
        "test = pd.read_csv(path + 'test.csv')"
      ],
      "id": "MjdahwTmB8h7",
      "execution_count": 165,
      "outputs": []
    },
    {
      "cell_type": "code",
      "metadata": {
        "id": "impaired-decrease"
      },
      "source": [
        "train.drop(['index', 'FLAG_MOBIL'], axis=1, inplace=True)\n",
        "train.fillna('NaN', inplace=True) \n",
        "\n",
        "test.drop(['index', 'FLAG_MOBIL'], axis=1, inplace=True)\n",
        "test.fillna('NaN', inplace=True)\n"
      ],
      "id": "impaired-decrease",
      "execution_count": 166,
      "outputs": []
    },
    {
      "cell_type": "code",
      "metadata": {
        "id": "wooden-authorization"
      },
      "source": [
        "train[\"DAYS_EMPLOYED\"] = train[\"DAYS_EMPLOYED\"].map(lambda x: 0 if x > 0 else x)\n",
        "test[\"DAYS_EMPLOYED\"] = test[\"DAYS_EMPLOYED\"].map(lambda x: 0 if x > 0 else x)"
      ],
      "id": "wooden-authorization",
      "execution_count": 167,
      "outputs": []
    },
    {
      "cell_type": "code",
      "metadata": {
        "id": "tropical-practice"
      },
      "source": [
        "train = train[(train['family_size'] <= 7)]\n",
        "# train.set_index('index', inplace=True)\n",
        "train = train.reset_index(drop=True)"
      ],
      "id": "tropical-practice",
      "execution_count": 168,
      "outputs": []
    },
    {
      "cell_type": "code",
      "metadata": {
        "id": "fifty-voltage"
      },
      "source": [
        "# train_corr = train.corr()\n",
        "# ax = plt.subplots(figsize=(30, 25))\n",
        "# ax = sns.heatmap(train_corr, center=0, annot = True, linewidths=.5)"
      ],
      "id": "fifty-voltage",
      "execution_count": 169,
      "outputs": []
    },
    {
      "cell_type": "markdown",
      "metadata": {
        "id": "above-oasis"
      },
      "source": [
        "### 음수값 -> 양수 변환"
      ],
      "id": "above-oasis"
    },
    {
      "cell_type": "code",
      "metadata": {
        "id": "oriental-superior"
      },
      "source": [
        "feats = ['DAYS_BIRTH', 'begin_month', 'DAYS_EMPLOYED']\n",
        "for feat in feats:\n",
        "    train[feat]=np.abs(train[feat])\n",
        "    test[feat]=np.abs(test[feat])"
      ],
      "id": "oriental-superior",
      "execution_count": 170,
      "outputs": []
    },
    {
      "cell_type": "code",
      "metadata": {
        "id": "aggregate-wyoming"
      },
      "source": [
        "# fig, axes = plt.subplots(1, 3, figsize=(12, 4))\n",
        "# train['begin_month'][train['credit']==0].hist(bins=25, ax=axes[0])\n",
        "# train['begin_month'][train['credit']==1].hist(bins=25, ax=axes[1])\n",
        "# train['begin_month'][train['credit']==2].hist(bins=25, ax=axes[2])\n"
      ],
      "id": "aggregate-wyoming",
      "execution_count": 171,
      "outputs": []
    },
    {
      "cell_type": "code",
      "metadata": {
        "id": "split-attraction",
        "scrolled": true
      },
      "source": [
        "# train['begin_month_level'] = pd.qcut(train['begin_month'], q=8, labels=['A','B','C','D','E','F','G','H'])\n",
        "# test['begin_month_level'] = pd.qcut(test['begin_month'], q=8, labels=['A','B','C','D','E','F','G','H'])\n",
        "# train['begin_month_level'] = train['begin_month_level'].astype('object')"
      ],
      "id": "split-attraction",
      "execution_count": 172,
      "outputs": []
    },
    {
      "cell_type": "markdown",
      "metadata": {
        "id": "smooth-guyana"
      },
      "source": [
        "### Feature Engineering"
      ],
      "id": "smooth-guyana"
    },
    {
      "cell_type": "code",
      "metadata": {
        "id": "focal-subdivision"
      },
      "source": [
        "for df in [train,test]:\n",
        "    #df['DAYS_BIRTH_DAYS_EMPLOYED_ratio'] = np.floor(df['DAYS_EMPLOYED'] / df['DAYS_BIRTH'])\n",
        "    # df['income_total_DAYS_BIRTH_ratio'] = np.floor(df['income_total'] / df['DAYS_BIRTH'])\n",
        "    #df['income_total_DAYS_EMPLOYED_ratio'] = np.floor(df['income_total'] / df['DAYS_EMPLOYED'])\n",
        "    #df['parents'] = df['family_size'] - df['child_num']\n",
        "    df['before_EMPLOYED'] = df['DAYS_BIRTH'] - df['DAYS_EMPLOYED']\n",
        "    df['income_total_workingday_ratio'] = df['income_total'] / df['before_EMPLOYED']\n",
        "    \n",
        "    df[\"Age\"] = df[\"DAYS_BIRTH\"] // 365\n",
        "    df[\"DAYS_BIRTH_m\"] = np.floor(df[\"DAYS_BIRTH\"] / 30) - ((np.floor(df[\"DAYS_BIRTH\"] / 30) / 12).astype(int) * 12)\n",
        "    df[\"DAYS_BIRTH_w\"] = np.floor(df[\"DAYS_BIRTH\"] / 7) - ((np.floor(df[\"DAYS_BIRTH\"] / 7) / 4).astype(int) * 4)\n",
        "\n",
        "    \n",
        "    df[\"before_EMPLOYED_m\"] = np.floor(df[\"before_EMPLOYED\"] / 30) - ((np.floor(df[\"before_EMPLOYED\"] / 30) / 12).astype(int) * 12)\n",
        "    df[\"before_EMPLOYED_w\"] = np.floor(df[\"before_EMPLOYED\"] / 7) - ((np.floor(df[\"before_EMPLOYED\"] / 7) / 4).astype(int) * 4)\n",
        "    \n",
        "    df[\"DAYS_EMPLOYED_m\"] = np.floor(df[\"DAYS_EMPLOYED\"] / 30) - ((np.floor(df[\"DAYS_EMPLOYED\"] / 30) / 12).astype(int) * 12)\n",
        "    df[\"DAYS_EMPLOYED_w\"] = np.floor(df[\"DAYS_EMPLOYED\"] / 7) - ((np.floor(df[\"DAYS_EMPLOYED\"] / 7) / 4).astype(int) * 4)\n",
        "    df[\"EMPLOYED\"] = df[\"DAYS_EMPLOYED\"] // 365\n",
        "#     df['EMPLOYED_begin_month_ratio'] = np.floor(df['begin_month'] / (df[\"DAYS_EMPLOYED\"]) / 30)\n",
        "\n",
        "    df['ability'] = df['income_total'] / (df['DAYS_BIRTH'] + df['DAYS_EMPLOYED'])\n",
        "\n",
        "    df['income_mean'] = df['income_total'] / df['family_size']\n",
        "    \n",
        "    df['GCR'] = (df['gender'].astype(str) + \"_\" + df['car'].astype(str) + \"_\" + df['reality'].astype(str))\n"
      ],
      "id": "focal-subdivision",
      "execution_count": 173,
      "outputs": []
    },
    {
      "cell_type": "code",
      "metadata": {
        "id": "8GsIgTFLN1Wh"
      },
      "source": [
        "train['ID'] = \\\n",
        "train['child_num'].astype(str) + '_' + train['income_total'].astype(str) + '_' +\\\n",
        "train['DAYS_BIRTH'].astype(str) + '_' + train['DAYS_EMPLOYED'].astype(str) + '_' +\\\n",
        "train['work_phone'].astype(str) + '_' + train['phone'].astype(str) + '_' +\\\n",
        "train['email'].astype(str) + '_' + train['family_size'].astype(str) + '_' +\\\n",
        "train['gender'].astype(str) + '_' + train['car'].astype(str) + '_' +\\\n",
        "train['reality'].astype(str) + '_' + train['income_type'].astype(str) + '_' +\\\n",
        "train['edu_type'].astype(str) + '_' + train['family_type'].astype(str) + '_' +\\\n",
        "train['house_type'].astype(str) + '_' + train['occyp_type'].astype(str)\n",
        "\n",
        "test['ID'] = \\\n",
        "test['child_num'].astype(str) + '_' + test['income_total'].astype(str) + '_' +\\\n",
        "test['DAYS_BIRTH'].astype(str) + '_' + test['DAYS_EMPLOYED'].astype(str) + '_' +\\\n",
        "test['work_phone'].astype(str) + '_' + test['phone'].astype(str) + '_' +\\\n",
        "test['email'].astype(str) + '_' + test['family_size'].astype(str) + '_' +\\\n",
        "test['gender'].astype(str) + '_' + test['car'].astype(str) + '_' +\\\n",
        "test['reality'].astype(str) + '_' + test['income_type'].astype(str) + '_' +\\\n",
        "test['edu_type'].astype(str) + '_' + test['family_type'].astype(str) + '_' +\\\n",
        "test['house_type'].astype(str) + '_' + test['occyp_type'].astype(str)"
      ],
      "id": "8GsIgTFLN1Wh",
      "execution_count": 174,
      "outputs": []
    },
    {
      "cell_type": "code",
      "metadata": {
        "id": "domestic-singles"
      },
      "source": [
        "# for df in [train,test]:\n",
        "#     df[\"contact\"] = df[\"email\"].astype(str)+df[\"phone\"].astype(str)+ df[\"work_phone\"].astype(str)\n",
        "#     df[\"info\"] = df[\"gender\"].astype(str)+df[\"occyp_type\"].astype(str)+ df[\"edu_type\"].astype(str)\n",
        "# ID_columns = [\"contact\", \"info\"]\n",
        "# for feat in ID_columns:\n",
        "#     order= train[feat][train[\"credit\"]==2].value_counts(normalize= True, sort= True).index\n",
        "#     mapping = {}\n",
        "#     for index, value in enumerate(order):\n",
        "#         mapping[value]= index\n",
        "#     train[feat] = train[feat].map(mapping)\n",
        "#     test[feat] = test[feat].map(mapping)"
      ],
      "id": "domestic-singles",
      "execution_count": 94,
      "outputs": []
    },
    {
      "cell_type": "code",
      "metadata": {
        "id": "horizontal-christian"
      },
      "source": [
        "# for df in [train,test]:\n",
        "    \n",
        "#    df[\"contact\"] = df[\"email\"].astype(str) + '-' + df[\"phone\"].astype(str) + '-' + df[\"work_phone\"].astype(str)\n"
      ],
      "id": "horizontal-christian",
      "execution_count": 62,
      "outputs": []
    },
    {
      "cell_type": "code",
      "metadata": {
        "id": "neural-supervision"
      },
      "source": [
        "#train.sort_values(by=['index'], axis=0, inplace=True, ignore_index=True)\n",
        "#test.sort_values(by=['index'], axis=0, inplace=True, ignore_index=True)"
      ],
      "id": "neural-supervision",
      "execution_count": 15,
      "outputs": []
    },
    {
      "cell_type": "code",
      "metadata": {
        "id": "stainless-papua"
      },
      "source": [
        "#train.drop(['ID'], axis=1, inplace=True)\n",
        "#test.drop(['ID'], axis=1, inplace=True)"
      ],
      "id": "stainless-papua",
      "execution_count": 16,
      "outputs": []
    },
    {
      "cell_type": "code",
      "metadata": {
        "id": "reported-valuable"
      },
      "source": [
        "#new_data=pd.DataFrame(train.groupby([\"ID\"])[\"begin_month\"].agg(min))\n",
        "#new_data"
      ],
      "id": "reported-valuable",
      "execution_count": 17,
      "outputs": []
    },
    {
      "cell_type": "markdown",
      "metadata": {
        "id": "frequent-organization"
      },
      "source": [
        "### 사용한, 중요도 낮은 컬럼 삭제"
      ],
      "id": "frequent-organization"
    },
    {
      "cell_type": "code",
      "metadata": {
        "id": "naked-shaft"
      },
      "source": [
        "del_cols = [\n",
        "     'gender',\n",
        "     'car',\n",
        "     'reality',\n",
        "    'child_num',\n",
        "    'DAYS_BIRTH',\n",
        "    'DAYS_EMPLOYED',\n",
        "#    'email',\n",
        "#    'parents',\n",
        "#     'phone',\n",
        "#     'work_phone'\n",
        "#     'before_EMPLOYED',\n",
        "#     'ability',\n",
        "    #'income_type', 'edu_type', 'family_size', 'phone', 'house_type', 'work_phone', \n",
        "#     'G_C_R'\n",
        "\n",
        "]\n",
        "\n",
        "train.drop(del_cols, axis=1, inplace=True)\n",
        "test.drop(del_cols, axis=1, inplace=True)"
      ],
      "id": "naked-shaft",
      "execution_count": 175,
      "outputs": []
    },
    {
      "cell_type": "code",
      "metadata": {
        "colab": {
          "base_uri": "https://localhost:8080/"
        },
        "id": "aquatic-witness",
        "outputId": "8baff2b0-6a85-42f1-8293-70d6737fdbfb"
      },
      "source": [
        "numerical_feats = train.dtypes[train.dtypes != \"object\"].index.tolist()\n",
        "numerical_feats.remove('credit')\n",
        "# numerical_feats.remove('ID')\n",
        "print(\"Number of Numerical features: \", len(numerical_feats))\n",
        "\n",
        "categorical_feats = train.dtypes[train.dtypes == \"object\"].index.tolist()\n",
        "print(\"Number of Categorical features: \", len(categorical_feats))\n",
        "\n",
        "total_feats = numerical_feats + categorical_feats"
      ],
      "id": "aquatic-witness",
      "execution_count": 176,
      "outputs": [
        {
          "output_type": "stream",
          "text": [
            "Number of Numerical features:  18\n",
            "Number of Categorical features:  7\n"
          ],
          "name": "stdout"
        }
      ]
    },
    {
      "cell_type": "markdown",
      "metadata": {
        "id": "appointed-scientist"
      },
      "source": [
        "## LabelEncoding, Scaling"
      ],
      "id": "appointed-scientist"
    },
    {
      "cell_type": "code",
      "metadata": {
        "colab": {
          "base_uri": "https://localhost:8080/"
        },
        "id": "worst-confidence",
        "outputId": "065c107a-bdde-49c3-d51c-a232cada9c5d"
      },
      "source": [
        "categorical_feats"
      ],
      "id": "worst-confidence",
      "execution_count": 177,
      "outputs": [
        {
          "output_type": "execute_result",
          "data": {
            "text/plain": [
              "['income_type',\n",
              " 'edu_type',\n",
              " 'family_type',\n",
              " 'house_type',\n",
              " 'occyp_type',\n",
              " 'GCR',\n",
              " 'ID']"
            ]
          },
          "metadata": {
            "tags": []
          },
          "execution_count": 177
        }
      ]
    },
    {
      "cell_type": "code",
      "metadata": {
        "id": "centered-liquid"
      },
      "source": [
        "# for df in [train,test]:\n",
        "# #     df['gender'] = df.groupby(['gender'])['index'].transform('count')\n",
        "# #     df['car'] = df.groupby(['car'])['index'].transform('count')\n",
        "# #     df['reality'] = df.groupby(['reality'])['index'].transform('count')\n",
        "# #     df['phone'] = df.groupby(['phone'])['index'].transform('count')\n",
        "# #     df['work_phone'] = df.groupby(['work_phone'])['index'].transform('count')\n",
        "# #     df['email'] = df.groupby(['email'])['index'].transform('count')\n",
        "#     df['ID'] = df.groupby(['ID'])['index'].transform('count')\n",
        "#     df['GCR'] = df.groupby(['GCR'])['index'].transform('count')\n",
        "#     df['income_type'] = df.groupby(['income_type'])['index'].transform('count')\n",
        "#     df['edu_type'] = df.groupby(['edu_type'])['index'].transform('count')\n",
        "#     df['family_type'] = df.groupby(['family_type'])['index'].transform('count')\n",
        "#     df['house_type'] = df.groupby(['house_type'])['index'].transform('count')\n",
        "#     df['occyp_type'] = df.groupby(['occyp_type'])['index'].transform('count')\n"
      ],
      "id": "centered-liquid",
      "execution_count": 178,
      "outputs": []
    },
    {
      "cell_type": "code",
      "metadata": {
        "id": "stopped-elimination"
      },
      "source": [
        "for df in [train,test]:\n",
        "    df['income_total'] = np.log1p(1+df['income_total'])\n",
        "    \n"
      ],
      "id": "stopped-elimination",
      "execution_count": 179,
      "outputs": []
    },
    {
      "cell_type": "code",
      "metadata": {
        "id": "impossible-hardwood"
      },
      "source": [
        "# for feat in categorical_feats:\n",
        "#     encoder = LabelEncoder()\n",
        "#     train[feat] = encoder.fit_transform(train[feat])\n",
        "#     test[feat] = encoder.transform(test[feat])"
      ],
      "id": "impossible-hardwood",
      "execution_count": 180,
      "outputs": []
    },
    {
      "cell_type": "code",
      "metadata": {
        "id": "2JBRmGb5ADLF"
      },
      "source": [
        "from category_encoders.ordinal import OrdinalEncoder\n",
        "encoder = OrdinalEncoder(categorical_feats)\n",
        "train[categorical_feats] = encoder.fit_transform(train[categorical_feats], train['credit'])\n",
        "test[categorical_feats] = encoder.transform(test[categorical_feats])\n",
        "\n"
      ],
      "id": "2JBRmGb5ADLF",
      "execution_count": 181,
      "outputs": []
    },
    {
      "cell_type": "code",
      "metadata": {
        "id": "negative-seven"
      },
      "source": [
        "kmeans_train = train.drop(['credit'], axis=1)\n",
        "kmeans = KMeans(n_clusters=36, random_state=42).fit(kmeans_train)\n",
        "train['kmeans_clusters'] = kmeans.predict(kmeans_train)\n",
        "test['kmeans_clusters'] = kmeans.predict(test)\n",
        "\n",
        "scaler = StandardScaler()\n",
        "kmeans_train = scaler.fit_transform(kmeans_train)"
      ],
      "id": "negative-seven",
      "execution_count": 182,
      "outputs": []
    },
    {
      "cell_type": "code",
      "metadata": {
        "id": "short-smith"
      },
      "source": [
        "#numerical_feats.remove('begin_month')\n",
        "#numerical_feats.remove('age_groups')\n",
        "numerical_feats.remove('income_total')\n",
        "scaler = StandardScaler()\n",
        "train[numerical_feats] = scaler.fit_transform(train[numerical_feats])\n",
        "test[numerical_feats] = scaler.transform(test[numerical_feats])\n"
      ],
      "id": "short-smith",
      "execution_count": 183,
      "outputs": []
    },
    {
      "cell_type": "code",
      "metadata": {
        "id": "_kCBsBjsan9D"
      },
      "source": [
        "# fig, ax = plt.subplots(figsize=(18, 15))\n",
        "# sns.scatterplot(x=\"EMPLOYED\", y=\"income_total\", hue=\"\", data=train)\n",
        "# plt.show()"
      ],
      "id": "_kCBsBjsan9D",
      "execution_count": 27,
      "outputs": []
    },
    {
      "cell_type": "code",
      "metadata": {
        "id": "24yCI2t3a4_7"
      },
      "source": [
        "\n",
        "# fig, ax = plt.subplots(figsize=(18, 15))\n",
        "# sns.histplot(train[\"income_total\"], kde=True)\n",
        "# plt.show()"
      ],
      "id": "24yCI2t3a4_7",
      "execution_count": 28,
      "outputs": []
    },
    {
      "cell_type": "markdown",
      "metadata": {
        "id": "handed-boundary"
      },
      "source": [
        "## Modeling"
      ],
      "id": "handed-boundary"
    },
    {
      "cell_type": "code",
      "metadata": {
        "id": "imposed-weekend"
      },
      "source": [
        "n_est = 2000\n",
        "seed = 42\n",
        "n_fold = 10\n",
        "n_class = 3\n",
        "\n",
        "target = 'credit'\n",
        "X = train.drop(target, axis=1)\n",
        "y = train[target]\n",
        "X_test = test"
      ],
      "id": "imposed-weekend",
      "execution_count": 184,
      "outputs": []
    },
    {
      "cell_type": "code",
      "metadata": {
        "id": "failing-recommendation"
      },
      "source": [
        "lgb_params = {\n",
        "                    'objective':'multiclass',\n",
        "                    'num_class': n_class,\n",
        "                    'boosting_type':'gbdt',\n",
        "                    'metric':'multi_logloss',\n",
        "                    'n_jobs':-1,\n",
        "                    'learning_rate':0.02,\n",
        "                    'num_leaves': 128,\n",
        "                    'max_depth':15,\n",
        "                    'tree_learner':'serial',\n",
        "                    \"min_child_weight\": 0.01,\n",
        "                    'colsample_bytree': 0.7,\n",
        "                    'subsample_freq':1,\n",
        "                    'subsample':0.5,\n",
        "                    'n_estimators':n_est,\n",
        "                    'max_bin':800,\n",
        "                    'verbose':-1,\n",
        "                    'seed': seed,\n",
        "                    #'early_stopping_rounds':300, \n",
        "                }\n"
      ],
      "id": "failing-recommendation",
      "execution_count": 185,
      "outputs": []
    },
    {
      "cell_type": "markdown",
      "metadata": {
        "id": "featured-welcome"
      },
      "source": [
        "### Model : LGBM"
      ],
      "id": "featured-welcome"
    },
    {
      "cell_type": "code",
      "metadata": {
        "id": "olive-estate",
        "colab": {
          "base_uri": "https://localhost:8080/"
        },
        "outputId": "9b0d1f52-636d-4e5b-d355-52d443cd6a25"
      },
      "source": [
        "skfold = StratifiedKFold(n_splits=n_fold, shuffle=True, random_state=seed)\n",
        "folds=[]\n",
        "for train_idx, valid_idx in skfold.split(X, y):\n",
        "        folds.append((train_idx, valid_idx))\n",
        "\n",
        "\n",
        "lgb_pred = np.zeros((X.shape[0], n_class), dtype=float)\n",
        "lgb_pred_test = np.zeros((X_test.shape[0], n_class), dtype=float)\n",
        "for fold in range(n_fold):\n",
        "  print(f\"----------------- Fold {fold} -----------------\\n\")\n",
        "  train_idx, valid_idx = folds[fold]\n",
        "  X_train, X_valid, y_train, y_valid = X.iloc[train_idx], X.iloc[valid_idx], y[train_idx], y[valid_idx]\n",
        "  model_lgbm = LGBMClassifier(**lgb_params)\n",
        "  model_lgbm.fit(X_train, y_train,\n",
        "            eval_set=[(X_train, y_train), (X_valid, y_valid)],\n",
        "            early_stopping_rounds=100,\n",
        "            verbose=100,)\n",
        "  lgb_pred[valid_idx] = model_lgbm.predict_proba(X_valid)\n",
        "  lgb_pred_test += model_lgbm.predict_proba(X_test) / n_fold\n",
        "    \n",
        "\n",
        "print(f'\\tLog Loss: {log_loss(y, lgb_pred):.6f}')"
      ],
      "id": "olive-estate",
      "execution_count": 186,
      "outputs": [
        {
          "output_type": "stream",
          "text": [
            "----------------- Fold 0 -----------------\n",
            "\n",
            "Training until validation scores don't improve for 100 rounds.\n",
            "[100]\ttraining's multi_logloss: 0.68126\tvalid_1's multi_logloss: 0.753879\n",
            "[200]\ttraining's multi_logloss: 0.587037\tvalid_1's multi_logloss: 0.713006\n",
            "[300]\ttraining's multi_logloss: 0.523448\tvalid_1's multi_logloss: 0.693302\n",
            "[400]\ttraining's multi_logloss: 0.474998\tvalid_1's multi_logloss: 0.68223\n",
            "[500]\ttraining's multi_logloss: 0.435578\tvalid_1's multi_logloss: 0.676858\n",
            "[600]\ttraining's multi_logloss: 0.403314\tvalid_1's multi_logloss: 0.674677\n",
            "Early stopping, best iteration is:\n",
            "[594]\ttraining's multi_logloss: 0.40517\tvalid_1's multi_logloss: 0.674378\n",
            "----------------- Fold 1 -----------------\n",
            "\n",
            "Training until validation scores don't improve for 100 rounds.\n",
            "[100]\ttraining's multi_logloss: 0.680737\tvalid_1's multi_logloss: 0.76317\n",
            "[200]\ttraining's multi_logloss: 0.586304\tvalid_1's multi_logloss: 0.724271\n",
            "[300]\ttraining's multi_logloss: 0.522932\tvalid_1's multi_logloss: 0.704033\n",
            "[400]\ttraining's multi_logloss: 0.474315\tvalid_1's multi_logloss: 0.692691\n",
            "[500]\ttraining's multi_logloss: 0.434946\tvalid_1's multi_logloss: 0.685856\n",
            "[600]\ttraining's multi_logloss: 0.402085\tvalid_1's multi_logloss: 0.683834\n",
            "[700]\ttraining's multi_logloss: 0.374237\tvalid_1's multi_logloss: 0.683577\n",
            "Early stopping, best iteration is:\n",
            "[667]\ttraining's multi_logloss: 0.382905\tvalid_1's multi_logloss: 0.683194\n",
            "----------------- Fold 2 -----------------\n",
            "\n",
            "Training until validation scores don't improve for 100 rounds.\n",
            "[100]\ttraining's multi_logloss: 0.680694\tvalid_1's multi_logloss: 0.758366\n",
            "[200]\ttraining's multi_logloss: 0.586106\tvalid_1's multi_logloss: 0.718781\n",
            "[300]\ttraining's multi_logloss: 0.523046\tvalid_1's multi_logloss: 0.700468\n",
            "[400]\ttraining's multi_logloss: 0.475088\tvalid_1's multi_logloss: 0.69115\n",
            "[500]\ttraining's multi_logloss: 0.435819\tvalid_1's multi_logloss: 0.687456\n",
            "[600]\ttraining's multi_logloss: 0.403123\tvalid_1's multi_logloss: 0.687173\n",
            "[700]\ttraining's multi_logloss: 0.375252\tvalid_1's multi_logloss: 0.688257\n",
            "Early stopping, best iteration is:\n",
            "[638]\ttraining's multi_logloss: 0.39209\tvalid_1's multi_logloss: 0.686647\n",
            "----------------- Fold 3 -----------------\n",
            "\n",
            "Training until validation scores don't improve for 100 rounds.\n",
            "[100]\ttraining's multi_logloss: 0.679322\tvalid_1's multi_logloss: 0.759469\n",
            "[200]\ttraining's multi_logloss: 0.58396\tvalid_1's multi_logloss: 0.724153\n",
            "[300]\ttraining's multi_logloss: 0.520362\tvalid_1's multi_logloss: 0.707429\n",
            "[400]\ttraining's multi_logloss: 0.471732\tvalid_1's multi_logloss: 0.699174\n",
            "[500]\ttraining's multi_logloss: 0.432602\tvalid_1's multi_logloss: 0.695862\n",
            "[600]\ttraining's multi_logloss: 0.400537\tvalid_1's multi_logloss: 0.696305\n",
            "Early stopping, best iteration is:\n",
            "[542]\ttraining's multi_logloss: 0.418261\tvalid_1's multi_logloss: 0.695322\n",
            "----------------- Fold 4 -----------------\n",
            "\n",
            "Training until validation scores don't improve for 100 rounds.\n",
            "[100]\ttraining's multi_logloss: 0.681237\tvalid_1's multi_logloss: 0.757433\n",
            "[200]\ttraining's multi_logloss: 0.587397\tvalid_1's multi_logloss: 0.716999\n",
            "[300]\ttraining's multi_logloss: 0.523494\tvalid_1's multi_logloss: 0.697432\n",
            "[400]\ttraining's multi_logloss: 0.474675\tvalid_1's multi_logloss: 0.686856\n",
            "[500]\ttraining's multi_logloss: 0.435786\tvalid_1's multi_logloss: 0.682966\n",
            "[600]\ttraining's multi_logloss: 0.403157\tvalid_1's multi_logloss: 0.681328\n",
            "Early stopping, best iteration is:\n",
            "[551]\ttraining's multi_logloss: 0.418362\tvalid_1's multi_logloss: 0.680756\n",
            "----------------- Fold 5 -----------------\n",
            "\n",
            "Training until validation scores don't improve for 100 rounds.\n",
            "[100]\ttraining's multi_logloss: 0.679417\tvalid_1's multi_logloss: 0.764961\n",
            "[200]\ttraining's multi_logloss: 0.58446\tvalid_1's multi_logloss: 0.731354\n",
            "[300]\ttraining's multi_logloss: 0.520574\tvalid_1's multi_logloss: 0.717503\n",
            "[400]\ttraining's multi_logloss: 0.471388\tvalid_1's multi_logloss: 0.710632\n",
            "[500]\ttraining's multi_logloss: 0.432193\tvalid_1's multi_logloss: 0.708726\n",
            "Early stopping, best iteration is:\n",
            "[496]\ttraining's multi_logloss: 0.433632\tvalid_1's multi_logloss: 0.70868\n",
            "----------------- Fold 6 -----------------\n",
            "\n",
            "Training until validation scores don't improve for 100 rounds.\n",
            "[100]\ttraining's multi_logloss: 0.681\tvalid_1's multi_logloss: 0.760611\n",
            "[200]\ttraining's multi_logloss: 0.586399\tvalid_1's multi_logloss: 0.721698\n",
            "[300]\ttraining's multi_logloss: 0.522507\tvalid_1's multi_logloss: 0.701736\n",
            "[400]\ttraining's multi_logloss: 0.473676\tvalid_1's multi_logloss: 0.692506\n",
            "[500]\ttraining's multi_logloss: 0.434894\tvalid_1's multi_logloss: 0.687779\n",
            "[600]\ttraining's multi_logloss: 0.402708\tvalid_1's multi_logloss: 0.686586\n",
            "[700]\ttraining's multi_logloss: 0.374736\tvalid_1's multi_logloss: 0.68706\n",
            "Early stopping, best iteration is:\n",
            "[638]\ttraining's multi_logloss: 0.391443\tvalid_1's multi_logloss: 0.686333\n",
            "----------------- Fold 7 -----------------\n",
            "\n",
            "Training until validation scores don't improve for 100 rounds.\n",
            "[100]\ttraining's multi_logloss: 0.680581\tvalid_1's multi_logloss: 0.761985\n",
            "[200]\ttraining's multi_logloss: 0.585575\tvalid_1's multi_logloss: 0.725261\n",
            "[300]\ttraining's multi_logloss: 0.521381\tvalid_1's multi_logloss: 0.707708\n",
            "[400]\ttraining's multi_logloss: 0.473125\tvalid_1's multi_logloss: 0.70053\n",
            "[500]\ttraining's multi_logloss: 0.43412\tvalid_1's multi_logloss: 0.696996\n",
            "[600]\ttraining's multi_logloss: 0.402002\tvalid_1's multi_logloss: 0.69626\n",
            "Early stopping, best iteration is:\n",
            "[563]\ttraining's multi_logloss: 0.413306\tvalid_1's multi_logloss: 0.695779\n",
            "----------------- Fold 8 -----------------\n",
            "\n",
            "Training until validation scores don't improve for 100 rounds.\n",
            "[100]\ttraining's multi_logloss: 0.679895\tvalid_1's multi_logloss: 0.761764\n",
            "[200]\ttraining's multi_logloss: 0.585357\tvalid_1's multi_logloss: 0.724422\n",
            "[300]\ttraining's multi_logloss: 0.521574\tvalid_1's multi_logloss: 0.706534\n",
            "[400]\ttraining's multi_logloss: 0.47317\tvalid_1's multi_logloss: 0.698819\n",
            "[500]\ttraining's multi_logloss: 0.434033\tvalid_1's multi_logloss: 0.696742\n",
            "Early stopping, best iteration is:\n",
            "[486]\ttraining's multi_logloss: 0.439141\tvalid_1's multi_logloss: 0.696611\n",
            "----------------- Fold 9 -----------------\n",
            "\n",
            "Training until validation scores don't improve for 100 rounds.\n",
            "[100]\ttraining's multi_logloss: 0.6801\tvalid_1's multi_logloss: 0.753662\n",
            "[200]\ttraining's multi_logloss: 0.585397\tvalid_1's multi_logloss: 0.715615\n",
            "[300]\ttraining's multi_logloss: 0.520637\tvalid_1's multi_logloss: 0.697976\n",
            "[400]\ttraining's multi_logloss: 0.472247\tvalid_1's multi_logloss: 0.691514\n",
            "[500]\ttraining's multi_logloss: 0.432683\tvalid_1's multi_logloss: 0.688939\n",
            "Early stopping, best iteration is:\n",
            "[495]\ttraining's multi_logloss: 0.434511\tvalid_1's multi_logloss: 0.688705\n",
            "\tLog Loss: 0.689640\n"
          ],
          "name": "stdout"
        }
      ]
    },
    {
      "cell_type": "code",
      "metadata": {
        "id": "chief-anchor",
        "colab": {
          "base_uri": "https://localhost:8080/",
          "height": 422
        },
        "outputId": "5e04b712-0107-42ba-eeea-c7a3a2fe2d36"
      },
      "source": [
        "from lightgbm import plot_importance\n",
        "import matplotlib.pyplot as plt\n",
        "%matplotlib inline\n",
        "\n",
        "\n",
        "f, ax = plt.subplots(figsize=(6, 6))\n",
        "plot_importance(model_lgbm, ax=ax, max_num_features=len(X_test.columns))\n",
        "#plt.savefig('Feature importance_0507.png')"
      ],
      "id": "chief-anchor",
      "execution_count": 187,
      "outputs": [
        {
          "output_type": "execute_result",
          "data": {
            "text/plain": [
              "<matplotlib.axes._subplots.AxesSubplot at 0x7f62c6e64ed0>"
            ]
          },
          "metadata": {
            "tags": []
          },
          "execution_count": 187
        },
        {
          "output_type": "display_data",
          "data": {
            "image/png": "[encoded data removed]",
            "text/plain": [
              "<Figure size 432x432 with 1 Axes>"
            ]
          },
          "metadata": {
            "tags": [],
            "needs_background": "light"
          }
        }
      ]
    },
    {
      "cell_type": "code",
      "metadata": {
        "id": "Rekm_j8O-V1q"
      },
      "source": [
        "lgb_preds_df = pd.DataFrame(lgb_pred_test)\n",
        "lgb_preds_df.to_csv(\"lgbm_kmeans.csv\")"
      ],
      "id": "Rekm_j8O-V1q",
      "execution_count": 188,
      "outputs": []
    },
    {
      "cell_type": "code",
      "metadata": {
        "id": "hudR7E5iQDao"
      },
      "source": [
        "# perm = PermutationImportance(model_lgbm, random_state=42).fit(X_train, y_train)\n"
      ],
      "id": "hudR7E5iQDao",
      "execution_count": 34,
      "outputs": []
    },
    {
      "cell_type": "code",
      "metadata": {
        "id": "XkyGVjiFXzHz"
      },
      "source": [
        "# eli5.show_weights(perm, feature_names = X_train.columns.tolist())"
      ],
      "id": "XkyGVjiFXzHz",
      "execution_count": 35,
      "outputs": []
    },
    {
      "cell_type": "markdown",
      "metadata": {
        "id": "measured-ecology"
      },
      "source": [
        "### Model : RF"
      ],
      "id": "measured-ecology"
    },
    {
      "cell_type": "code",
      "metadata": {
        "id": "instant-mortality"
      },
      "source": [
        "rf_params = {\n",
        "        'criterion': 'gini',\n",
        "        'n_estimators': 1200,\n",
        "        'min_samples_split': 10,\n",
        "        'min_samples_leaf': 1,\n",
        "        'max_features': 'auto',\n",
        "        'oob_score': True,\n",
        "        'random_state': seed,\n",
        "        'n_jobs': -1,\n",
        "}"
      ],
      "id": "instant-mortality",
      "execution_count": 189,
      "outputs": []
    },
    {
      "cell_type": "code",
      "metadata": {
        "colab": {
          "base_uri": "https://localhost:8080/"
        },
        "id": "phantom-allen",
        "outputId": "c092d1a6-1337-4e65-fdee-e9128a8e0742"
      },
      "source": [
        "\n",
        "\n",
        "skfold = StratifiedKFold(n_splits=n_fold, shuffle=True, random_state=seed)\n",
        "folds=[]\n",
        "for train_idx, valid_idx in skfold.split(X, y):\n",
        "        folds.append((train_idx, valid_idx))\n",
        "\n",
        "\n",
        "rf_pred = np.zeros((X.shape[0], n_class), dtype=float)\n",
        "rf_pred_test = np.zeros((X_test.shape[0], n_class), dtype=float)\n",
        "for fold in range(n_fold):\n",
        "  print(f\"----------------- Fold {fold} -----------------\\n\")\n",
        "  train_idx, valid_idx = folds[fold]\n",
        "  X_train, X_valid, y_train, y_valid = X.iloc[train_idx], X.iloc[valid_idx], y[train_idx], y[valid_idx]\n",
        "  model_rf = RandomForestClassifier(**rf_params)\n",
        "  model_rf.fit(X_train, y_train,)\n",
        "  rf_pred[valid_idx] = model_rf.predict_proba(X_valid)\n",
        "  rf_pred_test += model_rf.predict_proba(X_test) / n_fold\n",
        "  print(f\"CV Log Loss: {log_loss(y_valid, rf_pred[valid_idx]):.6f}\")\n",
        "    \n",
        "print(f'\\tLog Loss: {log_loss(y, rf_pred):.6f}')\n"
      ],
      "id": "phantom-allen",
      "execution_count": 190,
      "outputs": [
        {
          "output_type": "stream",
          "text": [
            "----------------- Fold 0 -----------------\n",
            "\n",
            "CV Log Loss: 0.672218\n",
            "----------------- Fold 1 -----------------\n",
            "\n",
            "CV Log Loss: 0.675461\n",
            "----------------- Fold 2 -----------------\n",
            "\n",
            "CV Log Loss: 0.675813\n",
            "----------------- Fold 3 -----------------\n",
            "\n",
            "CV Log Loss: 0.690654\n",
            "----------------- Fold 4 -----------------\n",
            "\n",
            "CV Log Loss: 0.676310\n",
            "----------------- Fold 5 -----------------\n",
            "\n",
            "CV Log Loss: 0.707307\n",
            "----------------- Fold 6 -----------------\n",
            "\n",
            "CV Log Loss: 0.680024\n",
            "----------------- Fold 7 -----------------\n",
            "\n",
            "CV Log Loss: 0.687225\n",
            "----------------- Fold 8 -----------------\n",
            "\n",
            "CV Log Loss: 0.688357\n",
            "----------------- Fold 9 -----------------\n",
            "\n",
            "CV Log Loss: 0.694342\n",
            "\tLog Loss: 0.684771\n"
          ],
          "name": "stdout"
        }
      ]
    },
    {
      "cell_type": "code",
      "metadata": {
        "id": "WGTnhbTG-iX8"
      },
      "source": [
        "rf_preds_df = pd.DataFrame(rf_pred_test)\n",
        "rf_preds_df.to_csv(\"rf_kmeans.csv\")"
      ],
      "id": "WGTnhbTG-iX8",
      "execution_count": 191,
      "outputs": []
    },
    {
      "cell_type": "markdown",
      "metadata": {
        "id": "legitimate-ladder"
      },
      "source": [
        "### Model : XGB"
      ],
      "id": "legitimate-ladder"
    },
    {
      "cell_type": "code",
      "metadata": {
        "id": "opened-memphis"
      },
      "source": [
        "xgb_params = {\n",
        "        \"random_state\": seed,\n",
        "        \"n_estimators\": 3000,\n",
        "        \"objective\": \"multi:softmax\",\n",
        "        \"eval_metric\": \"mlogloss\",\n",
        "        \"eta\": 0.01,\n",
        "        # \"reg_alpha\": 3e-5,\n",
        "        # \"reg_lambda\": 9e-2,\n",
        "        \"max_depth\": 20,\n",
        "        \"max_leaves\": 256,\n",
        "        \"colsample_bytree\": 0.7,\n",
        "        \"subsample\": 0.5,\n",
        "        \"min_child_weight\": 5,\n",
        "        \"gamma\": 0.5,\n",
        "}"
      ],
      "id": "opened-memphis",
      "execution_count": 194,
      "outputs": []
    },
    {
      "cell_type": "code",
      "metadata": {
        "id": "varied-scratch",
        "colab": {
          "base_uri": "https://localhost:8080/"
        },
        "outputId": "9b3919b2-b105-45a3-b113-795387546a9f"
      },
      "source": [
        "skfold = StratifiedKFold(n_splits=n_fold, shuffle=True, random_state=seed)\n",
        "folds=[]\n",
        "for train_idx, valid_idx in skfold.split(X, y):\n",
        "        folds.append((train_idx, valid_idx))\n",
        "\n",
        "\n",
        "xgb_pred = np.zeros((X.shape[0], n_class), dtype=float)\n",
        "xgb_pred_test = np.zeros((X_test.shape[0], n_class), dtype=float)\n",
        "for fold in range(n_fold):\n",
        "  print(f\"----------------- Fold {fold} -----------------\\n\")\n",
        "  train_idx, valid_idx = folds[fold]\n",
        "  X_train, X_valid, y_train, y_valid = X.iloc[train_idx], X.iloc[valid_idx], y[train_idx], y[valid_idx]\n",
        "  model_xgb = XGBClassifier(**xgb_params)\n",
        "  model_xgb.fit(X_train, y_train,\n",
        "            eval_set=[(X_train, y_train), (X_valid, y_valid)],\n",
        "            early_stopping_rounds=100,\n",
        "            verbose=100,)\n",
        "  xgb_pred[valid_idx] = model_xgb.predict_proba(X_valid)\n",
        "  xgb_pred_test += model_xgb.predict_proba(X_test) / n_fold\n",
        "  print(f\"CV Log Loss: {log_loss(y_valid, xgb_pred[valid_idx]):.6f}\")\n",
        "    \n",
        "print(f'\\tLog Loss: {log_loss(y, xgb_pred):.6f}')\n"
      ],
      "id": "varied-scratch",
      "execution_count": null,
      "outputs": [
        {
          "output_type": "stream",
          "text": [
            "----------------- Fold 0 -----------------\n",
            "\n",
            "[0]\tvalidation_0-mlogloss:1.04193\tvalidation_1-mlogloss:1.04899\n",
            "Multiple eval metrics have been passed: 'validation_1-mlogloss' will be used for early stopping.\n",
            "\n",
            "Will train until validation_1-mlogloss hasn't improved in 100 rounds.\n",
            "[100]\tvalidation_0-mlogloss:0.318342\tvalidation_1-mlogloss:0.682881\n",
            "Stopping. Best iteration:\n",
            "[68]\tvalidation_0-mlogloss:0.379848\tvalidation_1-mlogloss:0.676093\n",
            "\n",
            "CV Log Loss: 0.676094\n",
            "----------------- Fold 1 -----------------\n",
            "\n",
            "[0]\tvalidation_0-mlogloss:1.05148\tvalidation_1-mlogloss:1.05916\n",
            "Multiple eval metrics have been passed: 'validation_1-mlogloss' will be used for early stopping.\n",
            "\n",
            "Will train until validation_1-mlogloss hasn't improved in 100 rounds.\n",
            "[100]\tvalidation_0-mlogloss:0.31774\tvalidation_1-mlogloss:0.687554\n",
            "Stopping. Best iteration:\n",
            "[66]\tvalidation_0-mlogloss:0.386128\tvalidation_1-mlogloss:0.680455\n",
            "\n",
            "CV Log Loss: 0.680454\n",
            "----------------- Fold 2 -----------------\n",
            "\n",
            "[0]\tvalidation_0-mlogloss:1.04936\tvalidation_1-mlogloss:1.05751\n",
            "Multiple eval metrics have been passed: 'validation_1-mlogloss' will be used for early stopping.\n",
            "\n",
            "Will train until validation_1-mlogloss hasn't improved in 100 rounds.\n",
            "[100]\tvalidation_0-mlogloss:0.317548\tvalidation_1-mlogloss:0.701911\n",
            "Stopping. Best iteration:\n",
            "[54]\tvalidation_0-mlogloss:0.417423\tvalidation_1-mlogloss:0.688914\n",
            "\n",
            "CV Log Loss: 0.688913\n",
            "----------------- Fold 3 -----------------\n",
            "\n",
            "[0]\tvalidation_0-mlogloss:1.04897\tvalidation_1-mlogloss:1.05859\n",
            "Multiple eval metrics have been passed: 'validation_1-mlogloss' will be used for early stopping.\n",
            "\n",
            "Will train until validation_1-mlogloss hasn't improved in 100 rounds.\n",
            "[100]\tvalidation_0-mlogloss:0.317755\tvalidation_1-mlogloss:0.712306\n",
            "Stopping. Best iteration:\n",
            "[59]\tvalidation_0-mlogloss:0.404871\tvalidation_1-mlogloss:0.70057\n",
            "\n",
            "CV Log Loss: 0.700570\n",
            "----------------- Fold 4 -----------------\n",
            "\n",
            "[0]\tvalidation_0-mlogloss:1.05035\tvalidation_1-mlogloss:1.05792\n",
            "Multiple eval metrics have been passed: 'validation_1-mlogloss' will be used for early stopping.\n",
            "\n",
            "Will train until validation_1-mlogloss hasn't improved in 100 rounds.\n",
            "[100]\tvalidation_0-mlogloss:0.318819\tvalidation_1-mlogloss:0.696207\n",
            "Stopping. Best iteration:\n",
            "[50]\tvalidation_0-mlogloss:0.435414\tvalidation_1-mlogloss:0.686882\n",
            "\n",
            "CV Log Loss: 0.686882\n",
            "----------------- Fold 5 -----------------\n",
            "\n",
            "[0]\tvalidation_0-mlogloss:1.04847\tvalidation_1-mlogloss:1.05853\n",
            "Multiple eval metrics have been passed: 'validation_1-mlogloss' will be used for early stopping.\n",
            "\n",
            "Will train until validation_1-mlogloss hasn't improved in 100 rounds.\n",
            "[100]\tvalidation_0-mlogloss:0.315928\tvalidation_1-mlogloss:0.730085\n",
            "Stopping. Best iteration:\n",
            "[58]\tvalidation_0-mlogloss:0.405644\tvalidation_1-mlogloss:0.709196\n",
            "\n",
            "CV Log Loss: 0.709196\n",
            "----------------- Fold 6 -----------------\n",
            "\n",
            "[0]\tvalidation_0-mlogloss:1.04923\tvalidation_1-mlogloss:1.05866\n",
            "Multiple eval metrics have been passed: 'validation_1-mlogloss' will be used for early stopping.\n",
            "\n",
            "Will train until validation_1-mlogloss hasn't improved in 100 rounds.\n",
            "[100]\tvalidation_0-mlogloss:0.318077\tvalidation_1-mlogloss:0.700708\n",
            "Stopping. Best iteration:\n",
            "[66]\tvalidation_0-mlogloss:0.385177\tvalidation_1-mlogloss:0.689814\n",
            "\n",
            "CV Log Loss: 0.689815\n",
            "----------------- Fold 7 -----------------\n",
            "\n",
            "[0]\tvalidation_0-mlogloss:1.0492\tvalidation_1-mlogloss:1.05693\n",
            "Multiple eval metrics have been passed: 'validation_1-mlogloss' will be used for early stopping.\n",
            "\n",
            "Will train until validation_1-mlogloss hasn't improved in 100 rounds.\n",
            "[100]\tvalidation_0-mlogloss:0.318705\tvalidation_1-mlogloss:0.710939\n",
            "Stopping. Best iteration:\n",
            "[66]\tvalidation_0-mlogloss:0.385529\tvalidation_1-mlogloss:0.699614\n",
            "\n",
            "CV Log Loss: 0.699613\n",
            "----------------- Fold 8 -----------------\n",
            "\n",
            "[0]\tvalidation_0-mlogloss:1.04922\tvalidation_1-mlogloss:1.05758\n",
            "Multiple eval metrics have been passed: 'validation_1-mlogloss' will be used for early stopping.\n",
            "\n",
            "Will train until validation_1-mlogloss hasn't improved in 100 rounds.\n",
            "[100]\tvalidation_0-mlogloss:0.316776\tvalidation_1-mlogloss:0.711953\n",
            "Stopping. Best iteration:\n",
            "[51]\tvalidation_0-mlogloss:0.431222\tvalidation_1-mlogloss:0.695472\n",
            "\n",
            "CV Log Loss: 0.695471\n",
            "----------------- Fold 9 -----------------\n",
            "\n",
            "[0]\tvalidation_0-mlogloss:1.04866\tvalidation_1-mlogloss:1.05837\n",
            "Multiple eval metrics have been passed: 'validation_1-mlogloss' will be used for early stopping.\n",
            "\n",
            "Will train until validation_1-mlogloss hasn't improved in 100 rounds.\n",
            "[100]\tvalidation_0-mlogloss:0.318067\tvalidation_1-mlogloss:0.710059\n"
          ],
          "name": "stdout"
        }
      ]
    },
    {
      "cell_type": "code",
      "metadata": {
        "id": "RC1xdlu2-l_L"
      },
      "source": [
        "xgb_preds_df = pd.DataFrame(xgb_pred_test)\n",
        "xgb_preds_df.to_csv(\"xgb_kmeans.csv\")"
      ],
      "id": "RC1xdlu2-l_L",
      "execution_count": null,
      "outputs": []
    },
    {
      "cell_type": "markdown",
      "metadata": {
        "id": "substantial-easter"
      },
      "source": [
        "### Model : Catboost"
      ],
      "id": "substantial-easter"
    },
    {
      "cell_type": "code",
      "metadata": {
        "id": "floating-sheffield"
      },
      "source": [
        "cat_params = {\n",
        "        \"l2_leaf_reg\": 0.08,\n",
        "        \"max_depth\": 10,\n",
        "        \"bagging_temperature\": 1,\n",
        "        \"min_data_in_leaf\": 72,\n",
        "        \"max_bin\": 300,\n",
        "        \"random_state\": seed,\n",
        "        \"eval_metric\": \"MultiClass\",\n",
        "        \"loss_function\": \"MultiClass\",\n",
        "        \"learning_rate\": 0.05,\n",
        "        \"od_type\": \"Iter\",\n",
        "        \"od_wait\": 500,\n",
        "        \"n_estimators\": 5000,\n",
        "        \"cat_features\": [\n",
        "            \"income_type\",\n",
        "            \"edu_type\",\n",
        "            \"family_type\",\n",
        "            \"house_type\",\n",
        "            \"occyp_type\",\n",
        "            \"GCR\",\n",
        "            'ID'\n",
        "        ],\n",
        "    }"
      ],
      "id": "floating-sheffield",
      "execution_count": 41,
      "outputs": []
    },
    {
      "cell_type": "code",
      "metadata": {
        "id": "controversial-james",
        "scrolled": false,
        "colab": {
          "base_uri": "https://localhost:8080/"
        },
        "outputId": "f578be38-1ca5-4b98-dab7-58fc0afe8f53"
      },
      "source": [
        "skfold = StratifiedKFold(n_splits=n_fold, shuffle=True, random_state=seed)\n",
        "folds=[]\n",
        "for train_idx, valid_idx in skfold.split(X, y):\n",
        "        folds.append((train_idx, valid_idx))\n",
        "\n",
        "\n",
        "cat_pred = np.zeros((X.shape[0], 3))\n",
        "cat_pred_test = np.zeros((X_test.shape[0], 3))\n",
        "cat_cols = [\n",
        "        'income_type',\n",
        "        'edu_type',\n",
        "        'family_type',\n",
        "        'house_type',\n",
        "        'occyp_type',\n",
        "        'GCR',\n",
        "        'ID'\n",
        "]\n",
        "for fold in range(n_fold):\n",
        "  print(f\"----------------- Fold {fold} -----------------\\n\")\n",
        "  train_idx, valid_idx = folds[fold]\n",
        "  X_train, X_valid, y_train, y_valid = X.iloc[train_idx], X.iloc[valid_idx], y[train_idx], y[valid_idx]\n",
        "  train_data = Pool(data=X_train, label=y_train, cat_features=cat_cols)\n",
        "  valid_data = Pool(data=X_valid, label=y_valid, cat_features=cat_cols)\n",
        "\n",
        "  model_cat = CatBoostClassifier(**cat_params)\n",
        "  model_cat.fit(train_data,\n",
        "            eval_set=valid_data,\n",
        "            use_best_model=True,\n",
        "            early_stopping_rounds=100,\n",
        "            verbose=100,)\n",
        "  cat_pred[valid_idx] = model_cat.predict_proba(X_valid)\n",
        "  cat_pred_test += model_cat.predict_proba(X_test) / n_fold\n",
        "  print(f\"CV Log Loss: {log_loss(y_valid, cat_pred[valid_idx]):.6f}\")\n",
        "    \n",
        "print(f'\\tLog Loss: {log_loss(y, cat_pred):.6f}')\n"
      ],
      "id": "controversial-james",
      "execution_count": 42,
      "outputs": [
        {
          "output_type": "stream",
          "text": [
            "----------------- Fold 0 -----------------\n",
            "\n",
            "0:\tlearn: 1.0870942\ttest: 1.0868182\tbest: 1.0868182 (0)\ttotal: 118ms\tremaining: 9m 49s\n",
            "100:\tlearn: 0.8028972\ttest: 0.8068822\tbest: 0.8068822 (100)\ttotal: 21.5s\tremaining: 17m 21s\n",
            "200:\tlearn: 0.7382715\ttest: 0.7789355\tbest: 0.7789355 (200)\ttotal: 54.3s\tremaining: 21m 35s\n",
            "300:\tlearn: 0.6896341\ttest: 0.7636044\tbest: 0.7636044 (300)\ttotal: 1m 32s\tremaining: 23m 58s\n",
            "400:\tlearn: 0.6480266\ttest: 0.7523953\tbest: 0.7523466 (399)\ttotal: 2m 9s\tremaining: 24m 49s\n",
            "500:\tlearn: 0.5986124\ttest: 0.7372299\tbest: 0.7372299 (500)\ttotal: 2m 48s\tremaining: 25m 15s\n",
            "600:\tlearn: 0.5515168\ttest: 0.7223995\tbest: 0.7223995 (600)\ttotal: 3m 25s\tremaining: 25m 2s\n",
            "700:\tlearn: 0.5088989\ttest: 0.7105260\tbest: 0.7105260 (700)\ttotal: 4m 1s\tremaining: 24m 39s\n",
            "800:\tlearn: 0.4698028\ttest: 0.7019787\tbest: 0.7019763 (799)\ttotal: 4m 37s\tremaining: 24m 12s\n",
            "900:\tlearn: 0.4364800\ttest: 0.6960916\tbest: 0.6960796 (896)\ttotal: 5m 13s\tremaining: 23m 46s\n",
            "1000:\tlearn: 0.4079065\ttest: 0.6935029\tbest: 0.6934751 (996)\ttotal: 5m 50s\tremaining: 23m 18s\n",
            "1100:\tlearn: 0.3794901\ttest: 0.6914795\tbest: 0.6914429 (1096)\ttotal: 6m 26s\tremaining: 22m 48s\n",
            "1200:\tlearn: 0.3556960\ttest: 0.6904199\tbest: 0.6902242 (1156)\ttotal: 7m 3s\tremaining: 22m 18s\n",
            "1300:\tlearn: 0.3347481\ttest: 0.6898637\tbest: 0.6897904 (1297)\ttotal: 7m 39s\tremaining: 21m 45s\n",
            "1400:\tlearn: 0.3149119\ttest: 0.6912056\tbest: 0.6897227 (1307)\ttotal: 8m 15s\tremaining: 21m 12s\n",
            "Stopped by overfitting detector  (100 iterations wait)\n",
            "\n",
            "bestTest = 0.6897227029\n",
            "bestIteration = 1307\n",
            "\n",
            "Shrink model to first 1308 iterations.\n",
            "CV Log Loss: 0.689723\n",
            "----------------- Fold 1 -----------------\n",
            "\n",
            "0:\tlearn: 1.0863896\ttest: 1.0867670\tbest: 1.0867670 (0)\ttotal: 341ms\tremaining: 28m 23s\n",
            "100:\tlearn: 0.7962659\ttest: 0.8110794\tbest: 0.8110794 (100)\ttotal: 22.9s\tremaining: 18m 29s\n",
            "200:\tlearn: 0.7390214\ttest: 0.7866002\tbest: 0.7866002 (200)\ttotal: 56.7s\tremaining: 22m 34s\n",
            "300:\tlearn: 0.6916081\ttest: 0.7708500\tbest: 0.7708500 (300)\ttotal: 1m 33s\tremaining: 24m 17s\n",
            "400:\tlearn: 0.6461209\ttest: 0.7579718\tbest: 0.7579718 (400)\ttotal: 2m 10s\tremaining: 24m 58s\n",
            "500:\tlearn: 0.6018921\ttest: 0.7449526\tbest: 0.7449526 (500)\ttotal: 2m 45s\tremaining: 24m 49s\n",
            "600:\tlearn: 0.5534305\ttest: 0.7313330\tbest: 0.7313330 (600)\ttotal: 3m 22s\tremaining: 24m 42s\n",
            "700:\tlearn: 0.5099405\ttest: 0.7196611\tbest: 0.7196611 (700)\ttotal: 3m 57s\tremaining: 24m 19s\n",
            "800:\tlearn: 0.4705290\ttest: 0.7124364\tbest: 0.7124364 (800)\ttotal: 4m 33s\tremaining: 23m 53s\n",
            "900:\tlearn: 0.4361754\ttest: 0.7080702\tbest: 0.7080702 (900)\ttotal: 5m 10s\tremaining: 23m 30s\n",
            "1000:\tlearn: 0.4066600\ttest: 0.7047190\tbest: 0.7047190 (1000)\ttotal: 5m 46s\tremaining: 23m 3s\n",
            "1100:\tlearn: 0.3804303\ttest: 0.7032663\tbest: 0.7031350 (1079)\ttotal: 6m 22s\tremaining: 22m 35s\n",
            "1200:\tlearn: 0.3549226\ttest: 0.7023089\tbest: 0.7022478 (1199)\ttotal: 6m 59s\tremaining: 22m 6s\n",
            "1300:\tlearn: 0.3325643\ttest: 0.7026261\tbest: 0.7021901 (1221)\ttotal: 7m 35s\tremaining: 21m 35s\n",
            "Stopped by overfitting detector  (100 iterations wait)\n",
            "\n",
            "bestTest = 0.702190078\n",
            "bestIteration = 1221\n",
            "\n",
            "Shrink model to first 1222 iterations.\n",
            "CV Log Loss: 0.702190\n",
            "----------------- Fold 2 -----------------\n",
            "\n",
            "0:\tlearn: 1.0862386\ttest: 1.0866489\tbest: 1.0866489 (0)\ttotal: 338ms\tremaining: 28m 7s\n",
            "100:\tlearn: 0.7887883\ttest: 0.8143256\tbest: 0.8143256 (100)\ttotal: 27.2s\tremaining: 21m 57s\n",
            "200:\tlearn: 0.7376170\ttest: 0.7927193\tbest: 0.7927193 (200)\ttotal: 59.3s\tremaining: 23m 36s\n",
            "300:\tlearn: 0.6880455\ttest: 0.7752170\tbest: 0.7752170 (300)\ttotal: 1m 37s\tremaining: 25m 20s\n",
            "400:\tlearn: 0.6429484\ttest: 0.7589101\tbest: 0.7589101 (400)\ttotal: 2m 13s\tremaining: 25m 36s\n",
            "500:\tlearn: 0.5965643\ttest: 0.7443287\tbest: 0.7443287 (500)\ttotal: 2m 53s\tremaining: 25m 56s\n",
            "600:\tlearn: 0.5494240\ttest: 0.7291803\tbest: 0.7291803 (600)\ttotal: 3m 30s\tremaining: 25m 37s\n",
            "700:\tlearn: 0.5041180\ttest: 0.7151846\tbest: 0.7151846 (700)\ttotal: 4m 5s\tremaining: 25m 7s\n",
            "800:\tlearn: 0.4644732\ttest: 0.7077335\tbest: 0.7077335 (800)\ttotal: 4m 41s\tremaining: 24m 37s\n",
            "900:\tlearn: 0.4300344\ttest: 0.7032909\tbest: 0.7032909 (900)\ttotal: 5m 17s\tremaining: 24m 6s\n",
            "1000:\tlearn: 0.4001339\ttest: 0.7009692\tbest: 0.7008966 (997)\ttotal: 5m 53s\tremaining: 23m 32s\n",
            "1100:\tlearn: 0.3741948\ttest: 0.6992208\tbest: 0.6989959 (1089)\ttotal: 6m 30s\tremaining: 23m 1s\n",
            "1200:\tlearn: 0.3496558\ttest: 0.6984400\tbest: 0.6983456 (1167)\ttotal: 7m 6s\tremaining: 22m 28s\n",
            "Stopped by overfitting detector  (100 iterations wait)\n",
            "\n",
            "bestTest = 0.6983456274\n",
            "bestIteration = 1167\n",
            "\n",
            "Shrink model to first 1168 iterations.\n",
            "CV Log Loss: 0.698346\n",
            "----------------- Fold 3 -----------------\n",
            "\n",
            "0:\tlearn: 1.0862080\ttest: 1.0867806\tbest: 1.0867806 (0)\ttotal: 341ms\tremaining: 28m 24s\n",
            "100:\tlearn: 0.7959720\ttest: 0.8125017\tbest: 0.8125017 (100)\ttotal: 23.8s\tremaining: 19m 14s\n",
            "200:\tlearn: 0.7369310\ttest: 0.7877894\tbest: 0.7877894 (200)\ttotal: 58.5s\tremaining: 23m 16s\n",
            "300:\tlearn: 0.6897307\ttest: 0.7738797\tbest: 0.7738797 (300)\ttotal: 1m 37s\tremaining: 25m 25s\n",
            "400:\tlearn: 0.6424362\ttest: 0.7616336\tbest: 0.7616336 (400)\ttotal: 2m 16s\tremaining: 26m 4s\n",
            "500:\tlearn: 0.5976440\ttest: 0.7489726\tbest: 0.7489726 (500)\ttotal: 2m 55s\tremaining: 26m 13s\n",
            "600:\tlearn: 0.5486290\ttest: 0.7361137\tbest: 0.7361137 (600)\ttotal: 3m 32s\tremaining: 25m 57s\n",
            "700:\tlearn: 0.5051372\ttest: 0.7259504\tbest: 0.7259504 (700)\ttotal: 4m 8s\tremaining: 25m 24s\n",
            "800:\tlearn: 0.4681589\ttest: 0.7209311\tbest: 0.7209311 (800)\ttotal: 4m 45s\tremaining: 24m 54s\n",
            "900:\tlearn: 0.4329244\ttest: 0.7165611\tbest: 0.7165611 (900)\ttotal: 5m 21s\tremaining: 24m 22s\n",
            "1000:\tlearn: 0.4020671\ttest: 0.7143059\tbest: 0.7141088 (994)\ttotal: 5m 57s\tremaining: 23m 50s\n",
            "1100:\tlearn: 0.3754472\ttest: 0.7138452\tbest: 0.7137943 (1094)\ttotal: 6m 33s\tremaining: 23m 15s\n",
            "1200:\tlearn: 0.3505935\ttest: 0.7147667\tbest: 0.7134687 (1135)\ttotal: 7m 11s\tremaining: 22m 43s\n",
            "Stopped by overfitting detector  (100 iterations wait)\n",
            "\n",
            "bestTest = 0.7134686526\n",
            "bestIteration = 1135\n",
            "\n",
            "Shrink model to first 1136 iterations.\n",
            "CV Log Loss: 0.713469\n",
            "----------------- Fold 4 -----------------\n",
            "\n",
            "0:\tlearn: 1.0862312\ttest: 1.0866427\tbest: 1.0866427 (0)\ttotal: 331ms\tremaining: 27m 36s\n",
            "100:\tlearn: 0.7993575\ttest: 0.8083143\tbest: 0.8083143 (100)\ttotal: 21.8s\tremaining: 17m 39s\n",
            "200:\tlearn: 0.7401227\ttest: 0.7821810\tbest: 0.7821810 (200)\ttotal: 56.8s\tremaining: 22m 35s\n",
            "300:\tlearn: 0.6882426\ttest: 0.7649683\tbest: 0.7649683 (300)\ttotal: 1m 35s\tremaining: 24m 52s\n",
            "400:\tlearn: 0.6406786\ttest: 0.7502244\tbest: 0.7502244 (400)\ttotal: 2m 14s\tremaining: 25m 39s\n",
            "500:\tlearn: 0.5966175\ttest: 0.7371833\tbest: 0.7371833 (500)\ttotal: 2m 52s\tremaining: 25m 49s\n",
            "600:\tlearn: 0.5481907\ttest: 0.7235419\tbest: 0.7235419 (600)\ttotal: 3m 29s\tremaining: 25m 34s\n",
            "700:\tlearn: 0.5035236\ttest: 0.7128852\tbest: 0.7128852 (700)\ttotal: 4m 4s\tremaining: 25m\n",
            "800:\tlearn: 0.4660229\ttest: 0.7064689\tbest: 0.7064689 (800)\ttotal: 4m 40s\tremaining: 24m 30s\n",
            "900:\tlearn: 0.4338601\ttest: 0.7018925\tbest: 0.7018925 (900)\ttotal: 5m 17s\tremaining: 24m 3s\n",
            "1000:\tlearn: 0.4036399\ttest: 0.6995716\tbest: 0.6995386 (997)\ttotal: 5m 53s\tremaining: 23m 31s\n",
            "1100:\tlearn: 0.3775134\ttest: 0.6982534\tbest: 0.6981692 (1095)\ttotal: 6m 29s\tremaining: 22m 59s\n",
            "1200:\tlearn: 0.3546450\ttest: 0.6984975\tbest: 0.6979098 (1114)\ttotal: 7m 6s\tremaining: 22m 30s\n",
            "Stopped by overfitting detector  (100 iterations wait)\n",
            "\n",
            "bestTest = 0.6979098176\n",
            "bestIteration = 1114\n",
            "\n",
            "Shrink model to first 1115 iterations.\n",
            "CV Log Loss: 0.697910\n",
            "----------------- Fold 5 -----------------\n",
            "\n",
            "0:\tlearn: 1.0862226\ttest: 1.0868619\tbest: 1.0868619 (0)\ttotal: 341ms\tremaining: 28m 22s\n",
            "100:\tlearn: 0.7983225\ttest: 0.8175375\tbest: 0.8175375 (100)\ttotal: 20.8s\tremaining: 16m 47s\n",
            "200:\tlearn: 0.7389823\ttest: 0.7904333\tbest: 0.7904333 (200)\ttotal: 53.8s\tremaining: 21m 23s\n",
            "300:\tlearn: 0.6914074\ttest: 0.7738083\tbest: 0.7738083 (300)\ttotal: 1m 31s\tremaining: 23m 52s\n",
            "400:\tlearn: 0.6514292\ttest: 0.7626082\tbest: 0.7626082 (400)\ttotal: 2m 10s\tremaining: 24m 51s\n",
            "500:\tlearn: 0.6050365\ttest: 0.7492719\tbest: 0.7492719 (500)\ttotal: 2m 48s\tremaining: 25m 10s\n",
            "600:\tlearn: 0.5541268\ttest: 0.7367104\tbest: 0.7367104 (600)\ttotal: 3m 25s\tremaining: 25m 2s\n",
            "700:\tlearn: 0.5053101\ttest: 0.7265177\tbest: 0.7265177 (700)\ttotal: 4m\tremaining: 24m 37s\n",
            "800:\tlearn: 0.4657777\ttest: 0.7205586\tbest: 0.7205586 (800)\ttotal: 4m 36s\tremaining: 24m 10s\n",
            "900:\tlearn: 0.4312646\ttest: 0.7172937\tbest: 0.7172937 (900)\ttotal: 5m 13s\tremaining: 23m 44s\n",
            "1000:\tlearn: 0.4020072\ttest: 0.7156421\tbest: 0.7156326 (999)\ttotal: 5m 49s\tremaining: 23m 17s\n",
            "1100:\tlearn: 0.3746029\ttest: 0.7146677\tbest: 0.7146045 (1096)\ttotal: 6m 25s\tremaining: 22m 46s\n",
            "Stopped by overfitting detector  (100 iterations wait)\n",
            "\n",
            "bestTest = 0.7146045319\n",
            "bestIteration = 1096\n",
            "\n",
            "Shrink model to first 1097 iterations.\n",
            "CV Log Loss: 0.714605\n",
            "----------------- Fold 6 -----------------\n",
            "\n",
            "0:\tlearn: 1.0862921\ttest: 1.0865880\tbest: 1.0865880 (0)\ttotal: 340ms\tremaining: 28m 18s\n",
            "100:\tlearn: 0.7980306\ttest: 0.8143966\tbest: 0.8143966 (100)\ttotal: 22.2s\tremaining: 17m 55s\n",
            "200:\tlearn: 0.7354212\ttest: 0.7905685\tbest: 0.7905685 (200)\ttotal: 56.7s\tremaining: 22m 32s\n",
            "300:\tlearn: 0.6846923\ttest: 0.7759404\tbest: 0.7759404 (300)\ttotal: 1m 34s\tremaining: 24m 37s\n",
            "400:\tlearn: 0.6433800\ttest: 0.7635700\tbest: 0.7635700 (400)\ttotal: 2m 12s\tremaining: 25m 14s\n",
            "500:\tlearn: 0.5976557\ttest: 0.7513633\tbest: 0.7513633 (500)\ttotal: 2m 49s\tremaining: 25m 24s\n",
            "600:\tlearn: 0.5490415\ttest: 0.7355490\tbest: 0.7355490 (600)\ttotal: 3m 26s\tremaining: 25m 8s\n",
            "700:\tlearn: 0.5058763\ttest: 0.7232115\tbest: 0.7231940 (699)\ttotal: 4m 1s\tremaining: 24m 42s\n",
            "800:\tlearn: 0.4658365\ttest: 0.7151533\tbest: 0.7151504 (798)\ttotal: 4m 38s\tremaining: 24m 18s\n",
            "900:\tlearn: 0.4321145\ttest: 0.7103339\tbest: 0.7103283 (899)\ttotal: 5m 14s\tremaining: 23m 51s\n",
            "1000:\tlearn: 0.4019075\ttest: 0.7066107\tbest: 0.7064845 (998)\ttotal: 5m 50s\tremaining: 23m 21s\n",
            "1100:\tlearn: 0.3733888\ttest: 0.7053772\tbest: 0.7053262 (1095)\ttotal: 6m 27s\tremaining: 22m 53s\n",
            "1200:\tlearn: 0.3493235\ttest: 0.7051748\tbest: 0.7049295 (1153)\ttotal: 7m 4s\tremaining: 22m 21s\n",
            "Stopped by overfitting detector  (100 iterations wait)\n",
            "\n",
            "bestTest = 0.7049295069\n",
            "bestIteration = 1153\n",
            "\n",
            "Shrink model to first 1154 iterations.\n",
            "CV Log Loss: 0.704930\n",
            "----------------- Fold 7 -----------------\n",
            "\n",
            "0:\tlearn: 1.0862940\ttest: 1.0866296\tbest: 1.0866296 (0)\ttotal: 330ms\tremaining: 27m 29s\n",
            "100:\tlearn: 0.7978863\ttest: 0.8117477\tbest: 0.8117477 (100)\ttotal: 24.5s\tremaining: 19m 49s\n",
            "200:\tlearn: 0.7392108\ttest: 0.7867894\tbest: 0.7867894 (200)\ttotal: 1m\tremaining: 23m 58s\n",
            "300:\tlearn: 0.6849959\ttest: 0.7683082\tbest: 0.7683082 (300)\ttotal: 1m 37s\tremaining: 25m 25s\n",
            "400:\tlearn: 0.6361597\ttest: 0.7523872\tbest: 0.7523872 (400)\ttotal: 2m 14s\tremaining: 25m 44s\n",
            "500:\tlearn: 0.5953983\ttest: 0.7419100\tbest: 0.7419100 (500)\ttotal: 2m 54s\tremaining: 26m 6s\n",
            "600:\tlearn: 0.5458740\ttest: 0.7282322\tbest: 0.7282322 (600)\ttotal: 3m 30s\tremaining: 25m 42s\n",
            "700:\tlearn: 0.5022439\ttest: 0.7185179\tbest: 0.7185179 (700)\ttotal: 4m 7s\tremaining: 25m 16s\n",
            "800:\tlearn: 0.4650746\ttest: 0.7109113\tbest: 0.7109113 (800)\ttotal: 4m 42s\tremaining: 24m 41s\n",
            "900:\tlearn: 0.4306047\ttest: 0.7074024\tbest: 0.7073789 (899)\ttotal: 5m 18s\tremaining: 24m 11s\n",
            "1000:\tlearn: 0.4008314\ttest: 0.7048333\tbest: 0.7048072 (989)\ttotal: 5m 55s\tremaining: 23m 40s\n",
            "1100:\tlearn: 0.3739532\ttest: 0.7039859\tbest: 0.7038028 (1085)\ttotal: 6m 32s\tremaining: 23m 8s\n",
            "Stopped by overfitting detector  (100 iterations wait)\n",
            "\n",
            "bestTest = 0.7038027686\n",
            "bestIteration = 1085\n",
            "\n",
            "Shrink model to first 1086 iterations.\n",
            "CV Log Loss: 0.703803\n",
            "----------------- Fold 8 -----------------\n",
            "\n",
            "0:\tlearn: 1.0862681\ttest: 1.0867599\tbest: 1.0867599 (0)\ttotal: 332ms\tremaining: 27m 38s\n",
            "100:\tlearn: 0.7987472\ttest: 0.8144151\tbest: 0.8144151 (100)\ttotal: 22.8s\tremaining: 18m 23s\n",
            "200:\tlearn: 0.7348455\ttest: 0.7877498\tbest: 0.7877498 (200)\ttotal: 58.9s\tremaining: 23m 25s\n",
            "300:\tlearn: 0.6868695\ttest: 0.7730168\tbest: 0.7730168 (300)\ttotal: 1m 38s\tremaining: 25m 30s\n",
            "400:\tlearn: 0.6389753\ttest: 0.7579513\tbest: 0.7579513 (400)\ttotal: 2m 15s\tremaining: 25m 55s\n",
            "500:\tlearn: 0.5986508\ttest: 0.7469565\tbest: 0.7469565 (500)\ttotal: 2m 54s\tremaining: 26m 3s\n",
            "600:\tlearn: 0.5469196\ttest: 0.7301352\tbest: 0.7301352 (600)\ttotal: 3m 30s\tremaining: 25m 42s\n",
            "700:\tlearn: 0.5037923\ttest: 0.7203140\tbest: 0.7203140 (700)\ttotal: 4m 6s\tremaining: 25m 14s\n",
            "800:\tlearn: 0.4651307\ttest: 0.7131068\tbest: 0.7131068 (800)\ttotal: 4m 43s\tremaining: 24m 45s\n",
            "900:\tlearn: 0.4322044\ttest: 0.7082916\tbest: 0.7082916 (900)\ttotal: 5m 19s\tremaining: 24m 14s\n",
            "1000:\tlearn: 0.4023777\ttest: 0.7060684\tbest: 0.7060583 (999)\ttotal: 5m 56s\tremaining: 23m 42s\n",
            "1100:\tlearn: 0.3771191\ttest: 0.7052023\tbest: 0.7051500 (1093)\ttotal: 6m 32s\tremaining: 23m 11s\n",
            "Stopped by overfitting detector  (100 iterations wait)\n",
            "\n",
            "bestTest = 0.7051500308\n",
            "bestIteration = 1093\n",
            "\n",
            "Shrink model to first 1094 iterations.\n",
            "CV Log Loss: 0.705150\n",
            "----------------- Fold 9 -----------------\n",
            "\n",
            "0:\tlearn: 1.0868454\ttest: 1.0867375\tbest: 1.0867375 (0)\ttotal: 331ms\tremaining: 27m 32s\n",
            "100:\tlearn: 0.7968942\ttest: 0.8006738\tbest: 0.8006738 (100)\ttotal: 23.5s\tremaining: 18m 59s\n",
            "200:\tlearn: 0.7358804\ttest: 0.7741644\tbest: 0.7741644 (200)\ttotal: 56.4s\tremaining: 22m 25s\n",
            "300:\tlearn: 0.6833891\ttest: 0.7560134\tbest: 0.7560134 (300)\ttotal: 1m 33s\tremaining: 24m 19s\n",
            "400:\tlearn: 0.6352127\ttest: 0.7430884\tbest: 0.7430884 (400)\ttotal: 2m 12s\tremaining: 25m 16s\n",
            "500:\tlearn: 0.5902484\ttest: 0.7306346\tbest: 0.7306346 (500)\ttotal: 2m 50s\tremaining: 25m 29s\n",
            "600:\tlearn: 0.5420921\ttest: 0.7182615\tbest: 0.7182615 (600)\ttotal: 3m 27s\tremaining: 25m 18s\n",
            "700:\tlearn: 0.5006903\ttest: 0.7094581\tbest: 0.7094581 (700)\ttotal: 4m 3s\tremaining: 24m 51s\n",
            "800:\tlearn: 0.4620375\ttest: 0.7042772\tbest: 0.7042772 (800)\ttotal: 4m 38s\tremaining: 24m 21s\n",
            "900:\tlearn: 0.4296895\ttest: 0.7013952\tbest: 0.7013952 (900)\ttotal: 5m 15s\tremaining: 23m 57s\n",
            "1000:\tlearn: 0.4000263\ttest: 0.6999388\tbest: 0.6998073 (942)\ttotal: 5m 52s\tremaining: 23m 28s\n",
            "Stopped by overfitting detector  (100 iterations wait)\n",
            "\n",
            "bestTest = 0.6998072576\n",
            "bestIteration = 942\n",
            "\n",
            "Shrink model to first 943 iterations.\n",
            "CV Log Loss: 0.699807\n",
            "\tLog Loss: 0.702993\n"
          ],
          "name": "stdout"
        }
      ]
    },
    {
      "cell_type": "code",
      "metadata": {
        "id": "Imd3hEFY-oM7"
      },
      "source": [
        "cat_preds_df = pd.DataFrame(cat_pred_test)\n",
        "cat_preds_df.to_csv(\"cat_kmeans.csv\")"
      ],
      "id": "Imd3hEFY-oM7",
      "execution_count": null,
      "outputs": []
    },
    {
      "cell_type": "code",
      "metadata": {
        "id": "greatest-centre"
      },
      "source": [
        "\n",
        "\n",
        "sub = pd.read_csv(path + 'sample_submission.csv')\n",
        "sub.iloc[:, 1:] = (\n",
        "    lgb_pred_test * 0.5\n",
        "    + xgb_pred_test * 0.2\n",
        "         #+ cat_preds * 0.05\n",
        "+ rf_pred_test * 0.3\n",
        ")\n",
        "\n"
      ],
      "id": "greatest-centre",
      "execution_count": 192,
      "outputs": []
    },
    {
      "cell_type": "code",
      "metadata": {
        "id": "surgical-omaha",
        "colab": {
          "base_uri": "https://localhost:8080/",
          "height": 419
        },
        "outputId": "d1c91216-1b5d-4a81-f92d-a7ff36cb6569"
      },
      "source": [
        "sub"
      ],
      "id": "surgical-omaha",
      "execution_count": 47,
      "outputs": [
        {
          "output_type": "execute_result",
          "data": {
            "text/html": [
              "<div>\n",
              "<style scoped>\n",
              "    .dataframe tbody tr th:only-of-type {\n",
              "        vertical-align: middle;\n",
              "    }\n",
              "\n",
              "    .dataframe tbody tr th {\n",
              "        vertical-align: top;\n",
              "    }\n",
              "\n",
              "    .dataframe thead th {\n",
              "        text-align: right;\n",
              "    }\n",
              "</style>\n",
              "<table border=\"1\" class=\"dataframe\">\n",
              "  <thead>\n",
              "    <tr style=\"text-align: right;\">\n",
              "      <th></th>\n",
              "      <th>index</th>\n",
              "      <th>0</th>\n",
              "      <th>1</th>\n",
              "      <th>2</th>\n",
              "    </tr>\n",
              "  </thead>\n",
              "  <tbody>\n",
              "    <tr>\n",
              "      <th>0</th>\n",
              "      <td>26457</td>\n",
              "      <td>0.097152</td>\n",
              "      <td>0.226657</td>\n",
              "      <td>0.676191</td>\n",
              "    </tr>\n",
              "    <tr>\n",
              "      <th>1</th>\n",
              "      <td>26458</td>\n",
              "      <td>0.310147</td>\n",
              "      <td>0.278599</td>\n",
              "      <td>0.411253</td>\n",
              "    </tr>\n",
              "    <tr>\n",
              "      <th>2</th>\n",
              "      <td>26459</td>\n",
              "      <td>0.040656</td>\n",
              "      <td>0.068961</td>\n",
              "      <td>0.890383</td>\n",
              "    </tr>\n",
              "    <tr>\n",
              "      <th>3</th>\n",
              "      <td>26460</td>\n",
              "      <td>0.071918</td>\n",
              "      <td>0.077470</td>\n",
              "      <td>0.850612</td>\n",
              "    </tr>\n",
              "    <tr>\n",
              "      <th>4</th>\n",
              "      <td>26461</td>\n",
              "      <td>0.085618</td>\n",
              "      <td>0.170302</td>\n",
              "      <td>0.744081</td>\n",
              "    </tr>\n",
              "    <tr>\n",
              "      <th>...</th>\n",
              "      <td>...</td>\n",
              "      <td>...</td>\n",
              "      <td>...</td>\n",
              "      <td>...</td>\n",
              "    </tr>\n",
              "    <tr>\n",
              "      <th>9995</th>\n",
              "      <td>36452</td>\n",
              "      <td>0.072088</td>\n",
              "      <td>0.228379</td>\n",
              "      <td>0.699533</td>\n",
              "    </tr>\n",
              "    <tr>\n",
              "      <th>9996</th>\n",
              "      <td>36453</td>\n",
              "      <td>0.297233</td>\n",
              "      <td>0.290037</td>\n",
              "      <td>0.412730</td>\n",
              "    </tr>\n",
              "    <tr>\n",
              "      <th>9997</th>\n",
              "      <td>36454</td>\n",
              "      <td>0.028940</td>\n",
              "      <td>0.135317</td>\n",
              "      <td>0.835744</td>\n",
              "    </tr>\n",
              "    <tr>\n",
              "      <th>9998</th>\n",
              "      <td>36455</td>\n",
              "      <td>0.210486</td>\n",
              "      <td>0.420851</td>\n",
              "      <td>0.368662</td>\n",
              "    </tr>\n",
              "    <tr>\n",
              "      <th>9999</th>\n",
              "      <td>36456</td>\n",
              "      <td>0.102084</td>\n",
              "      <td>0.265963</td>\n",
              "      <td>0.631953</td>\n",
              "    </tr>\n",
              "  </tbody>\n",
              "</table>\n",
              "<p>10000 rows × 4 columns</p>\n",
              "</div>"
            ],
            "text/plain": [
              "      index         0         1         2\n",
              "0     26457  0.097152  0.226657  0.676191\n",
              "1     26458  0.310147  0.278599  0.411253\n",
              "2     26459  0.040656  0.068961  0.890383\n",
              "3     26460  0.071918  0.077470  0.850612\n",
              "4     26461  0.085618  0.170302  0.744081\n",
              "...     ...       ...       ...       ...\n",
              "9995  36452  0.072088  0.228379  0.699533\n",
              "9996  36453  0.297233  0.290037  0.412730\n",
              "9997  36454  0.028940  0.135317  0.835744\n",
              "9998  36455  0.210486  0.420851  0.368662\n",
              "9999  36456  0.102084  0.265963  0.631953\n",
              "\n",
              "[10000 rows x 4 columns]"
            ]
          },
          "metadata": {
            "tags": []
          },
          "execution_count": 47
        }
      ]
    },
    {
      "cell_type": "code",
      "metadata": {
        "id": "equal-weapon"
      },
      "source": [
        "sub.to_csv('submission0508_AddID_2models.csv', index=False)"
      ],
      "id": "equal-weapon",
      "execution_count": 193,
      "outputs": []
    },
    {
      "cell_type": "code",
      "metadata": {
        "id": "spoken-blink"
      },
      "source": [
        ""
      ],
      "id": "spoken-blink",
      "execution_count": null,
      "outputs": []
    }
  ]
}